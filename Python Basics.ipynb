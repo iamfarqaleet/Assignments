{
 "cells": [
  {
   "cell_type": "markdown",
   "id": "7e241228",
   "metadata": {},
   "source": [
    "### Python Basics Theoretical Questions"
   ]
  },
  {
   "cell_type": "markdown",
   "id": "6c81f42a",
   "metadata": {},
   "source": [
    "Q1. What is Python, and why is it popular ?\n",
    "- Python is a high-level, interpreted programming language known for its simplicity and readability.\n",
    "* It is popular due to:\n",
    "* Easy Syntax.\n",
    "* Extensive Standard Library.\n",
    "* Great community Support.\n",
    "* Used in web dev, data analyst, AI, automatic etc."
   ]
  },
  {
   "cell_type": "markdown",
   "id": "32c9dbd5",
   "metadata": {},
   "source": [
    "Q2. What is an interpreter in Python?\n",
    "- An interpreter reads and executes Python code line by line. Unlike compiled languages, Python doesn't need to compiled first - the interpreter handles that during runtine."
   ]
  },
  {
   "cell_type": "markdown",
   "id": "49975ba0",
   "metadata": {},
   "source": [
    "Q3. What are pre-defined keywords in Python?\n",
    "- keywords are reserved words in Python that have special meaning.\n",
    "- We cannot use them as variable names because they are part of the syntax rules."
   ]
  },
  {
   "cell_type": "markdown",
   "id": "b9555547",
   "metadata": {},
   "source": [
    "Q4. Can keyword be used as variable names?\n",
    "- No, Python will throw a SyntaxError if you try to use a keyword as a variable name.\n",
    "- e.g., `if = 10`"
   ]
  },
  {
   "cell_type": "markdown",
   "id": "92e99176",
   "metadata": {},
   "source": [
    "Q5. What is mutability in Python?\n",
    "- Mutability refers to whether an object's value can change after it's created.\n",
    "- e.g., list,dictionaries etc."
   ]
  },
  {
   "cell_type": "markdown",
   "id": "9668afb0",
   "metadata": {},
   "source": [
    "Q6. Why are lists mutable, but tuples are immutable?\n",
    "- Lists are meant to flexible, dynamic container. We use them when we need to modify, reorder or grow/shrink our data\n",
    "- Tuples are meant to be fixed, ordered collection. Often used for records or grouped data that shouldn't change."
   ]
  },
  {
   "cell_type": "markdown",
   "id": "287d8e6f",
   "metadata": {},
   "source": [
    "Q7. What is the difference between `==` and `is` in Python?\n",
    "- `==` It is a Comparision Operator and Compares two values.\n",
    "- `is` It is an Identity Operator and Compares the location of two objects/variables."
   ]
  },
  {
   "cell_type": "markdown",
   "id": "70808738",
   "metadata": {},
   "source": [
    "Q8. What are logical operators in Python?\n",
    "- Logical operators are used to combine conditional statements:\n",
    "- e.g., and, or and not"
   ]
  },
  {
   "cell_type": "markdown",
   "id": "0c0a0cba",
   "metadata": {},
   "source": [
    "Q9. What is type casting in Python?\n",
    "- The process of changing the datatype of value/object.\n",
    "- e.g., `int(\"5\")`"
   ]
  },
  {
   "cell_type": "markdown",
   "id": "49581573",
   "metadata": {},
   "source": [
    "Q10. What is the difference between implicit and explicit type casting?\n",
    "- Implicit: Python automatically converts types when needed.\n",
    "- Explicit: Manually convert data types using functions like `int(),float(),str()` etc"
   ]
  },
  {
   "cell_type": "markdown",
   "id": "91b19e46",
   "metadata": {},
   "source": [
    "Q11. What is the purpose of conditional statements in Python?\n",
    "- They control the flow of execution by running different block of code based on conditon\n",
    "- e.g., `if,elif,else`."
   ]
  },
  {
   "cell_type": "markdown",
   "id": "c9a840dd",
   "metadata": {},
   "source": [
    "Q12. How does the elif statement work?\n",
    "- elif stands for `else if`. It allows us to check mulitple condtions after and `if`."
   ]
  },
  {
   "cell_type": "markdown",
   "id": "17186f81",
   "metadata": {},
   "source": [
    "Q13. What is the difference between `for` and `while` loops?\n",
    "- `for`: Iterates over a sequence of elements.\n",
    "- `while`: repeatedly executed a block of code until a condition is met."
   ]
  },
  {
   "cell_type": "markdown",
   "id": "822f7efa",
   "metadata": {},
   "source": [
    "Q14. Describe a scenario where a `while` loop is more suitable than a `for` loop.\n",
    "- When we don't know how many times to loop and number of iterations is unknown\n",
    "- For example, consider a scenario where we're building a login system that repeatedly prompts the user to enter the correct password. Since we don't know how many attempts the user will take to enter the correct password, a while loop is ideal. It will keep running until the correct password is provided"
   ]
  },
  {
   "cell_type": "markdown",
   "id": "3b31ea04",
   "metadata": {},
   "source": [
    "### Python Basics Practical Questions"
   ]
  },
  {
   "cell_type": "code",
   "execution_count": null,
   "id": "bb9945be",
   "metadata": {},
   "outputs": [
    {
     "name": "stdout",
     "output_type": "stream",
     "text": [
      "Hello, World!\n"
     ]
    }
   ],
   "source": [
    "# Q1. Write a Python program to print \"Hello, World!\"\n",
    "print(\"Hello, World!\")"
   ]
  },
  {
   "cell_type": "code",
   "execution_count": 8,
   "id": "d42d2195",
   "metadata": {},
   "outputs": [
    {
     "name": "stdout",
     "output_type": "stream",
     "text": [
      "My name is Farqaleet Shadani and i'm 20 years old\n"
     ]
    }
   ],
   "source": [
    "# Q2. Write a Python program that displays your name and age.\n",
    "name = \"Farqaleet Shadani\"\n",
    "age = \"20\"\n",
    "print(f\"My name is {name} and i'm {age} years old\")"
   ]
  },
  {
   "cell_type": "code",
   "execution_count": 9,
   "id": "1caa5d01",
   "metadata": {},
   "outputs": [
    {
     "name": "stdout",
     "output_type": "stream",
     "text": [
      "\n",
      "Here is a list of the Python keywords.  Enter any keyword to get more help.\n",
      "\n",
      "False               class               from                or\n",
      "None                continue            global              pass\n",
      "True                def                 if                  raise\n",
      "and                 del                 import              return\n",
      "as                  elif                in                  try\n",
      "assert              else                is                  while\n",
      "async               except              lambda              with\n",
      "await               finally             nonlocal            yield\n",
      "break               for                 not                 \n",
      "\n"
     ]
    }
   ],
   "source": [
    "# Q3. Write code to print all the pre-defined keywords in Python using the keyword library.\n",
    "help(\"keywords\")"
   ]
  },
  {
   "cell_type": "code",
   "execution_count": 16,
   "id": "850f0622",
   "metadata": {},
   "outputs": [
    {
     "name": "stdout",
     "output_type": "stream",
     "text": [
      "It is a Python keyword\n"
     ]
    }
   ],
   "source": [
    "# Q4. Write a program that checks if a given word is a Python keyword.\n",
    "import keyword\n",
    "\n",
    "word = input(\"Enter a word:\")\n",
    "if keyword.iskeyword(word):\n",
    "    print(\"It is a Python keyword\")\n",
    "else:\n",
    "    print(\"It is not a Python keyword\")"
   ]
  },
  {
   "cell_type": "code",
   "execution_count": null,
   "id": "b954883d",
   "metadata": {},
   "outputs": [
    {
     "name": "stdout",
     "output_type": "stream",
     "text": [
      "[2, 2, 3, 4, 5]\n"
     ]
    }
   ],
   "source": [
    "# Q5. Create a list and tuple in Python, and demonstrate how attempting to change an element works differently for each.\n",
    "l = [1, 2, 3, 4, 5]\n",
    "l[0] = 2\n",
    "print(l)"
   ]
  },
  {
   "cell_type": "code",
   "execution_count": 21,
   "id": "fa820822",
   "metadata": {},
   "outputs": [
    {
     "ename": "TypeError",
     "evalue": "'tuple' object does not support item assignment",
     "output_type": "error",
     "traceback": [
      "\u001b[31m---------------------------------------------------------------------------\u001b[39m",
      "\u001b[31mTypeError\u001b[39m                                 Traceback (most recent call last)",
      "\u001b[36mCell\u001b[39m\u001b[36m \u001b[39m\u001b[32mIn[21]\u001b[39m\u001b[32m, line 2\u001b[39m\n\u001b[32m      1\u001b[39m t = (\u001b[32m1\u001b[39m, \u001b[32m2\u001b[39m, \u001b[32m3\u001b[39m, \u001b[32m4\u001b[39m, \u001b[32m5\u001b[39m)\n\u001b[32m----> \u001b[39m\u001b[32m2\u001b[39m \u001b[43mt\u001b[49m\u001b[43m[\u001b[49m\u001b[32;43m0\u001b[39;49m\u001b[43m]\u001b[49m = \u001b[32m2\u001b[39m\n\u001b[32m      3\u001b[39m \u001b[38;5;28mprint\u001b[39m(t)\n\u001b[32m      5\u001b[39m \u001b[38;5;66;03m# List update without any error but tuple gives error\u001b[39;00m\n\u001b[32m      6\u001b[39m \u001b[38;5;66;03m# because list are mutable and tuple are immutable\u001b[39;00m\n",
      "\u001b[31mTypeError\u001b[39m: 'tuple' object does not support item assignment"
     ]
    }
   ],
   "source": [
    "t = (1, 2, 3, 4, 5)\n",
    "t[0] = 2\n",
    "print(t)\n",
    "\n",
    "# List update without any error but tuple gives error\n",
    "# because list are mutable and tuple are immutable"
   ]
  },
  {
   "cell_type": "code",
   "execution_count": 1,
   "id": "12ab72a4",
   "metadata": {},
   "outputs": [
    {
     "name": "stdout",
     "output_type": "stream",
     "text": [
      "Inside function:\n",
      "num = 15\n",
      "my_list = [1, 2, 3, 4]\n",
      "\n",
      "Outside function:\n",
      "x = 5\n",
      "lst = [1, 2, 3, 4]\n"
     ]
    }
   ],
   "source": [
    "# Q6. Write a function to demonstrate the behavior of mutable and immutable arguments.\n",
    "def demo_behavior(num, my_list):\n",
    "    num += 10\n",
    "    my_list.append(4)\n",
    "    print(\"Inside function:\")\n",
    "    print(\"num =\", num)\n",
    "    print(\"my_list =\", my_list)\n",
    "\n",
    "\n",
    "x = 5\n",
    "lst = [1, 2, 3]\n",
    "demo_behavior(x, lst)\n",
    "\n",
    "print(\"\\nOutside function:\")\n",
    "print(\"x =\", x)\n",
    "print(\"lst =\", lst)"
   ]
  },
  {
   "cell_type": "code",
   "execution_count": 23,
   "id": "ab8a9d9e",
   "metadata": {},
   "outputs": [
    {
     "name": "stdout",
     "output_type": "stream",
     "text": [
      "50 + 25 = 75\n",
      "50 - 25 = 25\n",
      "50 * 25 = 1250\n",
      "50 ** 25 = 2980232238769531250000000000000000000000000\n",
      "50 / 25 = 2.0\n",
      "50 // 25 = 2\n",
      "50 % 25 = 0\n"
     ]
    }
   ],
   "source": [
    "# Q7. Write a program that performs basic arithmetic operations on two user-input numbers.\n",
    "num1 = int(input(\"Enter a 1st number:\"))\n",
    "num2 = int(input(\"Enter a 2nd number:\"))\n",
    "print(f\"{num1} + {num2} = {num1 + num2}\")\n",
    "print(f\"{num1} - {num2} = {num1 - num2}\")\n",
    "print(f\"{num1} * {num2} = {num1 * num2}\")\n",
    "print(f\"{num1} ** {num2} = {num1 ** num2}\")\n",
    "print(f\"{num1} / {num2} = {num1 / num2}\")\n",
    "print(f\"{num1} // {num2} = {num1 // num2}\")\n",
    "print(f\"{num1} % {num2} = {num1 % num2}\")"
   ]
  },
  {
   "cell_type": "code",
   "execution_count": 27,
   "id": "0781bd27",
   "metadata": {},
   "outputs": [
    {
     "name": "stdout",
     "output_type": "stream",
     "text": [
      "AND Operator\n",
      "True and True =  True\n",
      "True and False =  False\n",
      "False and True =  False\n",
      "False and False =  False\n",
      "\n",
      "OR Operator\n",
      "True or True =  True\n",
      "True or False =  True\n",
      "False or True =  True\n",
      "False or False =  False\n",
      "\n",
      "NOT Operator\n",
      "not True =  False\n",
      "not False =  True\n"
     ]
    }
   ],
   "source": [
    "# Q8. Write a program to demonstrate the use of logical operators.\n",
    "print(\"AND Operator\")\n",
    "print(\"True and True = \", True and True)\n",
    "print(\"True and False = \", True and False)\n",
    "print(\"False and True = \", False and True)\n",
    "print(\"False and False = \", False and False)\n",
    "print(\"\\nOR Operator\")\n",
    "print(\"True or True = \", True or True)\n",
    "print(\"True or False = \", True or False)\n",
    "print(\"False or True = \", False or True)\n",
    "print(\"False or False = \", False or False)\n",
    "print(\"\\nNOT Operator\")\n",
    "print(\"not True = \", not True)\n",
    "print(\"not False = \", not False)"
   ]
  },
  {
   "cell_type": "code",
   "execution_count": 33,
   "id": "ef3f1778",
   "metadata": {},
   "outputs": [
    {
     "name": "stdout",
     "output_type": "stream",
     "text": [
      "55 <class 'str'>\n",
      "55 <class 'int'>\n",
      "55.0 <class 'float'>\n",
      "True <class 'bool'>\n"
     ]
    }
   ],
   "source": [
    "# Q9. Write a Python program to convert user input from string to integer, float, and boolean types.\n",
    "n = input(\"Enter a number\")\n",
    "print(n, type(n))\n",
    "int_n = int(n)\n",
    "print(int_n, type(int_n))\n",
    "float_n = float(int_n)\n",
    "print(float_n, type(float_n))\n",
    "bool_n = bool(float_n)\n",
    "print(bool_n, type(bool_n))"
   ]
  },
  {
   "cell_type": "code",
   "execution_count": 39,
   "id": "a7bdbefa",
   "metadata": {},
   "outputs": [
    {
     "name": "stdout",
     "output_type": "stream",
     "text": [
      "String to Integers\n",
      "0\n",
      "Integers to Float\n",
      "0.0\n",
      "Float to Boolean\n",
      "False\n",
      "\n",
      "String to Integers\n",
      "1\n",
      "Integers to Float\n",
      "1.0\n",
      "Float to Boolean\n",
      "True\n",
      "\n",
      "String to Integers\n",
      "2\n",
      "Integers to Float\n",
      "2.0\n",
      "Float to Boolean\n",
      "True\n",
      "\n",
      "String to Integers\n",
      "3\n",
      "Integers to Float\n",
      "3.0\n",
      "Float to Boolean\n",
      "True\n",
      "\n",
      "String to Integers\n",
      "4\n",
      "Integers to Float\n",
      "4.0\n",
      "Float to Boolean\n",
      "True\n",
      "\n"
     ]
    }
   ],
   "source": [
    "# Q10. Write code to demonstrate type casting with list elements.\n",
    "l = [\"0\", \"1\", \"2\", \"3\", \"4\"]\n",
    "for i in l:\n",
    "    print(\"String to Integers\")\n",
    "    n = int(i)\n",
    "    print(n)\n",
    "    print(\"Integers to Float\")\n",
    "    f = float(n)\n",
    "    print(f)\n",
    "    print(\"Float to Boolean\")\n",
    "    b = bool(f)\n",
    "    print(b)\n",
    "    print()"
   ]
  },
  {
   "cell_type": "code",
   "execution_count": 42,
   "id": "8b7b8810",
   "metadata": {},
   "outputs": [
    {
     "name": "stdout",
     "output_type": "stream",
     "text": [
      "Positive Number\n"
     ]
    }
   ],
   "source": [
    "# Q11. Write a program that checks if a number is positive, negative, or zero.\n",
    "num = int(input(\"Enter a number\"))\n",
    "if num < 0:\n",
    "    print(\"Negative Number\")\n",
    "elif num == 0:\n",
    "    print(\"Zero\")\n",
    "else:\n",
    "    print(\"Positive Number\")"
   ]
  },
  {
   "cell_type": "code",
   "execution_count": 44,
   "id": "f567bee3",
   "metadata": {},
   "outputs": [
    {
     "name": "stdout",
     "output_type": "stream",
     "text": [
      "1\n",
      "2\n",
      "3\n",
      "4\n",
      "5\n",
      "6\n",
      "7\n",
      "8\n",
      "9\n",
      "10\n"
     ]
    }
   ],
   "source": [
    "# Q12. Write a for loop to print numbers from 1 to 10.\n",
    "for i in range(1, 11):\n",
    "    print(i)"
   ]
  },
  {
   "cell_type": "code",
   "execution_count": 59,
   "id": "e403ea3d",
   "metadata": {},
   "outputs": [
    {
     "name": "stdout",
     "output_type": "stream",
     "text": [
      "All even numbers between 1 and 50:\n",
      "2 4 6 8 10 12 14 16 18 20 22 24 26 28 30 32 34 36 38 40 42 44 46 48 50 \n",
      "The sum of all even numbers between 1 and 50: \n",
      "650\n"
     ]
    }
   ],
   "source": [
    "# Q13. Write a Python program to find the sum of all even numbers between 1 and 50.\n",
    "sum = 0\n",
    "print(\"All even numbers between 1 and 50:\")\n",
    "for i in range(1, 51):\n",
    "    if i % 2 == 0:\n",
    "        print(i, end=\" \")\n",
    "        sum = i + sum\n",
    "print(f\"\\nThe sum of all even numbers between 1 and 50: \\n{sum}\")"
   ]
  },
  {
   "cell_type": "code",
   "execution_count": 61,
   "id": "bdbcaa53",
   "metadata": {},
   "outputs": [
    {
     "name": "stdout",
     "output_type": "stream",
     "text": [
      "Reversed string: teelaqraF\n"
     ]
    }
   ],
   "source": [
    "# Q14. Write a program to reverse a string using a while loop.\n",
    "text = input(\"Enter a string: \")\n",
    "reversed_text = \"\"\n",
    "index = len(text) - 1\n",
    "while index >= 0:\n",
    "    reversed_text += text[index]\n",
    "    index -= 1\n",
    "print(\"Reversed string:\", reversed_text)"
   ]
  },
  {
   "cell_type": "code",
   "execution_count": 72,
   "id": "a2a8c82e",
   "metadata": {},
   "outputs": [
    {
     "name": "stdout",
     "output_type": "stream",
     "text": [
      "Factorial of -ve numbers are not defined\n"
     ]
    }
   ],
   "source": [
    "# Q15. Write a Python program to calculate the factorial of a number provided by the user using a while loop.\n",
    "num = int(input(\"Enter a number\"))\n",
    "if num >= 0:\n",
    "    stored_num = num\n",
    "    fact = 1\n",
    "    while num >= 1:\n",
    "        fact = num * fact\n",
    "        num -= 1\n",
    "    print(f\"Factorial of {stored_num}! = {fact}\")\n",
    "else:\n",
    "    print(\"Factorial of -ve numbers are not defined\")"
   ]
  }
 ],
 "metadata": {
  "kernelspec": {
   "display_name": "Python 3",
   "language": "python",
   "name": "python3"
  },
  "language_info": {
   "codemirror_mode": {
    "name": "ipython",
    "version": 3
   },
   "file_extension": ".py",
   "mimetype": "text/x-python",
   "name": "python",
   "nbconvert_exporter": "python",
   "pygments_lexer": "ipython3",
   "version": "3.13.3"
  }
 },
 "nbformat": 4,
 "nbformat_minor": 5
}
