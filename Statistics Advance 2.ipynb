{
 "cells": [
  {
   "cell_type": "markdown",
   "id": "fab5a403",
   "metadata": {},
   "source": [
    "### Statistics Advance 2 Theoratical Questions\n"
   ]
  },
  {
   "cell_type": "markdown",
   "id": "5d8c85e1",
   "metadata": {},
   "source": [
    "Q1. What is hypothesis testing in statistics?\n",
    "- Hypothesis testing is a statistical method used to make inferences or draw conclusions about a population based on sample data. It involves formulating a null hypothesis (H0) and an alternative hypothesis (H1), collecting data, and using statistical tests to determine whether there is enough evidence to reject the null hypothesis in favor of the alternative hypothesis. The process typically includes calculating a test statistic, comparing it to a critical value, and determining a P-value to assess the strength of the evidence against the null hypothesis."
   ]
  },
  {
   "cell_type": "markdown",
   "id": "6d220aca",
   "metadata": {},
   "source": [
    "Q2. What is the null hypothesis, and how does it differ from the alternative hypothesis?\n",
    "- The null hypothesis (H0) is a statement that there is no effect or no difference in the population, and it serves as a baseline for comparison. The alternative hypothesis (H1) is a statement that contradicts the null hypothesis, suggesting that there is an effect or a difference. In hypothesis testing, the goal is to gather evidence to either reject the null hypothesis in favor of the alternative hypothesis or fail to reject the null hypothesis.\n"
   ]
  },
  {
   "cell_type": "markdown",
   "id": "c074b602",
   "metadata": {},
   "source": [
    "Q3. What is the significance level in hypothesis testing, and why is it important?\n",
    "- The significance level (denoted as α) is the probability of rejecting the null hypothesis when it is actually true. It is a threshold set by the researcher, commonly at 0.05 or 0.01, which determines the level of evidence required to reject the null hypothesis. The significance level is important because it helps control the risk of making a Type I error (false positive), where we incorrectly reject a true null hypothesis. A lower significance level reduces this risk but may increase the risk of a Type II error (failing to reject a false null hypothesis)."
   ]
  },
  {
   "cell_type": "markdown",
   "id": "ab45edc5",
   "metadata": {},
   "source": [
    "Q4. What does a P-value represent in hypothesis testing?\n",
    "- The P-value is the probability of obtaining a test statistic as extreme as, or more extreme than, the one observed in the sample data, assuming that the null hypothesis is true. It quantifies the strength of evidence against the null hypothesis. A smaller P-value indicates stronger evidence against the null hypothesis, while a larger P-value suggests weaker evidence. If the P-value is less than or equal to the significance level (α), we reject the null hypothesis; otherwise, we fail to reject it."
   ]
  },
  {
   "cell_type": "markdown",
   "id": "83c740b2",
   "metadata": {},
   "source": [
    "Q5. How do you interpret the P-value in hypothesis testing?\n",
    "- The P-value is interpreted as the probability of observing the data (or something more extreme) given that the null hypothesis is true. A small P-value (typically less than the significance level, such as 0.05) suggests that the observed data is unlikely under the null hypothesis, leading to its rejection. Conversely, a large P-value indicates that the data is consistent with the null hypothesis, and we fail to reject it. It is important to note that a P-value does not provide a measure of the size or importance of an effect; it only indicates whether there is enough evidence to reject the null hypothesis."
   ]
  },
  {
   "cell_type": "markdown",
   "id": "9d97d2b1",
   "metadata": {},
   "source": [
    "Q6. What are Type 1 and Type 2 errors in hypothesis testing?\n",
    "- Type I error (false positive) occurs when we reject the null hypothesis when it is actually true. This means we conclude that there is an effect or difference when there is none. The probability of making a Type I error is denoted by the significance level (α).\n",
    "- Type II error (false negative) occurs when we fail to reject the null hypothesis when it is actually false. This means we conclude that there is no effect or difference when there is one. The probability of making a Type II error is denoted by β, and it is related to the power of the test (1 - β), which measures the test's ability to detect an effect when it exists.  "
   ]
  },
  {
   "cell_type": "markdown",
   "id": "76bf2eaa",
   "metadata": {},
   "source": [
    "Q7. What is the difference between a one-tailed and a two-tailed test in hypothesis testing?\n",
    "- A one-tailed test is used when the alternative hypothesis specifies a direction of the effect (e.g., greater than or less than a certain value). It tests for an effect in only one direction. For example, if we want to test whether a new drug is more effective than an existing one, we would use a one-tailed test.\n",
    "- A two-tailed test is used when the alternative hypothesis does not specify a direction, meaning we are interested in detecting an effect in either direction (e.g., whether the new drug is either more effective or less effective than the existing one). It tests for an effect in both directions. For example, if we want to test whether a new drug has a different effect compared to an existing one, we would use a two-tailed test.\n"
   ]
  },
  {
   "cell_type": "markdown",
   "id": "6296a957",
   "metadata": {},
   "source": [
    "Q8. What is the Z-test, and when is it used in hypothesis testing?\n",
    "- The Z-test is a statistical test used to determine whether there is a significant difference between the means of two groups or whether a sample mean significantly differs from a known population mean. It is applicable when the sample size is large (typically n > 30) or when the population standard deviation is known. The Z-test assumes that the data follows a normal distribution. It is commonly used in hypothesis testing to compare sample means, proportions, or to test the significance of a single sample mean against a known population mean."
   ]
  },
  {
   "cell_type": "markdown",
   "id": "3efa34c6",
   "metadata": {},
   "source": [
    "Q9. How do you calculate the Z-score, and what does it represent in hypothesis testing?\n",
    "- The Z-score is calculated using the formula:\n",
    "\n",
    "  \\[\n",
    "  Z = \\frac{(X - \\mu)}{\\sigma}\n",
    "  \\]\n",
    "\n",
    "  where:\n",
    "  - \\(X\\) is the sample mean or individual data point,\n",
    "  - \\(\\mu\\) is the population mean,\n",
    "  - \\(\\sigma\\) is the population standard deviation.\n",
    "\n",
    "  The Z-score represents the number of standard deviations a data point (or sample mean) is from the population mean. In hypothesis testing, it is used to determine how far the sample mean is from the null hypothesis mean, allowing us to assess whether the observed difference is statistically significant."
   ]
  },
  {
   "cell_type": "markdown",
   "id": "fc6b2986",
   "metadata": {},
   "source": [
    "Q10. What is the T-distribution, and when should it be used instead of the normal distribution?\n",
    "- The T-distribution is a probability distribution that is similar to the normal distribution but has heavier tails. It is used when the sample size is small (typically n < 30) or when the population standard deviation is unknown. The T-distribution accounts for the increased variability in smaller samples, making it more appropriate for hypothesis testing in these situations. As the sample size increases, the T-distribution approaches the normal distribution, and for large samples, the Z-test can be used instead."
   ]
  },
  {
   "cell_type": "markdown",
   "id": "7165c55e",
   "metadata": {},
   "source": [
    "Q11. What is the difference between a Z-test and a T-test?\n",
    "- The main differences between a Z-test and a T-test are:\n",
    "  - **Sample Size**: A Z-test is used when the sample size is large (n > 30) or when the population standard deviation is known, while a T-test is used for small sample sizes (n < 30) or when the population standard deviation is unknown.\n",
    "  - **Distribution**: The Z-test assumes that the data follows a normal distribution, while the T-test uses the T-distribution, which has heavier tails to account for increased variability in smaller samples.\n",
    "  - **Test Statistic**: The Z-test uses the Z-score as the test statistic, while the T-test uses the T-statistic, which is calculated using the sample mean, sample standard deviation, and sample size."
   ]
  },
  {
   "cell_type": "markdown",
   "id": "d502cba9",
   "metadata": {},
   "source": [
    "Q12. What is the T-test, and how is it used in hypothesis testing?\n",
    "- The T-test is a statistical test used to determine whether there is a significant difference between the means of two groups or whether a sample mean significantly differs from a known population mean when the population standard deviation is unknown. It is applicable for small sample sizes (typically n < 30) and assumes that the data follows a normal distribution. The T-test calculates the T-statistic, which is then compared to critical values from the T-distribution to assess whether the observed difference is statistically significant."
   ]
  },
  {
   "cell_type": "markdown",
   "id": "2fb9cddb",
   "metadata": {},
   "source": [
    "Q13. What is the relationship between Z-test and T-test in hypothesis testing?\n",
    "- The Z-test and T-test are both used in hypothesis testing to compare means, but they differ in their assumptions and applicability. The Z-test is used when the sample size is large (n > 30) or when the population standard deviation is known, while the T-test is used for small sample sizes (n < 30) or when the population standard deviation is unknown. As the sample size increases, the T-distribution approaches the normal distribution, making the Z-test more appropriate for larger samples. In practice, for small samples, the T-test is preferred due to its ability to account for increased variability."
   ]
  },
  {
   "cell_type": "markdown",
   "id": "67b5c4f2",
   "metadata": {},
   "source": [
    "Q14. What is a confidence interval, and how is it used to interpret statistical results?\n",
    "- A confidence interval is a range of values, derived from sample data, that is likely to contain the true population parameter (e.g., mean, proportion) with a specified level of confidence (e.g., 95% or 99%). It provides an estimate of the uncertainty associated with the sample statistic. For example, a 95% confidence interval means that if we were to take many samples and calculate the confidence interval for each, approximately 95% of those intervals would contain the true population parameter. Confidence intervals are used to interpret statistical results by providing a range within which we can be reasonably confident that the true value lies, rather than just a single point estimate."
   ]
  },
  {
   "cell_type": "markdown",
   "id": "1b4bb9bb",
   "metadata": {},
   "source": [
    "Q15. What is the margin of error, and how does it affect the confidence interval?\n",
    "- The margin of error is the amount of uncertainty or variability in a sample estimate, which is used to construct a confidence interval. It is calculated as the product of the critical value (from the Z or T distribution) and the standard error of the sample statistic. The margin of error affects the width of the confidence interval; a larger margin of error results in a wider confidence interval, indicating greater uncertainty about the population parameter. Conversely, a smaller margin of error leads to a narrower confidence interval, suggesting more precision in estimating the population parameter."
   ]
  },
  {
   "cell_type": "markdown",
   "id": "999291d8",
   "metadata": {},
   "source": [
    "Q16. How is Bayes' Theorem used in statistics, and what is its significance?\n",
    "- Bayes' Theorem is a fundamental concept in statistics that describes the relationship between conditional probabilities. It allows us to update our beliefs about a hypothesis based on new evidence. The theorem is expressed as:\n",
    "\n",
    "  \\[\n",
    "  P(H|E) = \\frac{P(E|H) \\cdot P(H)}{P(E)}\n",
    "  \\]\n",
    "\n",
    "  where:\n",
    "  - \\(P(H|E)\\) is the posterior probability of the hypothesis \\(H\\) given the evidence \\(E\\),\n",
    "  - \\(P(E|H)\\) is the likelihood of observing the evidence \\(E\\) given that the hypothesis \\(H\\) is true,\n",
    "  - \\(P(H)\\) is the prior probability of the hypothesis \\(H\\),\n",
    "  - \\(P(E)\\) is the total probability of observing the evidence \\(E\\).\n",
    "\n",
    "  The significance of Bayes' Theorem lies in its ability to incorporate prior knowledge and update probabilities as new data becomes available, making it a powerful tool for statistical inference and decision-making."
   ]
  },
  {
   "cell_type": "markdown",
   "id": "035aa57a",
   "metadata": {},
   "source": [
    "Q17. What is the Chi-square distribution, and when is it used?\n",
    "- The Chi-square distribution is a probability distribution that is used primarily in hypothesis testing and confidence interval estimation for categorical data. It is particularly useful for tests of independence, goodness of fit, and homogeneity. The Chi-square distribution is defined by its degrees of freedom, which are determined by the number of categories or groups in the data. It is used when the data are counts or frequencies, and it assumes that the observations are independent and that the expected frequencies are sufficiently large (typically at least 5) to ensure the validity of the test."
   ]
  },
  {
   "cell_type": "markdown",
   "id": "bf3e82f1",
   "metadata": {},
   "source": [
    "Q18. What is the Chi-square goodness of fit test, and how is it applied?\n",
    "- The Chi-square goodness of fit test is a statistical test used to determine whether the observed frequencies of a categorical variable differ significantly from the expected frequencies under a specified distribution (e.g., uniform distribution). It is applied by comparing the observed counts in each category to the expected counts, which are calculated based on the null hypothesis. The test statistic is calculated as:\n",
    "\n",
    "  \\[\n",
    "  \\chi^2 = \\sum \\frac{(O_i - E_i)^2}{E_i}\n",
    "  \\]\n",
    "\n",
    "  where \\(O_i\\) is the observed frequency for category \\(i\\) and \\(E_i\\) is the expected frequency for category \\(i\\). The calculated Chi-square statistic is then compared to a critical value from the Chi-square distribution with appropriate degrees of freedom to determine whether to reject or fail to reject the null hypothesis."
   ]
  },
  {
   "cell_type": "markdown",
   "id": "a4a60eb8",
   "metadata": {},
   "source": [
    "Q19. What is the F-distribution, and when is it used in hypothesis testing?\n",
    "- The F-distribution is a probability distribution that arises in the context of comparing variances between two or more groups. It is used primarily in analysis of variance (ANOVA) and regression analysis. The F-distribution is defined by two sets of degrees of freedom: one for the numerator (related to the variance of the group means) and one for the denominator (related to the variance within groups). It is used to test hypotheses about the equality of variances or to compare multiple group means, where the null hypothesis states that all group means are equal."
   ]
  },
  {
   "cell_type": "markdown",
   "id": "c089fb88",
   "metadata": {},
   "source": [
    "Q20. What is an ANOVA test, and what are its assumptions?\n",
    "- ANOVA (Analysis of Variance) is a statistical test used to compare the means of three or more groups to determine whether there are significant differences among them. It assesses the variability between group means relative to the variability within groups. The main assumptions of ANOVA include:\n",
    "  - Independence: The observations in each group are independent of each other.\n",
    "  - Normality: The data in each group should be approximately normally distributed.\n",
    "  - Homogeneity of variance: The variances of the groups should be equal (or at least similar).\n",
    "  If these assumptions are met, ANOVA can be used to test the null hypothesis that all group means are equal against the alternative hypothesis that at least one group mean is different."
   ]
  },
  {
   "cell_type": "markdown",
   "id": "fec7fd68",
   "metadata": {},
   "source": [
    "Q21. What are the different types of ANOVA tests?\n",
    "- There are several types of ANOVA tests, including:\n",
    "  - **One-Way ANOVA**: Used to compare the means of three or more independent groups based on one independent variable.\n",
    "  - **Two-Way ANOVA**: Used to compare the means of groups based on two independent variables, allowing for the examination of interaction effects between the variables.\n",
    "  - **Repeated Measures ANOVA**: Used when the same subjects are measured multiple times under different conditions, allowing for the analysis of within-subjects effects.\n",
    "  - **Multivariate ANOVA (MANOVA)**: Used when there are multiple dependent variables, allowing for the simultaneous comparison of group means across these variables."
   ]
  },
  {
   "cell_type": "markdown",
   "id": "75db1136",
   "metadata": {},
   "source": [
    "Q22. What is the F-test, and how does it relate to hypothesis testing?\n",
    "- The F-test is a statistical test used to compare the variances of two or more groups to determine whether they are significantly different. It is commonly used in the context of ANOVA to test the null hypothesis that all group means are equal. The F-test calculates the F-statistic, which is the ratio of the variance between groups to the variance within groups. A larger F-statistic indicates greater variability between group means relative to within-group variability, suggesting that at least one group mean is significantly different from the others. The F-statistic is compared to a critical value from the F-distribution to determine whether to reject or fail to reject the null hypothesis."
   ]
  },
  {
   "cell_type": "markdown",
   "id": "0cb147b6",
   "metadata": {},
   "source": [
    "### Statistics Advance 2 Practical Questions"
   ]
  },
  {
   "cell_type": "code",
   "execution_count": 1,
   "id": "98a2d268",
   "metadata": {},
   "outputs": [
    {
     "name": "stdout",
     "output_type": "stream",
     "text": [
      "Z-statistic: 1.8257418583505538, P-value: 0.067889154861829\n",
      "Fail to reject the null hypothesis: The sample mean is not significantly different from the population mean.\n"
     ]
    }
   ],
   "source": [
    "# Q1. Write a Python program to perform a Z-test for comparing a sample mean to a known population mean and interpret the results.\n",
    "import numpy as np\n",
    "import scipy.stats as stats\n",
    "\n",
    "\n",
    "def z_test(sample_mean, population_mean, sample_std, sample_size):\n",
    "    # Calculate the Z statistic\n",
    "    z_statistic = (sample_mean - population_mean) / (sample_std / np.sqrt(sample_size))\n",
    "\n",
    "    # Calculate the p-value for a two-tailed test\n",
    "    p_value = 2 * (1 - stats.norm.cdf(np.abs(z_statistic)))\n",
    "\n",
    "    return z_statistic, p_value\n",
    "\n",
    "\n",
    "# Example usage\n",
    "sample_mean = 105  # Sample mean\n",
    "population_mean = 100  # Known population mean\n",
    "sample_std = 15  # Sample standard deviation\n",
    "sample_size = 30  # Sample size\n",
    "z_statistic, p_value = z_test(sample_mean, population_mean, sample_std, sample_size)\n",
    "print(f\"Z-statistic: {z_statistic}, P-value: {p_value}\")\n",
    "# Interpretation\n",
    "if p_value < 0.05:\n",
    "    print(\n",
    "        \"Reject the null hypothesis: The sample mean is significantly different from the population mean.\"\n",
    "    )\n",
    "else:\n",
    "    print(\n",
    "        \"Fail to reject the null hypothesis: The sample mean is not significantly different from the population mean.\"\n",
    "    )"
   ]
  },
  {
   "cell_type": "code",
   "execution_count": 2,
   "id": "3ff37783",
   "metadata": {},
   "outputs": [
    {
     "name": "stdout",
     "output_type": "stream",
     "text": [
      "Sample Data: [108.62619653  83.93418386  87.67421984 108.52554788 115.81971945\n",
      "  96.77478171  91.47000463 105.64869148 110.1537655  130.50978838\n",
      "  85.90662149  92.28512044 111.14498824 101.39727743  95.14040717\n",
      "  84.44868687  70.49235317 118.99869733 117.1090164  107.57532923\n",
      " 113.22810803 117.1144686   90.14957452 111.73750022  98.34927969\n",
      " 112.24686145  87.34972678 112.90241696 106.78213646  89.70313655]\n",
      "Z-statistic: 0.846453449298013, P-value: 0.3972998321023231\n",
      "Fail to reject the null hypothesis: The sample mean is not significantly different from the population mean.\n"
     ]
    }
   ],
   "source": [
    "# Q2. Simulate random data to perform hypothesis testing and calculate the corresponding P-value using Python.\n",
    "import numpy as np\n",
    "import scipy.stats as stats\n",
    "\n",
    "\n",
    "def simulate_data_and_test(population_mean, population_std, sample_size, alpha=0.05):\n",
    "    # Simulate random data from a normal distribution\n",
    "    sample_data = np.random.normal(\n",
    "        loc=population_mean, scale=population_std, size=sample_size\n",
    "    )\n",
    "\n",
    "    # Calculate sample mean and standard deviation\n",
    "    sample_mean = np.mean(sample_data)\n",
    "    sample_std = np.std(sample_data, ddof=1)  # Sample standard deviation\n",
    "\n",
    "    # Perform a one-sample Z-test\n",
    "    z_statistic = (sample_mean - population_mean) / (sample_std / np.sqrt(sample_size))\n",
    "    p_value = 2 * (1 - stats.norm.cdf(np.abs(z_statistic)))\n",
    "\n",
    "    # Interpretation\n",
    "    if p_value < alpha:\n",
    "        result = \"Reject the null hypothesis: The sample mean is significantly different from the population mean.\"\n",
    "    else:\n",
    "        result = \"Fail to reject the null hypothesis: The sample mean is not significantly different from the population mean.\"\n",
    "\n",
    "    return sample_data, z_statistic, p_value, result\n",
    "\n",
    "\n",
    "# Example usage\n",
    "population_mean = 100  # Known population mean\n",
    "population_std = 15  # Known population standard deviation\n",
    "sample_size = 30  # Sample size\n",
    "sample_data, z_statistic, p_value, result = simulate_data_and_test(\n",
    "    population_mean, population_std, sample_size\n",
    ")\n",
    "print(f\"Sample Data: {sample_data}\")\n",
    "print(f\"Z-statistic: {z_statistic}, P-value: {p_value}\")\n",
    "print(result)"
   ]
  },
  {
   "cell_type": "code",
   "execution_count": 3,
   "id": "a09b31d9",
   "metadata": {},
   "outputs": [
    {
     "name": "stdout",
     "output_type": "stream",
     "text": [
      "Z-statistic: 1.2656356854047002, P-value: 0.20564354386494132\n",
      "Fail to reject the null hypothesis: The sample mean is not significantly different from the population mean.\n"
     ]
    }
   ],
   "source": [
    "# Q3. Implement a one-sample Z-test using Python to compare the sample mean with the population mean.\n",
    "def one_sample_z_test(sample_data, population_mean):\n",
    "    sample_mean = np.mean(sample_data)\n",
    "    sample_std = np.std(sample_data, ddof=1)  # Sample standard deviation\n",
    "    sample_size = len(sample_data)\n",
    "\n",
    "    # Calculate the Z statistic\n",
    "    z_statistic = (sample_mean - population_mean) / (sample_std / np.sqrt(sample_size))\n",
    "\n",
    "    # Calculate the p-value for a two-tailed test\n",
    "    p_value = 2 * (1 - stats.norm.cdf(np.abs(z_statistic)))\n",
    "    return z_statistic, p_value\n",
    "\n",
    "\n",
    "# Example usage\n",
    "sample_data = np.random.normal(loc=105, scale=15, size=30)\n",
    "population_mean = 100  # Known population mean\n",
    "z_statistic, p_value = one_sample_z_test(sample_data, population_mean)\n",
    "print(f\"Z-statistic: {z_statistic}, P-value: {p_value}\")\n",
    "# Interpretation\n",
    "if p_value < 0.05:\n",
    "    print(\n",
    "        \"Reject the null hypothesis: The sample mean is significantly different from the population mean.\"\n",
    "    )\n",
    "else:\n",
    "    print(\n",
    "        \"Fail to reject the null hypothesis: The sample mean is not significantly different from the population mean.\"\n",
    "    )"
   ]
  },
  {
   "cell_type": "code",
   "execution_count": 4,
   "id": "a2180ee7",
   "metadata": {},
   "outputs": [
    {
     "name": "stdout",
     "output_type": "stream",
     "text": [
      "Z-statistic: 1.8257418583505538, P-value: 0.067889154861829\n"
     ]
    },
    {
     "data": {
      "image/png": "[encoded data removed]",
      "text/plain": [
       "<Figure size 640x480 with 1 Axes>"
      ]
     },
     "metadata": {},
     "output_type": "display_data"
    }
   ],
   "source": [
    "# Q4. Perform a two-tailed Z-test using Python and visualize the decision region on a plot.\n",
    "import numpy as np\n",
    "import matplotlib.pyplot as plt\n",
    "import scipy.stats as stats\n",
    "\n",
    "\n",
    "def two_tailed_z_test(\n",
    "    sample_mean, population_mean, sample_std, sample_size, alpha=0.05\n",
    "):\n",
    "    # Calculate the Z statistic\n",
    "    z_statistic = (sample_mean - population_mean) / (sample_std / np.sqrt(sample_size))\n",
    "\n",
    "    # Calculate the p-value for a two-tailed test\n",
    "    p_value = 2 * (1 - stats.norm.cdf(np.abs(z_statistic)))\n",
    "\n",
    "    # Decision region boundaries\n",
    "    critical_value = stats.norm.ppf(1 - alpha / 2)\n",
    "\n",
    "    return z_statistic, p_value, critical_value\n",
    "\n",
    "\n",
    "# Example usage\n",
    "sample_mean = 105  # Sample mean\n",
    "population_mean = 100  # Known population mean\n",
    "sample_std = 15  # Sample standard deviation\n",
    "sample_size = 30  # Sample size\n",
    "z_statistic, p_value, critical_value = two_tailed_z_test(\n",
    "    sample_mean, population_mean, sample_std, sample_size\n",
    ")\n",
    "print(f\"Z-statistic: {z_statistic}, P-value: {p_value}\")\n",
    "# Visualization of the decision region\n",
    "x = np.linspace(-4, 4, 1000)\n",
    "y = stats.norm.pdf(x, 0, 1)\n",
    "plt.plot(x, y, label=\"Standard Normal Distribution\")\n",
    "plt.axvline(-critical_value, color=\"red\", linestyle=\"--\", label=\"Critical Value (-)\")\n",
    "plt.axvline(critical_value, color=\"red\", linestyle=\"--\", label=\"Critical Value (+)\")\n",
    "plt.axvline(z_statistic, color=\"green\", linestyle=\"--\", label=\"Z-statistic\")\n",
    "plt.fill_between(\n",
    "    x,\n",
    "    y,\n",
    "    where=(x < -critical_value) | (x > critical_value),\n",
    "    color=\"red\",\n",
    "    alpha=0.5,\n",
    "    label=\"Rejection Region\",\n",
    ")\n",
    "plt.title(\"Two-Tailed Z-Test Decision Region\")\n",
    "plt.xlabel(\"Z-value\")\n",
    "plt.ylabel(\"Probability Density\")\n",
    "plt.legend()\n",
    "plt.show()"
   ]
  },
  {
   "cell_type": "code",
   "execution_count": 5,
   "id": "b4238932",
   "metadata": {},
   "outputs": [
    {
     "data": {
      "image/png": "[encoded data removed]",
      "text/plain": [
       "<Figure size 640x480 with 1 Axes>"
      ]
     },
     "metadata": {},
     "output_type": "display_data"
    },
    {
     "name": "stdout",
     "output_type": "stream",
     "text": [
      "Type I Error Region: False, Type II Error Probability (Beta): 0.5534\n"
     ]
    }
   ],
   "source": [
    "# Q5. Create a Python function that calculates and visualizes Type 1 and Type 2 errors during hypothesis testing.\n",
    "import numpy as np\n",
    "import matplotlib.pyplot as plt\n",
    "import scipy.stats as stats\n",
    "\n",
    "\n",
    "def visualize_type_errors(\n",
    "    population_mean, sample_mean, sample_std, sample_size, alpha=0.05\n",
    "):\n",
    "    # Calculate critical values for Type 1 error\n",
    "    critical_value = stats.norm.ppf(1 - alpha / 2)\n",
    "\n",
    "    # Calculate Z statistic for the sample mean\n",
    "    z_statistic = (sample_mean - population_mean) / (sample_std / np.sqrt(sample_size))\n",
    "\n",
    "    # Calculate Type 1 error region\n",
    "    type_1_error_region = np.abs(z_statistic) > critical_value\n",
    "\n",
    "    # Calculate Type 2 error region\n",
    "    beta = stats.norm.cdf(\n",
    "        critical_value\n",
    "        - (sample_mean - population_mean) / (sample_std / np.sqrt(sample_size))\n",
    "    )\n",
    "\n",
    "    # Visualization\n",
    "    x = np.linspace(-4, 4, 1000)\n",
    "    y = stats.norm.pdf(x, 0, 1)\n",
    "\n",
    "    plt.plot(x, y, label=\"Standard Normal Distribution\")\n",
    "    plt.axvline(\n",
    "        -critical_value, color=\"red\", linestyle=\"--\", label=\"Critical Value (-)\"\n",
    "    )\n",
    "    plt.axvline(critical_value, color=\"red\", linestyle=\"--\", label=\"Critical Value (+)\")\n",
    "    plt.axvline(z_statistic, color=\"green\", linestyle=\"--\", label=\"Z-statistic\")\n",
    "\n",
    "    if type_1_error_region:\n",
    "        plt.fill_between(\n",
    "            x,\n",
    "            y,\n",
    "            where=(x < -critical_value) | (x > critical_value),\n",
    "            color=\"red\",\n",
    "            alpha=0.5,\n",
    "            label=\"Type I Error Region\",\n",
    "        )\n",
    "\n",
    "    plt.title(\"Type I and Type II Errors Visualization\")\n",
    "    plt.xlabel(\"Z-value\")\n",
    "    plt.ylabel(\"Probability Density\")\n",
    "    plt.legend()\n",
    "    plt.show()\n",
    "\n",
    "    return type_1_error_region, beta\n",
    "\n",
    "\n",
    "# Example usage\n",
    "population_mean = 100  # Known population mean\n",
    "sample_mean = 105  # Sample mean\n",
    "sample_std = 15  # Sample standard deviation\n",
    "sample_size = 30  # Sample size\n",
    "type_1_error_region, beta = visualize_type_errors(\n",
    "    population_mean, sample_mean, sample_std, sample_size\n",
    ")\n",
    "print(\n",
    "    f\"Type I Error Region: {type_1_error_region}, Type II Error Probability (Beta): {beta:.4f}\"\n",
    ")"
   ]
  },
  {
   "cell_type": "code",
   "execution_count": 7,
   "id": "efe263b9",
   "metadata": {},
   "outputs": [
    {
     "name": "stdout",
     "output_type": "stream",
     "text": [
      "T-statistic: -1.6752798945818224, P-value: 0.09926320655772741\n",
      "Fail to reject the null hypothesis: The means of the two samples are not significantly different.\n"
     ]
    }
   ],
   "source": [
    "# Q6. Write a Python program to perform an independent T-test and interpret the results.\n",
    "import numpy as np\n",
    "import scipy.stats as stats\n",
    "\n",
    "\n",
    "def independent_t_test(sample1, sample2):\n",
    "    # Calculate the T statistic and p-value\n",
    "    t_statistic, p_value = stats.ttest_ind(sample1, sample2)\n",
    "\n",
    "    # Interpretation\n",
    "    if p_value < 0.05:\n",
    "        result = \"Reject the null hypothesis: The means of the two samples are significantly different.\"\n",
    "    else:\n",
    "        result = \"Fail to reject the null hypothesis: The means of the two samples are not significantly different.\"\n",
    "\n",
    "    return t_statistic, p_value, result\n",
    "\n",
    "\n",
    "# Example usage\n",
    "sample1 = np.random.normal(loc=100, scale=15, size=30)\n",
    "sample2 = np.random.normal(loc=110, scale=15, size=30)\n",
    "t_statistic, p_value, result = independent_t_test(sample1, sample2)\n",
    "print(f\"T-statistic: {t_statistic}, P-value: {p_value}\")\n",
    "print(result)"
   ]
  },
  {
   "cell_type": "code",
   "execution_count": 8,
   "id": "bdca51b5",
   "metadata": {},
   "outputs": [
    {
     "name": "stdout",
     "output_type": "stream",
     "text": [
      "T-statistic: -0.8619865209828407, P-value: 0.39576699154957173\n",
      "Fail to reject the null hypothesis: The means of the paired samples are not significantly different.\n"
     ]
    },
    {
     "name": "stderr",
     "output_type": "stream",
     "text": [
      "C:\\Users\\farqa\\AppData\\Local\\Temp\\ipykernel_12972\\772933315.py:30: MatplotlibDeprecationWarning: The 'labels' parameter of boxplot() has been renamed 'tick_labels' since Matplotlib 3.9; support for the old name will be dropped in 3.11.\n",
      "  plt.boxplot([sample1, sample2], labels=[\"Sample 1\", \"Sample 2\"])\n"
     ]
    },
    {
     "data": {
      "image/png": "[encoded data removed]",
      "text/plain": [
       "<Figure size 640x480 with 1 Axes>"
      ]
     },
     "metadata": {},
     "output_type": "display_data"
    }
   ],
   "source": [
    "# Q7. Perform a paired sample T-test using Python and visualize the comparison results.\n",
    "import numpy as np\n",
    "import scipy.stats as stats\n",
    "\n",
    "\n",
    "def paired_t_test(sample1, sample2):\n",
    "    # Calculate the T statistic and p-value\n",
    "    t_statistic, p_value = stats.ttest_rel(sample1, sample2)\n",
    "\n",
    "    # Interpretation\n",
    "    if p_value < 0.05:\n",
    "        result = \"Reject the null hypothesis: The means of the paired samples are significantly different.\"\n",
    "    else:\n",
    "        result = \"Fail to reject the null hypothesis: The means of the paired samples are not significantly different.\"\n",
    "\n",
    "    return t_statistic, p_value, result\n",
    "\n",
    "\n",
    "# Example usage\n",
    "sample1 = np.random.normal(loc=100, scale=15, size=30)\n",
    "sample2 = np.random.normal(loc=105, scale=15, size=30)\n",
    "t_statistic, p_value, result = paired_t_test(sample1, sample2)\n",
    "print(f\"T-statistic: {t_statistic}, P-value: {p_value}\")\n",
    "print(result)\n",
    "import matplotlib.pyplot as plt\n",
    "\n",
    "\n",
    "def visualize_paired_samples(sample1, sample2):\n",
    "    # Create a boxplot to visualize the paired samples\n",
    "    plt.boxplot([sample1, sample2], labels=[\"Sample 1\", \"Sample 2\"])\n",
    "    plt.title(\"Paired Sample Comparison\")\n",
    "    plt.ylabel(\"Values\")\n",
    "    plt.show()\n",
    "\n",
    "\n",
    "visualize_paired_samples(sample1, sample2)"
   ]
  },
  {
   "cell_type": "code",
   "execution_count": 10,
   "id": "f9352361",
   "metadata": {},
   "outputs": [
    {
     "name": "stdout",
     "output_type": "stream",
     "text": [
      "Z-statistic: 1.2356500219523838, Z-P-value: 0.21658868239784113\n",
      "T-statistic: 1.105898876854375, T-P-value: 0.2778605447415452\n",
      "Z-test: Fail to reject the null hypothesis: The sample mean is not significantly different from the population mean.\n",
      "T-test: Fail to reject the null hypothesis: The sample mean is not significantly different from the population mean.\n"
     ]
    }
   ],
   "source": [
    "# Q8. Simulate data and perform both Z-test and T-test, then compare the results using Python.\n",
    "import numpy as np\n",
    "import scipy.stats as stats\n",
    "\n",
    "\n",
    "def simulate_and_compare_tests(population_mean, population_std, sample_size):\n",
    "    # Simulate random data from a normal distribution\n",
    "    sample_data = np.random.normal(\n",
    "        loc=population_mean, scale=population_std, size=sample_size\n",
    "    )\n",
    "\n",
    "    # Perform Z-test\n",
    "    z_statistic = (np.mean(sample_data) - population_mean) / (\n",
    "        population_std / np.sqrt(sample_size)\n",
    "    )\n",
    "    z_p_value = 2 * (1 - stats.norm.cdf(np.abs(z_statistic)))\n",
    "\n",
    "    # Perform T-test\n",
    "    t_statistic, t_p_value = stats.ttest_1samp(sample_data, population_mean)\n",
    "\n",
    "    return z_statistic, z_p_value, t_statistic, t_p_value\n",
    "\n",
    "\n",
    "# Example usage\n",
    "population_mean = 100  # Known population mean\n",
    "population_std = 15  # Known population standard deviation\n",
    "sample_size = 30  # Sample size\n",
    "z_statistic, z_p_value, t_statistic, t_p_value = simulate_and_compare_tests(\n",
    "    population_mean, population_std, sample_size\n",
    ")\n",
    "print(f\"Z-statistic: {z_statistic}, Z-P-value: {z_p_value}\")\n",
    "print(f\"T-statistic: {t_statistic}, T-P-value: {t_p_value}\")\n",
    "# Interpretation\n",
    "if z_p_value < 0.05:\n",
    "    print(\n",
    "        \"Z-test: Reject the null hypothesis: The sample mean is significantly different from the population mean.\"\n",
    "    )\n",
    "else:\n",
    "    print(\n",
    "        \"Z-test: Fail to reject the null hypothesis: The sample mean is not significantly different from the population mean.\"\n",
    "    )\n",
    "if t_p_value < 0.05:\n",
    "    print(\n",
    "        \"T-test: Reject the null hypothesis: The sample mean is significantly different from the population mean.\"\n",
    "    )\n",
    "else:\n",
    "    print(\n",
    "        \"T-test: Fail to reject the null hypothesis: The sample mean is not significantly different from the population mean.\"\n",
    "    )"
   ]
  },
  {
   "cell_type": "code",
   "execution_count": null,
   "id": "bca38703",
   "metadata": {},
   "outputs": [
    {
     "name": "stdout",
     "output_type": "stream",
     "text": [
      "Confidence Interval: (99.23, 109.72)\n",
      "The confidence interval provides a range of values within which we can be confident that the true population mean lies, given the sample data.\n"
     ]
    }
   ],
   "source": [
    "# Q9. Write a Python function to calculate the confidence interval for a sample mean and explain its significance.\n",
    "import numpy as np\n",
    "import scipy.stats as stats\n",
    "\n",
    "\n",
    "def confidence_interval(sample_data, confidence_level=0.95):\n",
    "    sample_mean = np.mean(sample_data)\n",
    "    sample_std = np.std(sample_data, ddof=1)  # Sample standard deviation\n",
    "    sample_size = len(sample_data)\n",
    "\n",
    "    # Calculate the critical value for the given confidence level\n",
    "    critical_value = stats.t.ppf((1 + confidence_level) / 2, df=sample_size - 1)\n",
    "\n",
    "    # Calculate the margin of error\n",
    "    margin_of_error = critical_value * (sample_std / np.sqrt(sample_size))\n",
    "\n",
    "    # Calculate the confidence interval\n",
    "    lower_bound = sample_mean - margin_of_error\n",
    "    upper_bound = sample_mean + margin_of_error\n",
    "\n",
    "    return lower_bound, upper_bound\n",
    "\n",
    "\n",
    "# Example usage\n",
    "sample_data = np.random.normal(loc=100, scale=15, size=30)\n",
    "lower_bound, upper_bound = confidence_interval(sample_data)\n",
    "print(f\"Confidence Interval: ({lower_bound:.2f}, {upper_bound:.2f})\")\n",
    "# Significance\n",
    "print(\n",
    "    \"The confidence interval provides a range of values within which we can be confident that the true population mean lies, given the sample data.\"\n",
    ")"
   ]
  },
  {
   "cell_type": "code",
   "execution_count": 12,
   "id": "606f0de4",
   "metadata": {},
   "outputs": [
    {
     "name": "stdout",
     "output_type": "stream",
     "text": [
      "Margin of Error: 5.03\n",
      "The margin of error quantifies the uncertainty associated with the sample mean, indicating how much the sample mean may differ from the true population mean at the specified confidence level.\n"
     ]
    }
   ],
   "source": [
    "# Q10. Write a Python program to calculate the margin of error for a given confidence level using sample data.\n",
    "def margin_of_error(sample_data, confidence_level=0.95):\n",
    "    sample_mean = np.mean(sample_data)\n",
    "    sample_std = np.std(sample_data, ddof=1)  # Sample standard deviation\n",
    "    sample_size = len(sample_data)\n",
    "\n",
    "    # Calculate the critical value for the given confidence level\n",
    "    critical_value = stats.t.ppf((1 + confidence_level) / 2, df=sample_size - 1)\n",
    "\n",
    "    # Calculate the margin of error\n",
    "    margin_of_error = critical_value * (sample_std / np.sqrt(sample_size))\n",
    "\n",
    "    return margin_of_error\n",
    "\n",
    "\n",
    "# Example usage\n",
    "sample_data = np.random.normal(loc=100, scale=15, size=30)\n",
    "me = margin_of_error(sample_data)\n",
    "print(f\"Margin of Error: {me:.2f}\")\n",
    "# Significance\n",
    "print(\n",
    "    \"The margin of error quantifies the uncertainty associated with the sample mean, indicating how much the sample mean may differ from the true population mean at the specified confidence level.\"\n",
    ")"
   ]
  },
  {
   "cell_type": "code",
   "execution_count": 13,
   "id": "0e29a004",
   "metadata": {},
   "outputs": [
    {
     "name": "stdout",
     "output_type": "stream",
     "text": [
      "Posterior Probability: 0.6667\n",
      "Bayes' Theorem allows us to update our beliefs about a hypothesis based on new evidence. The posterior probability represents the updated belief after considering the prior probability and the likelihood of the observed data given the hypothesis.\n"
     ]
    }
   ],
   "source": [
    "# Q11. Implement a Bayesian inference method using Bayes' Theorem in Python and explain the process.\n",
    "import numpy as np\n",
    "import scipy.stats as stats\n",
    "\n",
    "\n",
    "def bayesian_inference(prior, likelihood, evidence):\n",
    "    # Calculate the posterior probability using Bayes' Theorem\n",
    "    posterior = (likelihood * prior) / evidence\n",
    "    return posterior\n",
    "\n",
    "\n",
    "# Example usage\n",
    "prior = 0.5  # Prior probability of the hypothesis\n",
    "likelihood = 0.8  # Likelihood of the data given the hypothesis\n",
    "evidence = 0.6  # Total probability of the data\n",
    "posterior = bayesian_inference(prior, likelihood, evidence)\n",
    "print(f\"Posterior Probability: {posterior:.4f}\")\n",
    "# Explanation\n",
    "print(\n",
    "    \"Bayes' Theorem allows us to update our beliefs about a hypothesis based on new evidence. The posterior probability represents the updated belief after considering the prior probability and the likelihood of the observed data given the hypothesis.\"\n",
    ")"
   ]
  },
  {
   "cell_type": "code",
   "execution_count": null,
   "id": "9fe0453b",
   "metadata": {},
   "outputs": [],
   "source": [
    "# Q12. Perform a Chi-square test for independence between two categorical variables in Python.\n",
    "import numpy as np\n",
    "import scipy.stats as stats\n",
    "\n",
    "\n",
    "def chi_square_test(observed):\n",
    "    # Perform Chi-square test\n",
    "    chi2_statistic, p_value, dof, expected = stats.chi2_contingency(observed)\n",
    "\n",
    "    return chi2_statistic, p_value, expected\n",
    "\n",
    "\n",
    "# Example usage\n",
    "observed = np.array([[10, 20, 30], [6, 9, 15]])\n",
    "chi2_statistic, p_value, expected = chi_square_test(observed)\n",
    "print(f\"Chi-square Statistic: {chi2_statistic:.4f}, P-value: {p_value:.4f}\")\n",
    "print(f\"Expected Frequencies:\\n{expected}\")\n",
    "# Interpretation\n",
    "if p_value < 0.05:\n",
    "    print(\n",
    "        \"Reject the null hypothesis: There is a significant association between the two categorical variables.\"\n",
    "    )\n",
    "else:\n",
    "    print(\n",
    "        \"Fail to reject the null hypothesis: There is no significant association between the two categorical variables.\"\n",
    "    )"
   ]
  },
  {
   "cell_type": "code",
   "execution_count": 15,
   "id": "5e20d996",
   "metadata": {},
   "outputs": [
    {
     "name": "stdout",
     "output_type": "stream",
     "text": [
      "Observed Frequencies:\n",
      "[[10 20 30]\n",
      " [ 6  9 15]]\n",
      "Expected Frequencies:\n",
      "[[10.66666667 19.33333333 30.        ]\n",
      " [ 5.33333333  9.66666667 15.        ]]\n",
      "The expected frequencies represent the counts we would expect in each category if there were no association between the two categorical variables. These are used in the Chi-square test to determine whether the observed frequencies differ significantly from the expected frequencies.\n"
     ]
    }
   ],
   "source": [
    "# Q13. Write a Python program to calculate the expected frequencies for a Chi-square test based on observed data.\n",
    "def calculate_expected_frequencies(observed):\n",
    "    # Calculate the total for each row and column\n",
    "    row_totals = observed.sum(axis=1)\n",
    "    col_totals = observed.sum(axis=0)\n",
    "    total = observed.sum()\n",
    "\n",
    "    # Calculate expected frequencies\n",
    "    expected = np.outer(row_totals, col_totals) / total\n",
    "    return expected\n",
    "\n",
    "\n",
    "# Example usage\n",
    "observed = np.array([[10, 20, 30], [6, 9, 15]])\n",
    "expected = calculate_expected_frequencies(observed)\n",
    "print(f\"Observed Frequencies:\\n{observed}\")\n",
    "print(f\"Expected Frequencies:\\n{expected}\")\n",
    "# Interpretation\n",
    "print(\n",
    "    \"The expected frequencies represent the counts we would expect in each category if there were no association between the two categorical variables. These are used in the Chi-square test to determine whether the observed frequencies differ significantly from the expected frequencies.\"\n",
    ")"
   ]
  },
  {
   "cell_type": "code",
   "execution_count": 17,
   "id": "1fe1d66a",
   "metadata": {},
   "outputs": [
    {
     "name": "stdout",
     "output_type": "stream",
     "text": [
      "Chi-square Statistic: 5.0000, P-value: 0.0821\n",
      "Fail to reject the null hypothesis: The observed data fits the expected distribution.\n"
     ]
    }
   ],
   "source": [
    "# Q14. Perform a goodness-of-fit test using Python to compare the observed data to an expected distribution.\n",
    "def goodness_of_fit_test(observed, expected):\n",
    "    # Perform Chi-square goodness-of-fit test\n",
    "    chi2_statistic, p_value = stats.chisquare(observed, f_exp=expected)\n",
    "\n",
    "    return chi2_statistic, p_value\n",
    "\n",
    "\n",
    "# Example usage\n",
    "observed = np.array([50, 30, 20])  # Observed frequencies\n",
    "expected = np.array([40, 40, 20])  # Expected frequencies\n",
    "chi2_statistic, p_value = goodness_of_fit_test(observed, expected)\n",
    "print(f\"Chi-square Statistic: {chi2_statistic:.4f}, P-value: {p_value:.4f}\")\n",
    "# Interpretation\n",
    "if p_value < 0.05:\n",
    "    print(\n",
    "        \"Reject the null hypothesis: The observed data does not fit the expected distribution.\"\n",
    "    )\n",
    "else:\n",
    "    print(\n",
    "        \"Fail to reject the null hypothesis: The observed data fits the expected distribution.\"\n",
    "    )"
   ]
  }
 ],
 "metadata": {
  "kernelspec": {
   "display_name": "Python 3",
   "language": "python",
   "name": "python3"
  },
  "language_info": {
   "codemirror_mode": {
    "name": "ipython",
    "version": 3
   },
   "file_extension": ".py",
   "mimetype": "text/x-python",
   "name": "python",
   "nbconvert_exporter": "python",
   "pygments_lexer": "ipython3",
   "version": "3.13.3"
  }
 },
 "nbformat": 4,
 "nbformat_minor": 5
}
