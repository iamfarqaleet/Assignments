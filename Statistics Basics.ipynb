{
 "cells": [
  {
   "cell_type": "markdown",
   "id": "ffdc0baa",
   "metadata": {},
   "source": [
    "### Statistics Basics Theoratical Questions"
   ]
  },
  {
   "cell_type": "markdown",
   "id": "d372e47e",
   "metadata": {},
   "source": [
    "Q1. What is statistics, and why is it important?\n",
    "- Statistics is the science of collecting, analyzing, interpreting, presenting, and organizing data. It is important because it provides tools and methods for making informed decisions based on data, helps in understanding patterns and trends, and supports hypothesis testing in various fields such as economics, psychology, medicine, and social sciences."
   ]
  },
  {
   "cell_type": "markdown",
   "id": "a60b7835",
   "metadata": {},
   "source": [
    "Q2. What are the two main types of statistics?\n",
    "- The two main types of statistics are descriptive statistics and inferential statistics. Descriptive statistics summarize and describe the characteristics of a dataset, while inferential statistics use sample data to make inferences or predictions about a larger population."
   ]
  },
  {
   "cell_type": "markdown",
   "id": "93709f29",
   "metadata": {},
   "source": [
    "Q3. What are descriptive statistics?\n",
    "- Descriptive statistics are methods for summarizing and organizing data to describe its main features. This includes measures such as mean, median, mode, range, variance, and standard deviation, as well as graphical representations like histograms, bar charts, and box plots."
   ]
  },
  {
   "cell_type": "markdown",
   "id": "984b0adb",
   "metadata": {},
   "source": [
    "Q4. What is inferential statistics?\n",
    "- Inferential statistics involves using sample data to make inferences or predictions about a larger population. It includes techniques such as hypothesis testing, confidence intervals, and regression analysis, allowing statisticians to draw conclusions and make decisions based on limited data."
   ]
  },
  {
   "cell_type": "markdown",
   "id": "6825577f",
   "metadata": {},
   "source": [
    "Q5. What is sampling in statistics?\n",
    "- Sampling in statistics is the process of selecting a subset of individuals or observations from a larger population to estimate characteristics of the whole population. It is used to gather data efficiently and cost-effectively, allowing statisticians to make inferences about the population without having to study every individual."
   ]
  },
  {
   "cell_type": "markdown",
   "id": "af7891e4",
   "metadata": {},
   "source": [
    "Q6. What are the different types of sampling methods?\n",
    "- There are several types of sampling methods, including:\n",
    "  - **Simple Random Sampling**: Every individual has an equal chance of being selected.\n",
    "  - **Systematic Sampling**: Individuals are selected at regular intervals from a randomly ordered list.\n",
    "  - **Stratified Sampling**: The population is divided into subgroups (strata) and random samples are taken from each stratum.\n",
    "  - **Cluster Sampling**: The population is divided into clusters, and entire clusters are randomly selected.\n",
    "  - **Convenience Sampling**: Samples are taken from a group that is easily accessible, which may introduce bias."
   ]
  },
  {
   "cell_type": "markdown",
   "id": "278057ba",
   "metadata": {},
   "source": [
    "Q7. What is the difference between random and non-random sampling?\n",
    "- Random sampling involves selecting individuals from a population in such a way that each individual has an equal chance of being chosen, which helps to eliminate bias and ensures that the sample is representative of the population. Non-random sampling, on the other hand, does not give all individuals an equal chance of selection, which can lead to biased results and may not accurately reflect the characteristics of the population."
   ]
  },
  {
   "cell_type": "markdown",
   "id": "b6c7a3d8",
   "metadata": {},
   "source": [
    "Q8. Define and give examples of qualitative and quantitative data.\n",
    "- **Qualitative Data**: This type of data describes characteristics or qualities that cannot be measured numerically. Examples include colors, names, labels, and categories (e.g., types of cuisine, customer satisfaction ratings).\n",
    "- **Quantitative Data**: This type of data can be measured and expressed numerically. Examples include height, weight, temperature, and sales figures."
   ]
  },
  {
   "cell_type": "markdown",
   "id": "e06f10fb",
   "metadata": {},
   "source": [
    "Q9. What are the different types of data in statistics?\n",
    "- The different types of data in statistics include:\n",
    "    - **Nominal Data**: Categorical data without a specific order\n",
    "    - **Ordinal Data**: Categorical data with a specific order (e.g., rankings)\n",
    "    - **Interval Data**: Numerical data with meaningful intervals but no true zero point (e.g., temperature in Celsius)\n",
    "    - **Ratio Data**: Numerical data with meaningful intervals and a true zero point (e.g., weight, height)"
   ]
  },
  {
   "cell_type": "markdown",
   "id": "f942d8fe",
   "metadata": {},
   "source": [
    "Q11. What is the measure of central tendency?\n",
    "- The measure of central tendency is a statistical measure that identifies a single value as representative of an entire distribution. It summarizes a set of data by identifying the central point within that dataset. The most common measures of central tendency are the mean (average), median (middle value), and mode (most frequently occurring value)."
   ]
  },
  {
   "cell_type": "markdown",
   "id": "1e4b1984",
   "metadata": {},
   "source": [
    "Q12. Define mean, median, and mode.\n",
    "- **Mean**: The mean is the average of a set of numbers, calculated by summing all the values and dividing by the number of values. It is sensitive to extreme values (outliers).\n",
    "- **Median**: The median is the middle value in a sorted list of numbers. If there is an even number of values, the median is the average of the two middle values. It is less affected by outliers than the mean.\n",
    "- **Mode**: The mode is the value that appears most frequently in a dataset. A dataset may have one mode, more than one mode (bimodal or multimodal), or no mode at all if no value repeats.\n"
   ]
  },
  {
   "cell_type": "markdown",
   "id": "47561d76",
   "metadata": {},
   "source": [
    "Q13. What is the significance of the measure of central tendency?\n",
    "- The significance of the measure of central tendency lies in its ability to provide a single representative value for a dataset, which simplifies data analysis and interpretation. It helps in understanding the general trend or typical value within a distribution, making it easier to compare different datasets and draw conclusions about the population from which the data is drawn. Measures of central tendency are essential for summarizing large amounts of data and are widely used in various fields such as economics, psychology, and social sciences.\n"
   ]
  },
  {
   "cell_type": "markdown",
   "id": "a0d7b9f7",
   "metadata": {},
   "source": [
    "Q14. What is variance, and how is it calculated?\n",
    "- Variance is a measure of how much the values in a dataset differ from the mean. It quantifies the degree of spread or dispersion in the data. Variance is calculated by taking the average of the squared differences between each data point and the mean. The formula for variance (σ²) for a population is:\n",
    "\n",
    "  \\[\n",
    "  \\sigma^2 = \\frac{\\sum (x_i - \\mu)^2}{N}\n",
    "  \\]\n",
    "\n",
    "  where \\(x_i\\) represents each data point, \\(\\mu\\) is the mean of the dataset, and \\(N\\) is the number of data points. For a sample, the formula is slightly adjusted to use \\(N-1\\) in the denominator to account for sample bias."
   ]
  },
  {
   "cell_type": "markdown",
   "id": "0c81e9d8",
   "metadata": {},
   "source": [
    "Q15. What is standard deviation, and why is it important?\n",
    "- Standard deviation is a measure of the amount of variation or dispersion in a set of values. It indicates how much individual data points differ from the mean of the dataset. A low standard deviation means that the data points tend to be close to the mean, while a high standard deviation indicates that the data points are spread out over a wider range. Standard deviation is important because it provides insight into the reliability and variability of the data, helping to assess the consistency and predictability of outcomes in various fields such as finance, quality control, and research.\n"
   ]
  },
  {
   "cell_type": "markdown",
   "id": "dc827e96",
   "metadata": {},
   "source": [
    "Q16. Define and explain the term range in statistics.\n",
    "- The range in statistics is the difference between the highest and lowest values in a dataset. It is a measure of dispersion that indicates the spread of the data. The formula for calculating the range is:\n",
    "\n",
    "  \\[\n",
    "  \\text{Range} = \\text{Maximum Value} - \\text{Minimum Value}\n",
    "  \\]\n",
    "\n",
    "  The range provides a simple way to understand the extent of variation in a dataset, but it does not account for how the data points are distributed within that range."
   ]
  },
  {
   "cell_type": "markdown",
   "id": "0425671b",
   "metadata": {},
   "source": [
    "Q17. What is the difference between variance and standard deviation?\n",
    "- Variance and standard deviation are both measures of dispersion in a dataset, but they differ in their calculation and interpretation:\n",
    "  - **Variance** is the average of the squared differences from the mean. It provides a measure of how much the data points vary from the mean, but it is expressed in squared units (e.g., square meters if measuring distance).\n",
    "  - **Standard Deviation** is the square root of variance. It is expressed in the same units as the original data, making it easier to interpret. Standard deviation provides a more intuitive understanding of variability, as it indicates how much individual data points typically differ from the mean.\n",
    "  "
   ]
  },
  {
   "cell_type": "markdown",
   "id": "23a3bfd0",
   "metadata": {},
   "source": [
    "Q18. What is skewness in a dataset?\n",
    "- Skewness is a measure of the asymmetry of the distribution of values in a dataset. It indicates whether the data points are skewed to the left (negative skew) or to the right (positive skew) relative to the mean. A skewness value of zero indicates a perfectly symmetrical distribution. Positive skewness means that the tail on the right side of the distribution is longer or fatter than the left side, while negative skewness indicates that the tail on the left side is longer or fatter than the right side. Skewness helps in understanding the shape of the data distribution and can influence statistical analyses and interpretations.\n"
   ]
  },
  {
   "cell_type": "markdown",
   "id": "de7b1edc",
   "metadata": {},
   "source": [
    "Q19. What does it mean if a dataset is positively or negatively skewed?\n",
    "- If a dataset is positively skewed, it means that the majority of the data points are concentrated on the left side of the distribution, with a long tail extending to the right. This indicates that there are a few high values (outliers) that pull the mean to the right, making it greater than the median.\n",
    "- If a dataset is negatively skewed, it means that the majority of the data points are concentrated on the right side of the distribution, with a long tail extending to the left. This indicates that there are a few low values (outliers) that pull the mean to the left, making it less than the median. Skewness affects the interpretation of central tendency measures and can influence statistical analyses."
   ]
  },
  {
   "cell_type": "markdown",
   "id": "24035029",
   "metadata": {},
   "source": [
    "Q20. Define and explain kurtosis.\n",
    "- Kurtosis is a statistical measure that describes the shape of the distribution of data points in a dataset, specifically focusing on the \"tailedness\" or the presence of outliers. It indicates how much of the data is concentrated in the tails and how peaked or flat the distribution is compared to a normal distribution. \n",
    "\n",
    "  - **High Kurtosis**: Indicates that the dataset has heavy tails and a sharp peak, meaning there are more outliers than in a normal distribution.\n",
    "  - **Low Kurtosis**: Indicates that the dataset has light tails and a flatter peak, meaning there are fewer outliers than in a normal distribution.\n",
    "  \n",
    "  Kurtosis is often used in conjunction with skewness to provide a complete picture of the distribution's shape. The most common measure of kurtosis is excess kurtosis, which compares the kurtosis of a dataset to that of a normal distribution (which has a kurtosis of 3). Excess kurtosis values greater than zero indicate heavier tails than a normal distribution, while values less than zero indicate lighter tails."
   ]
  },
  {
   "cell_type": "markdown",
   "id": "982ee4d5",
   "metadata": {},
   "source": [
    "Q21. What is the purpose of covariance?\n",
    "- Covariance is a measure of the degree to which two random variables change together. It indicates the direction of the linear relationship between the variables. A positive covariance means that as one variable increases, the other variable tends to increase as well, while a negative covariance means that as one variable increases, the other tends to decrease. Covariance is used in statistics to understand the relationship between variables and is a key component in calculating correlation coefficients and in portfolio theory in finance."
   ]
  },
  {
   "cell_type": "markdown",
   "id": "0e51646e",
   "metadata": {},
   "source": [
    "Q22. What does correlation measure in statistics?\n",
    "- Correlation measures the strength and direction of the linear relationship between two variables. It quantifies how closely the two variables move together. The correlation coefficient, typically denoted as \\( r \\), ranges from -1 to 1:\n",
    "  - \\( r = 1 \\): Perfect positive correlation (as one variable increases, the other also increases).\n",
    "  - \\( r = -1 \\): Perfect negative correlation (as one variable increases, the other decreases).\n",
    "  - \\( r = 0 \\): No correlation (the variables do not have a linear relationship).\n",
    "  \n",
    "  Correlation is used to assess the degree to which two variables are related and can help in predicting one variable based on another."
   ]
  },
  {
   "cell_type": "markdown",
   "id": "d46a4b57",
   "metadata": {},
   "source": [
    "Q23. What is the difference between covariance and correlation?\n",
    "- Covariance and correlation are both measures of the relationship between two variables, but they differ in their scale and interpretation:\n",
    "  - **Covariance** measures the degree to which two variables change together, but it is not standardized and can take any value from negative to positive infinity. The magnitude of covariance is influenced by the scale of the variables, making it difficult to interpret.\n",
    "  - **Correlation**, on the other hand, standardizes the covariance by dividing it by the product of the standard deviations of the two variables. This results in a correlation coefficient that ranges from -1 to 1, making it easier to interpret. Correlation provides a clearer understanding of the strength and direction of the linear relationship between the variables."
   ]
  },
  {
   "cell_type": "markdown",
   "id": "d33bf27f",
   "metadata": {},
   "source": [
    "Q24. What are some real-world applications of statistics?\n",
    "- Statistics has numerous real-world applications across various fields, including:\n",
    "  - **Healthcare**: Analyzing patient data to improve treatment outcomes, conducting clinical trials, and understanding disease prevalence.\n",
    "  - **Economics**: Evaluating economic indicators, forecasting market trends, and analyzing consumer behavior.\n",
    "  - **Social Sciences**: Conducting surveys and experiments to understand human behavior, social trends, and public opinion.\n",
    "  - **Business**: Making data-driven decisions in marketing, sales forecasting, quality control, and financial analysis.\n",
    "  - **Sports**: Analyzing player performance, team statistics, and game strategies to improve outcomes.\n",
    "  - **Environmental Science**: Studying climate change patterns, pollution levels, and biodiversity through data analysis."
   ]
  },
  {
   "cell_type": "markdown",
   "id": "3e66c0b3",
   "metadata": {},
   "source": [
    "### Statistics Basics Practical Questions"
   ]
  },
  {
   "cell_type": "code",
   "execution_count": 2,
   "id": "085ea420",
   "metadata": {},
   "outputs": [
    {
     "name": "stdout",
     "output_type": "stream",
     "text": [
      "Mean: 3.6666666666666665\n",
      "Median: 4\n",
      "Mode: 5\n"
     ]
    }
   ],
   "source": [
    "# Q1. How do you calculate the mean, median, and mode of a dataset?\n",
    "\n",
    "import statistics\n",
    "\n",
    "data = [1, 2, 2, 3, 4, 5, 5, 5, 6]\n",
    "\n",
    "mean = statistics.mean(data)\n",
    "median = statistics.median(data)\n",
    "mode = statistics.mode(data)\n",
    "\n",
    "print(\"Mean:\", mean)\n",
    "print(\"Median:\", median)\n",
    "print(\"Mode:\", mode)"
   ]
  },
  {
   "cell_type": "code",
   "execution_count": null,
   "id": "a8eb9737",
   "metadata": {},
   "outputs": [
    {
     "name": "stdout",
     "output_type": "stream",
     "text": [
      "Variance: 3\n",
      "Standard Deviation: 1.7320508075688772\n"
     ]
    }
   ],
   "source": [
    "# Q2. Write a Python program to compute the variance and standard deviation of a dataset.\n",
    "\n",
    "import statistics\n",
    "\n",
    "data = [1, 2, 2, 3, 4, 5, 5, 5, 6]\n",
    "variance = statistics.variance(data)\n",
    "std_dev = statistics.stdev(data)\n",
    "print(\"Variance:\", variance)\n",
    "print(\"Standard Deviation:\", std_dev)"
   ]
  },
  {
   "cell_type": "code",
   "execution_count": null,
   "id": "ae6c35b9",
   "metadata": {},
   "outputs": [
    {
     "name": "stdout",
     "output_type": "stream",
     "text": [
      "Nominal Data: ['red', 'blue', 'green', 'yellow']\n",
      "Ordinal Data: ['low', 'medium', 'high']\n",
      "Interval Data: [10, 20, 30, 40]\n",
      "Ratio Data: [0, 10, 20, 30]\n"
     ]
    }
   ],
   "source": [
    "# Q3. Create a dataset and classify it into nominal, ordinal, interval, and ratio types.\n",
    "\n",
    "\n",
    "# Nominal: Categories without a specific order\n",
    "\n",
    "nominal_data = [\"red\", \"blue\", \"green\", \"yellow\"]\n",
    "\n",
    "# Ordinal: Categories with a specific order\n",
    "\n",
    "ordinal_data = [\"low\", \"medium\", \"high\"]\n",
    "\n",
    "# Interval: Numeric data with equal intervals but no true zero\n",
    "\n",
    "interval_data = [10, 20, 30, 40]\n",
    "\n",
    "# Ratio: Numeric data with equal intervals and a true zero\n",
    "\n",
    "ratio_data = [0, 10, 20, 30]\n",
    "\n",
    "print(\"Nominal Data:\", nominal_data)\n",
    "\n",
    "print(\"Ordinal Data:\", ordinal_data)\n",
    "\n",
    "print(\"Interval Data:\", interval_data)\n",
    "\n",
    "print(\"Ratio Data:\", ratio_data)"
   ]
  },
  {
   "cell_type": "code",
   "execution_count": null,
   "id": "b775e10f",
   "metadata": {},
   "outputs": [
    {
     "name": "stdout",
     "output_type": "stream",
     "text": [
      "Random Sample: [{'category': 'B', 'value': 15}, {'category': 'C', 'value': 23}, {'category': 'C', 'value': 24}, {'category': 'B', 'value': 17}, {'category': 'B', 'value': 11}, {'category': 'A', 'value': 8}]\n",
      "Stratified Sample: [{'category': 'A', 'value': 0}, {'category': 'A', 'value': 6}, {'category': 'B', 'value': 14}, {'category': 'B', 'value': 17}, {'category': 'C', 'value': 28}, {'category': 'C', 'value': 29}]\n"
     ]
    }
   ],
   "source": [
    "# Q4. Implement sampling techniques like random sampling and stratified sampling.\n",
    "\n",
    "import random\n",
    "\n",
    "\n",
    "\n",
    "def random_sampling(data, sample_size):\n",
    "\n",
    "    return random.sample(data, sample_size)\n",
    "\n",
    "\n",
    "\n",
    "def stratified_sampling(data, strata, sample_size):\n",
    "\n",
    "    stratified_samples = []\n",
    "\n",
    "    for stratum in strata:\n",
    "\n",
    "        stratum_data = [item for item in data if item[\"category\"] == stratum]\n",
    "\n",
    "        stratified_samples.extend(\n",
    "\n",
    "            random.sample(stratum_data, sample_size // len(strata))\n",
    "        )\n",
    "\n",
    "    return stratified_samples\n",
    "\n",
    "\n",
    "\n",
    "# Example data for stratified sampling\n",
    "\n",
    "data = (\n",
    "\n",
    "    [{\"category\": \"A\", \"value\": i} for i in range(10)]\n",
    "\n",
    "    + [{\"category\": \"B\", \"value\": i} for i in range(10, 20)]\n",
    "\n",
    "    + [{\"category\": \"C\", \"value\": i} for i in range(20, 30)]\n",
    ")\n",
    "\n",
    "sample_size = 6\n",
    "\n",
    "strata = [\"A\", \"B\", \"C\"]\n",
    "\n",
    "random_sample = random_sampling(data, sample_size)\n",
    "\n",
    "stratified_sample = stratified_sampling(data, strata, sample_size)\n",
    "\n",
    "print(\"Random Sample:\", random_sample)\n",
    "\n",
    "print(\"Stratified Sample:\", stratified_sample)"
   ]
  },
  {
   "cell_type": "code",
   "execution_count": null,
   "id": "fec1be6a",
   "metadata": {},
   "outputs": [
    {
     "name": "stdout",
     "output_type": "stream",
     "text": [
      "Range of the dataset: 5\n"
     ]
    }
   ],
   "source": [
    "# Q5. Write a Python function to calculate the range of a dataset.\n",
    "\n",
    "\n",
    "\n",
    "def calculate_range(data):\n",
    "\n",
    "    return max(data) - min(data)\n",
    "\n",
    "\n",
    "\n",
    "data = [1, 2, 3, 4, 5, 6]\n",
    "\n",
    "data_range = calculate_range(data)\n",
    "\n",
    "print(\"Range of the dataset:\", data_range)"
   ]
  },
  {
   "cell_type": "code",
   "execution_count": null,
   "id": "cc997472",
   "metadata": {},
   "outputs": [
    {
     "data": {
      "image/png": "[encoded data removed]",
      "text/plain": [
       "<Figure size 640x480 with 1 Axes>"
      ]
     },
     "metadata": {},
     "output_type": "display_data"
    }
   ],
   "source": [
    "# Q6. Create a dataset and plot its histogram to visualize skewness.\n",
    "\n",
    "\n",
    "import matplotlib.pyplot as plt\n",
    "\n",
    "import numpy as np\n",
    "\n",
    "\n",
    "\n",
    "def plot_histogram(data):\n",
    "\n",
    "    plt.hist(data, bins=10, edgecolor=\"black\")\n",
    "\n",
    "    plt.title(\"Histogram of Dataset\")\n",
    "\n",
    "    plt.xlabel(\"Value\")\n",
    "\n",
    "    plt.ylabel(\"Frequency\")\n",
    "\n",
    "    plt.show()\n",
    "\n",
    "\n",
    "\n",
    "data = np.random.normal(loc=0, scale=1, size=1000)  # Normal distribution\n",
    "\n",
    "plot_histogram(data)"
   ]
  },
  {
   "cell_type": "code",
   "execution_count": null,
   "id": "60da3368",
   "metadata": {},
   "outputs": [
    {
     "name": "stdout",
     "output_type": "stream",
     "text": [
      "Skewness: -0.22113449066792543\n",
      "Kurtosis: -1.3541666666666665\n"
     ]
    }
   ],
   "source": [
    "# Q7. Calculate skewness and kurtosis of a dataset using Python libraries.\n",
    "\n",
    "from scipy.stats import skew, kurtosis\n",
    "\n",
    "data = [1, 2, 2, 3, 4, 5, 5, 5, 6]\n",
    "data_skewness = skew(data)\n",
    "data_kurtosis = kurtosis(data)\n",
    "print(\"Skewness:\", data_skewness)\n",
    "print(\"Kurtosis:\", data_kurtosis)"
   ]
  },
  {
   "cell_type": "code",
   "execution_count": null,
   "id": "4e8c1495",
   "metadata": {},
   "outputs": [
    {
     "data": {
      "image/png": "[encoded data removed]",
      "text/plain": [
       "<Figure size 800x400 with 1 Axes>"
      ]
     },
     "metadata": {},
     "output_type": "display_data"
    },
    {
     "data": {
      "image/png": "[encoded data removed]",
      "text/plain": [
       "<Figure size 800x400 with 1 Axes>"
      ]
     },
     "metadata": {},
     "output_type": "display_data"
    }
   ],
   "source": [
    "# Q8. Generate a dataset and demonstrate positive and negative skewness.\n",
    "\n",
    "import numpy as np\n",
    "import matplotlib.pyplot as plt\n",
    "from scipy.stats import skew\n",
    "\n",
    "\n",
    "# Function to generate skewed data\n",
    "def generate_skewed_data(skew_type, size=1000):\n",
    "    if skew_type == \"positive\":\n",
    "        return np.random.exponential(scale=1, size=size)\n",
    "    elif skew_type == \"negative\":\n",
    "        return -np.random.exponential(scale=1, size=size)\n",
    "    else:\n",
    "        raise ValueError(\"skew_type must be 'positive' or 'negative'\")\n",
    "\n",
    "\n",
    "# Function to plot histogram and display skewness\n",
    "def plot_histogram(data, title):\n",
    "    plt.figure(figsize=(8, 4))\n",
    "    plt.hist(data, bins=30, color=\"skyblue\", edgecolor=\"black\")\n",
    "    plt.title(f\"{title} Skew\\nSkewness = {skew(data):.2f}\")\n",
    "    plt.xlabel(\"Value\")\n",
    "    plt.ylabel(\"Frequency\")\n",
    "    plt.grid(True)\n",
    "    plt.show()\n",
    "\n",
    "\n",
    "# Generate data\n",
    "positive_skewed_data = generate_skewed_data(\"positive\")\n",
    "negative_skewed_data = generate_skewed_data(\"negative\")\n",
    "\n",
    "# Plot histograms\n",
    "plot_histogram(positive_skewed_data, \"Positive\")\n",
    "plot_histogram(negative_skewed_data, \"Negative\")"
   ]
  },
  {
   "cell_type": "code",
   "execution_count": null,
   "id": "19c176cb",
   "metadata": {},
   "outputs": [
    {
     "name": "stdout",
     "output_type": "stream",
     "text": [
      "Covariance between data1 and data2: -2.5\n"
     ]
    }
   ],
   "source": [
    "# Q9. Write a Python script to calculate covariance between two datasets.\n",
    "\n",
    "import numpy as np\n",
    "\n",
    "\n",
    "def calculate_covariance(data1, data2):\n",
    "    return np.cov(data1, data2)[0][1]\n",
    "\n",
    "\n",
    "data1 = [1, 2, 3, 4, 5]\n",
    "data2 = [5, 4, 3, 2, 1]\n",
    "covariance = calculate_covariance(data1, data2)\n",
    "print(\"Covariance between data1 and data2:\", covariance)"
   ]
  },
  {
   "cell_type": "code",
   "execution_count": null,
   "id": "d4e94d47",
   "metadata": {},
   "outputs": [
    {
     "name": "stdout",
     "output_type": "stream",
     "text": [
      "Correlation coefficient between data1 and data2: -0.9999999999999999\n"
     ]
    }
   ],
   "source": [
    "# Q10. Write a Python script to calculate the correlation coefficient between two datasets.\n",
    "\n",
    "import numpy as np\n",
    "\n",
    "\n",
    "def calculate_correlation(data1, data2):\n",
    "    return np.corrcoef(data1, data2)[0][1]\n",
    "\n",
    "\n",
    "data1 = [1, 2, 3, 4, 5]\n",
    "data2 = [5, 4, 3, 2, 1]\n",
    "correlation = calculate_correlation(data1, data2)\n",
    "print(\"Correlation coefficient between data1 and data2:\", correlation)"
   ]
  },
  {
   "cell_type": "code",
   "execution_count": null,
   "id": "24750de5",
   "metadata": {},
   "outputs": [
    {
     "data": {
      "image/png": "[encoded data removed]",
      "text/plain": [
       "<Figure size 640x480 with 1 Axes>"
      ]
     },
     "metadata": {},
     "output_type": "display_data"
    }
   ],
   "source": [
    "# Q11. Create a scatter plot to visualize the relationship between two variables.\n",
    "\n",
    "import matplotlib.pyplot as plt\n",
    "\n",
    "\n",
    "def create_scatter_plot(x, y):\n",
    "    plt.scatter(x, y, color=\"blue\", alpha=0.5)\n",
    "    plt.title(\"Scatter Plot of Two Variables\")\n",
    "    plt.xlabel(\"Variable X\")\n",
    "    plt.ylabel(\"Variable Y\")\n",
    "    plt.grid(True)\n",
    "    plt.show()\n",
    "\n",
    "\n",
    "x = [1, 2, 3, 4, 5]\n",
    "y = [5, 4, 3, 2, 1]\n",
    "create_scatter_plot(x, y)"
   ]
  },
  {
   "cell_type": "code",
   "execution_count": null,
   "id": "139d2f7a",
   "metadata": {},
   "outputs": [
    {
     "name": "stdout",
     "output_type": "stream",
     "text": [
      "Simple Random Sample: [99, 11, 81, 45, 3, 12, 59, 65, 58, 34]\n",
      "Systematic Sample: [0, 10, 20, 30, 40, 50, 60, 70, 80, 90]\n"
     ]
    }
   ],
   "source": [
    "# Q12. Implement and compare simple random sampling and systematic sampling.\n",
    "\n",
    "import random\n",
    "\n",
    "\n",
    "def simple_random_sampling(data, sample_size):\n",
    "    return random.sample(data, sample_size)\n",
    "\n",
    "\n",
    "def systematic_sampling(data, sample_size):\n",
    "    step = len(data) // sample_size\n",
    "    return [data[i] for i in range(0, len(data), step)][:sample_size]\n",
    "\n",
    "\n",
    "# Example data for systematic sampling\n",
    "data = [i for i in range(100)]\n",
    "sample_size = 10\n",
    "random_sample = simple_random_sampling(data, sample_size)\n",
    "systematic_sample = systematic_sampling(data, sample_size)\n",
    "print(\"Simple Random Sample:\", random_sample)\n",
    "print(\"Systematic Sample:\", systematic_sample)"
   ]
  },
  {
   "cell_type": "code",
   "execution_count": null,
   "id": "cf62583c",
   "metadata": {},
   "outputs": [
    {
     "name": "stdout",
     "output_type": "stream",
     "text": [
      "Mean: 24.0\n",
      "Median: 24.67\n",
      "Mode: 25.83\n"
     ]
    }
   ],
   "source": [
    "# Q13. Calculate the mean, median, and mode of grouped data.\n",
    "\n",
    "import numpy as np\n",
    "\n",
    "# Define class intervals and frequencies\n",
    "class_intervals = [(0, 10), (10, 20), (20, 30), (30, 40), (40, 50)]\n",
    "frequencies = [5, 8, 15, 10, 2]\n",
    "\n",
    "# Step 1: Calculate midpoints of each class\n",
    "midpoints = [(lower + upper) / 2 for lower, upper in class_intervals]\n",
    "\n",
    "# Step 2: Calculate Mean\n",
    "total_freq = sum(frequencies)\n",
    "mean = sum(f * x for f, x in zip(frequencies, midpoints)) / total_freq\n",
    "\n",
    "# Step 3: Calculate Median\n",
    "cumulative_frequencies = np.cumsum(frequencies)\n",
    "n = total_freq\n",
    "median_class_index = np.where(cumulative_frequencies >= n / 2)[0][0]\n",
    "\n",
    "L = class_intervals[median_class_index][0]\n",
    "f = frequencies[median_class_index]\n",
    "CF = cumulative_frequencies[median_class_index - 1] if median_class_index > 0 else 0\n",
    "h = class_intervals[median_class_index][1] - class_intervals[median_class_index][0]\n",
    "\n",
    "median = L + ((n / 2 - CF) / f) * h\n",
    "\n",
    "# Step 4: Calculate Mode\n",
    "modal_class_index = np.argmax(frequencies)\n",
    "L = class_intervals[modal_class_index][0]\n",
    "f1 = frequencies[modal_class_index]\n",
    "f0 = frequencies[modal_class_index - 1] if modal_class_index > 0 else 0\n",
    "f2 = (\n",
    "    frequencies[modal_class_index + 1]\n",
    "    if modal_class_index < len(frequencies) - 1\n",
    "    else 0\n",
    ")\n",
    "h = class_intervals[modal_class_index][1] - class_intervals[modal_class_index][0]\n",
    "\n",
    "mode = L + ((f1 - f0) / ((f1 - f0) + (f1 - f2))) * h\n",
    "\n",
    "# Output\n",
    "print(\"Mean:\", round(mean, 2))\n",
    "print(\"Median:\", round(median, 2))\n",
    "print(\"Mode:\", round(mode, 2))"
   ]
  },
  {
   "cell_type": "code",
   "execution_count": null,
   "id": "85edcfdc",
   "metadata": {},
   "outputs": [
    {
     "name": "stdout",
     "output_type": "stream",
     "text": [
      "Central Tendency: {'Mean': np.float64(50.33977579994584), 'Median': np.float64(50.36289006386639), 'Mode': np.float64(17.320208699707067)}\n",
      "Dispersion: {'Variance': np.float64(102.77580888579705), 'Standard Deviation': np.float64(10.137840444877648), 'Range': np.float64(72.16159485425986)}\n"
     ]
    }
   ],
   "source": [
    "# Q14. Simulate data using Python and calculate its central tendency and dispersion.\n",
    "\n",
    "import numpy as np\n",
    "import pandas as pd\n",
    "\n",
    "\n",
    "def simulate_data(size=1000, mean=50, std_dev=10):\n",
    "    return np.random.normal(loc=mean, scale=std_dev, size=size)\n",
    "\n",
    "\n",
    "data = simulate_data()\n",
    "df = pd.DataFrame(data, columns=[\"Value\"])\n",
    "central_tendency = {\n",
    "    \"Mean\": df[\"Value\"].mean(),\n",
    "    \"Median\": df[\"Value\"].median(),\n",
    "    \"Mode\": df[\"Value\"].mode()[0],  # Mode returns a Series, take the first value\n",
    "}\n",
    "dispersion = {\n",
    "    \"Variance\": df[\"Value\"].var(),\n",
    "    \"Standard Deviation\": df[\"Value\"].std(),\n",
    "    \"Range\": df[\"Value\"].max() - df[\"Value\"].min(),\n",
    "}\n",
    "print(\"Central Tendency:\", central_tendency)\n",
    "print(\"Dispersion:\", dispersion)"
   ]
  },
  {
   "cell_type": "code",
   "execution_count": null,
   "id": "1c952f94",
   "metadata": {},
   "outputs": [
    {
     "name": "stdout",
     "output_type": "stream",
     "text": [
      "Descriptive Statistics:\n",
      "               A         B         C\n",
      "count  5.000000  5.000000  5.000000\n",
      "mean   3.000000  3.000000  4.000000\n",
      "std    1.581139  1.581139  1.581139\n",
      "min    1.000000  1.000000  2.000000\n",
      "25%    2.000000  2.000000  3.000000\n",
      "50%    3.000000  3.000000  4.000000\n",
      "75%    4.000000  4.000000  5.000000\n",
      "max    5.000000  5.000000  6.000000\n"
     ]
    }
   ],
   "source": [
    "# Q15. Use NumPy or pandas to summarize a dataset’s descriptive statistics.\n",
    "\n",
    "import pandas as pd\n",
    "\n",
    "data = {\n",
    "    \"A\": [1, 2, 3, 4, 5],\n",
    "    \"B\": [5, 4, 3, 2, 1],\n",
    "    \"C\": [2, 3, 4, 5, 6],\n",
    "}\n",
    "df = pd.DataFrame(data)\n",
    "descriptive_stats = df.describe()\n",
    "print(\"Descriptive Statistics:\\n\", descriptive_stats)"
   ]
  },
  {
   "cell_type": "code",
   "execution_count": null,
   "id": "ead227ac",
   "metadata": {},
   "outputs": [
    {
     "data": {
      "image/png": "[encoded data removed]",
      "text/plain": [
       "<Figure size 640x480 with 1 Axes>"
      ]
     },
     "metadata": {},
     "output_type": "display_data"
    }
   ],
   "source": [
    "# Q16. Plot a boxplot to understand the spread and identify outliers.\n",
    "\n",
    "import matplotlib.pyplot as plt\n",
    "\n",
    "\n",
    "def plot_boxplot(data):\n",
    "    plt.boxplot(data)\n",
    "    plt.title(\"Boxplot of Dataset\")\n",
    "    plt.ylabel(\"Value\")\n",
    "    plt.grid(True)\n",
    "    plt.show()\n",
    "\n",
    "\n",
    "data = [1, 2, 2, 3, 4, 5, 5, 5, 6]\n",
    "plot_boxplot(data)"
   ]
  },
  {
   "cell_type": "code",
   "execution_count": null,
   "id": "607862a1",
   "metadata": {},
   "outputs": [
    {
     "name": "stdout",
     "output_type": "stream",
     "text": [
      "Interquartile Range (IQR): 3.0\n"
     ]
    }
   ],
   "source": [
    "# Q17. Calculate the interquartile range (IQR) of a dataset.\n",
    "\n",
    "import numpy as np\n",
    "\n",
    "\n",
    "def calculate_iqr(data):\n",
    "    q1 = np.percentile(data, 25)\n",
    "    q3 = np.percentile(data, 75)\n",
    "    return q3 - q1\n",
    "\n",
    "\n",
    "data = [1, 2, 2, 3, 4, 5, 5, 5, 6]\n",
    "data_iqr = calculate_iqr(data)\n",
    "print(\"Interquartile Range (IQR):\", data_iqr)"
   ]
  },
  {
   "cell_type": "code",
   "execution_count": null,
   "id": "890ed797",
   "metadata": {},
   "outputs": [
    {
     "name": "stdout",
     "output_type": "stream",
     "text": [
      "Z-score Normalized Data: [-1.63299316 -1.02062073 -1.02062073 -0.40824829  0.20412415  0.81649658\n",
      "  0.81649658  0.81649658  1.42886902]\n"
     ]
    }
   ],
   "source": [
    "# Q18. Implement Z-score normalization and explain its significance.\n",
    "\n",
    "from scipy.stats import zscore\n",
    "\n",
    "\n",
    "def z_score_normalization(data):\n",
    "    return zscore(data)\n",
    "\n",
    "\n",
    "data = [1, 2, 2, 3, 4, 5, 5, 5, 6]\n",
    "normalized_data = z_score_normalization(data)\n",
    "print(\"Z-score Normalized Data:\", normalized_data)\n",
    "# Z-score normalization is significant because it standardizes the data, allowing for comparison across different datasets or features. It transforms the data to have a mean of 0 and a standard deviation of 1, which is useful for many statistical analyses and machine learning algorithms."
   ]
  },
  {
   "cell_type": "code",
   "execution_count": null,
   "id": "83ff6b5d",
   "metadata": {},
   "outputs": [
    {
     "name": "stdout",
     "output_type": "stream",
     "text": [
      "Standard Deviation of Data1: 1.4142135623730951\n",
      "Standard Deviation of Data2: 1.4142135623730951\n"
     ]
    }
   ],
   "source": [
    "# Q19. Compare two datasets using their standard deviations.\n",
    "\n",
    "import numpy as np\n",
    "\n",
    "\n",
    "def compare_standard_deviations(data1, data2):\n",
    "    std_dev1 = np.std(data1)\n",
    "    std_dev2 = np.std(data2)\n",
    "    return std_dev1, std_dev2\n",
    "\n",
    "\n",
    "data1 = [1, 2, 3, 4, 5]\n",
    "data2 = [5, 4, 3, 2, 1]\n",
    "std_dev1, std_dev2 = compare_standard_deviations(data1, data2)\n",
    "print(\"Standard Deviation of Data1:\", std_dev1)\n",
    "print(\"Standard Deviation of Data2:\", std_dev2)"
   ]
  },
  {
   "cell_type": "code",
   "execution_count": null,
   "id": "4f6ebd44",
   "metadata": {},
   "outputs": [
    {
     "data": {
      "image/png": "[encoded data removed]",
      "text/plain": [
       "<Figure size 640x480 with 2 Axes>"
      ]
     },
     "metadata": {},
     "output_type": "display_data"
    }
   ],
   "source": [
    "# Q20. Write a Python program to visualize covariance using a heatmap.\n",
    "\n",
    "import numpy as np\n",
    "import seaborn as sns\n",
    "import matplotlib.pyplot as plt\n",
    "\n",
    "\n",
    "def visualize_covariance(data):\n",
    "    covariance_matrix = np.cov(data, rowvar=False)\n",
    "    sns.heatmap(covariance_matrix, annot=True, cmap=\"coolwarm\", fmt=\".2f\")\n",
    "    plt.title(\"Covariance Heatmap\")\n",
    "    plt.show()\n",
    "\n",
    "\n",
    "data = np.random.rand(10, 3)  # Example dataset with 10 samples and 3 features\n",
    "visualize_covariance(data)"
   ]
  },
  {
   "cell_type": "code",
   "execution_count": null,
   "id": "aaa3bf09",
   "metadata": {},
   "outputs": [
    {
     "data": {
      "image/png": "[encoded data removed]",
      "text/plain": [
       "<Figure size 640x480 with 2 Axes>"
      ]
     },
     "metadata": {},
     "output_type": "display_data"
    }
   ],
   "source": [
    "# Q21. Use seaborn to create a correlation matrix for a dataset.\n",
    "\n",
    "import seaborn as sns\n",
    "import matplotlib.pyplot as plt\n",
    "\n",
    "\n",
    "def create_correlation_matrix(data):\n",
    "    correlation_matrix = data.corr()\n",
    "    sns.heatmap(correlation_matrix, annot=True, cmap=\"coolwarm\", fmt=\".2f\")\n",
    "    plt.title(\"Correlation Matrix\")\n",
    "    plt.show()\n",
    "\n",
    "\n",
    "data = pd.DataFrame(\n",
    "    {\n",
    "        \"A\": [1, 2, 3, 4, 5],\n",
    "        \"B\": [5, 4, 3, 2, 1],\n",
    "        \"C\": [2, 3, 4, 5, 6],\n",
    "    }\n",
    ")\n",
    "create_correlation_matrix(data)"
   ]
  },
  {
   "cell_type": "code",
   "execution_count": null,
   "id": "1e8d61c8",
   "metadata": {},
   "outputs": [
    {
     "name": "stdout",
     "output_type": "stream",
     "text": [
      "Variance: 93.67610593838033\n",
      "Standard Deviation: 9.67864174036731\n"
     ]
    }
   ],
   "source": [
    "# Q22. Generate a dataset and implement both variance and standard deviation computations.\n",
    "\n",
    "import numpy as np\n",
    "\n",
    "\n",
    "def generate_dataset(size=100, mean=50, std_dev=10):\n",
    "    return np.random.normal(loc=mean, scale=std_dev, size=size)\n",
    "\n",
    "\n",
    "data = generate_dataset()\n",
    "variance = np.var(data)\n",
    "std_dev = np.std(data)\n",
    "print(\"Variance:\", variance)\n",
    "print(\"Standard Deviation:\", std_dev)"
   ]
  },
  {
   "cell_type": "code",
   "execution_count": null,
   "id": "f834d4c2",
   "metadata": {},
   "outputs": [
    {
     "data": {
      "image/png": "[encoded data removed]",
      "text/plain": [
       "<Figure size 1000x500 with 2 Axes>"
      ]
     },
     "metadata": {},
     "output_type": "display_data"
    }
   ],
   "source": [
    "# Q23. Visualize skewness and kurtosis using Python libraries like matplotlib or seaborn.\n",
    "\n",
    "import matplotlib.pyplot as plt\n",
    "from scipy.stats import skew, kurtosis\n",
    "\n",
    "\n",
    "def plot_skewness_kurtosis(data):\n",
    "    data_skewness = skew(data)\n",
    "    data_kurtosis = kurtosis(data)\n",
    "\n",
    "    plt.figure(figsize=(10, 5))\n",
    "    plt.subplot(1, 2, 1)\n",
    "    plt.hist(data, bins=30, color=\"skyblue\", edgecolor=\"black\")\n",
    "    plt.title(\n",
    "        f\"Histogram\\nSkewness: {data_skewness:.2f}, Kurtosis: {data_kurtosis:.2f}\"\n",
    "    )\n",
    "    plt.xlabel(\"Value\")\n",
    "    plt.ylabel(\"Frequency\")\n",
    "\n",
    "    plt.subplot(1, 2, 2)\n",
    "    sns.boxplot(data=data, color=\"lightgreen\")\n",
    "    plt.title(\"Boxplot\")\n",
    "\n",
    "    plt.tight_layout()\n",
    "    plt.show()\n",
    "\n",
    "\n",
    "data = np.random.normal(loc=0, scale=1, size=1000)  # Normal distribution\n",
    "plot_skewness_kurtosis(data)"
   ]
  },
  {
   "cell_type": "code",
   "execution_count": null,
   "id": "0fc63858",
   "metadata": {},
   "outputs": [
    {
     "name": "stdout",
     "output_type": "stream",
     "text": [
      "Pearson Correlation Coefficient: -1.0\n",
      "Spearman Correlation Coefficient: -0.9999999999999999\n"
     ]
    }
   ],
   "source": [
    "# Q24. Implement the Pearson and Spearman correlation coefficients for a dataset.\n",
    "\n",
    "import pandas as pd\n",
    "from scipy.stats import pearsonr, spearmanr\n",
    "\n",
    "\n",
    "def calculate_correlations(data):\n",
    "    pearson_corr, _ = pearsonr(data[\"A\"], data[\"B\"])\n",
    "    spearman_corr, _ = spearmanr(data[\"A\"], data[\"B\"])\n",
    "    return pearson_corr, spearman_corr\n",
    "\n",
    "\n",
    "data = pd.DataFrame(\n",
    "    {\n",
    "        \"A\": [1, 2, 3, 4, 5],\n",
    "        \"B\": [5, 4, 3, 2, 1],\n",
    "    }\n",
    ")\n",
    "pearson_corr, spearman_corr = calculate_correlations(data)\n",
    "print(\"Pearson Correlation Coefficient:\", pearson_corr)\n",
    "print(\"Spearman Correlation Coefficient:\", spearman_corr)"
   ]
  },
  {
   "cell_type": "code",
   "execution_count": null,
   "id": "0993544e",
   "metadata": {},
   "outputs": [],
   "source": []
  }
 ],
 "metadata": {
  "kernelspec": {
   "display_name": "Python 3",
   "language": "python",
   "name": "python3"
  },
  "language_info": {
   "codemirror_mode": {
    "name": "ipython",
    "version": 3
   },
   "file_extension": ".py",
   "mimetype": "text/x-python",
   "name": "python",
   "nbconvert_exporter": "python",
   "pygments_lexer": "ipython3",
   "version": "3.13.3"
  }
 },
 "nbformat": 4,
 "nbformat_minor": 5
}
