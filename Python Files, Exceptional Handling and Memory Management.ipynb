{
 "cells": [
  {
   "cell_type": "markdown",
   "id": "b814328f",
   "metadata": {},
   "source": [
    "### Files, Exceptional Handling and Memory Management Theoretical Questions"
   ]
  },
  {
   "cell_type": "markdown",
   "id": "e1de80a5",
   "metadata": {},
   "source": [
    "Q1. What is the difference between interpreted and compiled languages?\n",
    "- Interpreted languages execute code line by line at runtime using an interpreter(e.g., Python).\n",
    "- Compiled languages translate the entire code into machine code before execution using a compiler (e.g., C++)."
   ]
  },
  {
   "cell_type": "markdown",
   "id": "402002c9",
   "metadata": {},
   "source": [
    "Q2. What is exception handling in Python?\n",
    "- Exception handling is the process of managing runtime error using `try`,`except`,`else` and `finally` blocks to prevent program crashes and handle error gracefully."
   ]
  },
  {
   "cell_type": "markdown",
   "id": "47d4bdab",
   "metadata": {},
   "source": [
    "Q3. What is the purpose of the finally block in exception handling?\n",
    "- The `finally` block executes code that must run no matter what, such as releasing resources or closing files, regardless of whether an exception occurred or not."
   ]
  },
  {
   "cell_type": "markdown",
   "id": "0c270b3e",
   "metadata": {},
   "source": [
    "Q4. What is logging in Python?\n",
    "- Logging is the recording of program events, error or informational messages during execution, typically done using Python's `logging` module."
   ]
  },
  {
   "cell_type": "markdown",
   "id": "070eb374",
   "metadata": {},
   "source": [
    "Q5. What is the significance of the `__del__` method in Python?\n",
    "- The `__del__` method acts as a destructor called when an object is about to be destroyed, useful for cleanup operations."
   ]
  },
  {
   "cell_type": "markdown",
   "id": "ece3ef69",
   "metadata": {},
   "source": [
    "Q6. What is the difference between `import` and `from ... import` in Python?\n",
    "- `import module` imports the whole module namespace, while `from module import name` imports specific attributes or functions directly into the current namespace."
   ]
  },
  {
   "cell_type": "markdown",
   "id": "fc75205c",
   "metadata": {},
   "source": [
    "Q7. How can you handle multiple exceptions in Python?\n",
    "- By specifying multiple exceptions in a single `except` block using parentheses or by writing multiple `except` blocks for different exceptions."
   ]
  },
  {
   "cell_type": "markdown",
   "id": "f3ad482b",
   "metadata": {},
   "source": [
    "Q8. What is the purpose of the `with` statement when handling files in Python?\n",
    "- The `with` statement ensures that a file is properly opened and automatically closed after its block finishes, even if exceptions occur."
   ]
  },
  {
   "cell_type": "markdown",
   "id": "4d6015f3",
   "metadata": {},
   "source": [
    "Q9. What is the difference between multithreading and multiprocessing?\n",
    "- __Multithreading:__ runs multiple threads within a single process sharing memory, suitable for I/O-bound tasks.\n",
    "- __Multiprocessing:__ runs separate processes with independent memory, suitable for CPU-bound tasks."
   ]
  },
  {
   "cell_type": "markdown",
   "id": "4a754217",
   "metadata": {},
   "source": [
    "Q10. What are the advantages of using logging in a program?\n",
    "- Logging helps in debugging, monitoring program flow, tracking errors, and auditing program behavior without interrupting execution."
   ]
  },
  {
   "cell_type": "markdown",
   "id": "6039c10a",
   "metadata": {},
   "source": [
    "Q11. What is memory management in Python?\n",
    "- Memory management involves allocation and deallocation of memory for objects, handled automatically by Python’s garbage collector."
   ]
  },
  {
   "cell_type": "markdown",
   "id": "01307799",
   "metadata": {},
   "source": [
    "Q12. What are the basic steps involved in exception handling in Python?\n",
    "- The basic steps are:\n",
    "1. `try` block – code that might raise exceptions\n",
    "2. `except` block – handle exceptions\n",
    "3. Optional `else` block – runs if no exceptions occur\n",
    "4. Optional `finally` block – runs no matter what"
   ]
  },
  {
   "cell_type": "markdown",
   "id": "292fc97d",
   "metadata": {},
   "source": [
    "Q13. Why is memory management important in Python?\n",
    "- Proper memory management prevents memory leaks, ensures efficient use of resources, and keeps programs running smoothly."
   ]
  },
  {
   "cell_type": "markdown",
   "id": "f884bb7d",
   "metadata": {},
   "source": [
    "Q14. What is the role of `try` and `except` in exception handling?\n",
    "- The `try` block contains code that may raise exceptions; the `except` block catches and handles those exceptions."
   ]
  },
  {
   "cell_type": "markdown",
   "id": "98fa7198",
   "metadata": {},
   "source": [
    "Q15. How does Python's garbage collection system work?\n",
    "- Python uses reference counting and a cyclic garbage collector to automatically free memory occupied by objects no longer in use."
   ]
  },
  {
   "cell_type": "markdown",
   "id": "10b349d6",
   "metadata": {},
   "source": [
    "Q16. What is the purpose of the `else` block in exception handling?\n",
    "- The `else` block executes code only if no exceptions were raised in the try block."
   ]
  },
  {
   "cell_type": "markdown",
   "id": "632b8bfc",
   "metadata": {},
   "source": [
    "Q17. What are the common logging levels in Python?\n",
    "- Common levels are: `DEBUG`, `INFO`, `WARNING`, `ERROR`, and `CRITICAL`."
   ]
  },
  {
   "cell_type": "markdown",
   "id": "0bd52875",
   "metadata": {},
   "source": [
    "Q18. What is the difference between `os.fork()` and `multiprocessing` in Python?\n",
    "- `os.fork()` creates a new child process by duplicating the current process at the OS level, mainly on Unix systems.\n",
    "- `multiprocessing` is a high-level module that manages processes and works cross-platform."
   ]
  },
  {
   "cell_type": "markdown",
   "id": "bf5e8621",
   "metadata": {},
   "source": [
    "Q19. What is the importance of closing a file in Python?\n",
    "- Closing a file frees system resources and ensures data is properly saved and flushed to disk."
   ]
  },
  {
   "cell_type": "markdown",
   "id": "eee8221f",
   "metadata": {},
   "source": [
    "Q20. What is the difference between `file.read()` and `file.readline()` in Python?\n",
    "- `file.read()` reads the entire file or a specified number of bytes, whereas `file.readline()` reads the file line-by-line."
   ]
  },
  {
   "cell_type": "markdown",
   "id": "feca86d7",
   "metadata": {},
   "source": [
    "Q21. What is the `logging` module in Python used for?\n",
    "- The `logging` module is used to create logs for tracking events, debugging, and recording error messages."
   ]
  },
  {
   "cell_type": "markdown",
   "id": "87cc0e0b",
   "metadata": {},
   "source": [
    "Q22. What is the `os` module in Python used for in file handling?\n",
    "- The `os` module provides functions to interact with the operating system, such as creating, deleting, and managing files and directories."
   ]
  },
  {
   "cell_type": "markdown",
   "id": "e7b3128b",
   "metadata": {},
   "source": [
    "Q23. What are the challenges associated with memory management in Python?\n",
    "- Challenges include dealing with cyclic references, preventing memory leaks, and efficiently handling large objects."
   ]
  },
  {
   "cell_type": "markdown",
   "id": "5051dcfe",
   "metadata": {},
   "source": [
    "Q24. How do you raise an exception manually in Python?\n",
    "- Use the `raise` keyword followed by an exception instance or class, e.g., `raise ValueError(\"Invalid value\")`."
   ]
  },
  {
   "cell_type": "markdown",
   "id": "31c0226a",
   "metadata": {},
   "source": [
    "Q25. Why is it important to use multithreading in certain applications?\n",
    "- Multithreading improves performance in I/O-bound applications by allowing concurrent execution, reducing waiting time and improving responsiveness."
   ]
  },
  {
   "cell_type": "markdown",
   "id": "b81769ca",
   "metadata": {},
   "source": [
    "### Files, Exceptional Handling and Memory Management Practical Questions"
   ]
  },
  {
   "cell_type": "code",
   "execution_count": 1,
   "id": "66ee1d5c",
   "metadata": {},
   "outputs": [],
   "source": [
    "# Q1: How can you open a file for writing in Python and write a string to it?\n",
    "\n",
    "with open(\"output.txt\", \"w\") as file:\n",
    "    file.write(\"Hello, this is a test string.\")"
   ]
  },
  {
   "cell_type": "code",
   "execution_count": 2,
   "id": "4ce10184",
   "metadata": {},
   "outputs": [
    {
     "name": "stdout",
     "output_type": "stream",
     "text": [
      "Hello, this is a test string.\n"
     ]
    }
   ],
   "source": [
    "# Q2: Write a Python program to read the contents of a file and print each line.\n",
    "\n",
    "with open(\"output.txt\", \"r\") as file:\n",
    "    for line in file:\n",
    "        print(line.strip())"
   ]
  },
  {
   "cell_type": "code",
   "execution_count": 3,
   "id": "bcfe9ffd",
   "metadata": {},
   "outputs": [
    {
     "name": "stdout",
     "output_type": "stream",
     "text": [
      "The file does not exist.\n"
     ]
    }
   ],
   "source": [
    "# Q3: How would you handle a case where the file doesn't exist while trying to open it for reading?\n",
    "\n",
    "try:\n",
    "    with open(\"non_existent.txt\", \"r\") as file:\n",
    "        print(file.read())\n",
    "except FileNotFoundError:\n",
    "    print(\"The file does not exist.\")"
   ]
  },
  {
   "cell_type": "code",
   "execution_count": 5,
   "id": "3d72c324",
   "metadata": {},
   "outputs": [],
   "source": [
    "# Q4: Write a Python script that reads from one file and writes its content to another file.\n",
    "\n",
    "with open(\"source.txt\", \"r\") as src, open(\"destination.txt\", \"w\") as dst:\n",
    "    for line in src:\n",
    "        dst.write(line)"
   ]
  },
  {
   "cell_type": "code",
   "execution_count": 6,
   "id": "eca2cb6a",
   "metadata": {},
   "outputs": [
    {
     "name": "stdout",
     "output_type": "stream",
     "text": [
      "Cannot divide by zero.\n"
     ]
    }
   ],
   "source": [
    "# Q5: How would you catch and handle division by zero error in Python?\n",
    "\n",
    "try:\n",
    "    result = 10 / 0\n",
    "except ZeroDivisionError:\n",
    "    print(\"Cannot divide by zero.\")"
   ]
  },
  {
   "cell_type": "code",
   "execution_count": 7,
   "id": "f4d201df",
   "metadata": {},
   "outputs": [],
   "source": [
    "# Q6: Write a Python program that logs an error message to a log file when a division by zero exception occurs.\n",
    "\n",
    "import logging\n",
    "\n",
    "logging.basicConfig(filename=\"error.log\", level=logging.ERROR)\n",
    "\n",
    "try:\n",
    "    x = 10 / 0\n",
    "except ZeroDivisionError as e:\n",
    "    logging.error(\"Division by zero error: %s\", e)"
   ]
  },
  {
   "cell_type": "code",
   "execution_count": 8,
   "id": "fe208620",
   "metadata": {},
   "outputs": [],
   "source": [
    "# Q7: How do you log information at different levels (INFO, ERROR, WARNING) in Python using the logging module?\n",
    "\n",
    "import logging\n",
    "\n",
    "logging.basicConfig(level=logging.DEBUG)\n",
    "\n",
    "logging.info(\"This is an informational message.\")\n",
    "logging.warning(\"This is a warning.\")\n",
    "logging.error(\"This is an error.\")"
   ]
  },
  {
   "cell_type": "code",
   "execution_count": 9,
   "id": "ce71b1d6",
   "metadata": {},
   "outputs": [
    {
     "name": "stdout",
     "output_type": "stream",
     "text": [
      "File could not be opened because it does not exist.\n"
     ]
    }
   ],
   "source": [
    "# Q8: Write a program to handle a file opening error using exception handling.\n",
    "\n",
    "try:\n",
    "    with open(\"data.txt\", \"r\") as file:\n",
    "        print(file.read())\n",
    "except FileNotFoundError:\n",
    "    print(\"File could not be opened because it does not exist.\")"
   ]
  },
  {
   "cell_type": "code",
   "execution_count": 10,
   "id": "75c27767",
   "metadata": {},
   "outputs": [
    {
     "name": "stdout",
     "output_type": "stream",
     "text": [
      "['Hello, this is a test string.']\n"
     ]
    }
   ],
   "source": [
    "# Q9: How can you read a file line by line and store its content in a list in Python?\n",
    "\n",
    "with open(\"output.txt\", \"r\") as file:\n",
    "    lines = [line.strip() for line in file]\n",
    "print(lines)"
   ]
  },
  {
   "cell_type": "code",
   "execution_count": 11,
   "id": "b1390ccf",
   "metadata": {},
   "outputs": [],
   "source": [
    "# Q10: How can you append data to an existing file in Python?\n",
    "\n",
    "with open(\"output.txt\", \"a\") as file:\n",
    "    file.write(\"\\nThis line is appended.\")"
   ]
  },
  {
   "cell_type": "code",
   "execution_count": 12,
   "id": "035a0f94",
   "metadata": {},
   "outputs": [
    {
     "name": "stdout",
     "output_type": "stream",
     "text": [
      "Key does not exist.\n"
     ]
    }
   ],
   "source": [
    "# Q11: Write a Python program that uses a try-except block to handle an error when attempting to access a dictionary key that doesn't exist.\n",
    "\n",
    "my_dict = {\"name\": \"Alice\"}\n",
    "\n",
    "try:\n",
    "    print(my_dict[\"age\"])\n",
    "except KeyError:\n",
    "    print(\"Key does not exist.\")"
   ]
  },
  {
   "cell_type": "code",
   "execution_count": 13,
   "id": "27a774f0",
   "metadata": {},
   "outputs": [
    {
     "name": "stdout",
     "output_type": "stream",
     "text": [
      "Index error occurred.\n"
     ]
    }
   ],
   "source": [
    "# Q12: Write a program that demonstrates using multiple except blocks to handle different types of exceptions.\n",
    "\n",
    "try:\n",
    "    lst = [1, 2, 3]\n",
    "    print(lst[5])\n",
    "    print(10 / 0)\n",
    "except IndexError:\n",
    "    print(\"Index error occurred.\")\n",
    "except ZeroDivisionError:\n",
    "    print(\"Cannot divide by zero.\")"
   ]
  },
  {
   "cell_type": "code",
   "execution_count": 14,
   "id": "7cf4aaf0",
   "metadata": {},
   "outputs": [
    {
     "name": "stdout",
     "output_type": "stream",
     "text": [
      "Hello, this is a test string.\n",
      "This line is appended.\n"
     ]
    }
   ],
   "source": [
    "# Q13: How would you check if a file exists before attempting to read it in Python?\n",
    "\n",
    "import os\n",
    "\n",
    "if os.path.exists(\"output.txt\"):\n",
    "    with open(\"output.txt\", \"r\") as file:\n",
    "        print(file.read())\n",
    "else:\n",
    "    print(\"File does not exist.\")"
   ]
  },
  {
   "cell_type": "code",
   "execution_count": 15,
   "id": "9d0afeb0",
   "metadata": {},
   "outputs": [],
   "source": [
    "# Q14: Write a program that uses the logging module to log both informational and error messages.\n",
    "\n",
    "import logging\n",
    "\n",
    "logging.basicConfig(filename=\"app.log\", level=logging.INFO)\n",
    "logging.info(\"Program started.\")\n",
    "try:\n",
    "    10 / 0\n",
    "except ZeroDivisionError:\n",
    "    logging.error(\"Division by zero occurred.\")"
   ]
  },
  {
   "cell_type": "code",
   "execution_count": 16,
   "id": "fb0cb177",
   "metadata": {},
   "outputs": [
    {
     "name": "stdout",
     "output_type": "stream",
     "text": [
      "Hello, this is a test string.\n",
      "This line is appended.\n"
     ]
    }
   ],
   "source": [
    "# Q15: Write a Python program that prints the content of a file and handles the case when the file is empty.\n",
    "\n",
    "with open(\"output.txt\", \"r\") as file:\n",
    "    content = file.read()\n",
    "    if not content:\n",
    "        print(\"The file is empty.\")\n",
    "    else:\n",
    "        print(content)"
   ]
  },
  {
   "cell_type": "code",
   "execution_count": 18,
   "id": "ef28c98e",
   "metadata": {},
   "outputs": [
    {
     "name": "stdout",
     "output_type": "stream",
     "text": [
      "Collecting memory_profiler\n",
      "  Downloading memory_profiler-0.61.0-py3-none-any.whl.metadata (20 kB)\n",
      "Requirement already satisfied: psutil in c:\\users\\farqa\\appdata\\roaming\\python\\python313\\site-packages (from memory_profiler) (7.0.0)\n",
      "Downloading memory_profiler-0.61.0-py3-none-any.whl (31 kB)\n",
      "Installing collected packages: memory_profiler\n",
      "Successfully installed memory_profiler-0.61.0\n",
      "Note: you may need to restart the kernel to use updated packages.\n"
     ]
    },
    {
     "name": "stderr",
     "output_type": "stream",
     "text": [
      "\n",
      "[notice] A new release of pip is available: 25.0.1 -> 25.1.1\n",
      "[notice] To update, run: python.exe -m pip install --upgrade pip\n"
     ]
    }
   ],
   "source": [
    "pip install memory_profiler"
   ]
  },
  {
   "cell_type": "code",
   "execution_count": 20,
   "id": "a69d3913",
   "metadata": {},
   "outputs": [],
   "source": [
    "# Q17: Write a Python program to create and write a list of numbers to a file, one number per line.\n",
    "\n",
    "numbers = [1, 2, 3, 4, 5]\n",
    "\n",
    "with open(\"numbers.txt\", \"w\") as file:\n",
    "    for num in numbers:\n",
    "        file.write(f\"{num}\\n\")"
   ]
  },
  {
   "cell_type": "code",
   "execution_count": null,
   "id": "fc3e46b7",
   "metadata": {},
   "outputs": [],
   "source": [
    "# Q16: Demonstrate how to use memory profiling to check the memory usage of a small program.\n",
    "\n",
    "from memory_profiler import profile\n",
    "\n",
    "\n",
    "@profile\n",
    "def compute():\n",
    "    data = [x**2 for x in range(10000)]\n",
    "    return data\n",
    "\n",
    "\n",
    "compute()"
   ]
  },
  {
   "cell_type": "code",
   "execution_count": 21,
   "id": "af3d351a",
   "metadata": {},
   "outputs": [],
   "source": [
    "# Q18: How would you implement a basic logging setup that logs to a file with rotation after 1MB?\n",
    "\n",
    "import logging\n",
    "from logging.handlers import RotatingFileHandler\n",
    "\n",
    "handler = RotatingFileHandler(\"rotated.log\", maxBytes=1024 * 1024, backupCount=3)\n",
    "logging.basicConfig(handlers=[handler], level=logging.INFO)\n",
    "logging.info(\"Logging with rotation.\")"
   ]
  },
  {
   "cell_type": "code",
   "execution_count": 22,
   "id": "127f5d14",
   "metadata": {},
   "outputs": [
    {
     "name": "stdout",
     "output_type": "stream",
     "text": [
      "KeyError handled.\n"
     ]
    }
   ],
   "source": [
    "# Q19: Write a program that handles both IndexError and KeyError using a try-except block.\n",
    "\n",
    "data = {\"name\": \"John\"}\n",
    "lst = [10, 20]\n",
    "\n",
    "try:\n",
    "    print(data[\"age\"])\n",
    "    print(lst[5])\n",
    "except KeyError:\n",
    "    print(\"KeyError handled.\")\n",
    "except IndexError:\n",
    "    print(\"IndexError handled.\")"
   ]
  },
  {
   "cell_type": "code",
   "execution_count": 23,
   "id": "0416aa4f",
   "metadata": {},
   "outputs": [
    {
     "name": "stdout",
     "output_type": "stream",
     "text": [
      "Hello, this is a test string.\n",
      "This line is appended.\n"
     ]
    }
   ],
   "source": [
    "# Q20: How would you open a file and read its contents using a context manager in Python?\n",
    "\n",
    "with open(\"output.txt\", \"r\") as file:\n",
    "    content = file.read()\n",
    "    print(content)"
   ]
  },
  {
   "cell_type": "code",
   "execution_count": 24,
   "id": "a7345bd2",
   "metadata": {},
   "outputs": [
    {
     "name": "stdout",
     "output_type": "stream",
     "text": [
      "The word 'test' occurred 1 times.\n"
     ]
    }
   ],
   "source": [
    "# Q21: Write a Python program that reads a file and prints the number of occurrences of a specific word.\n",
    "\n",
    "word = \"test\"\n",
    "count = 0\n",
    "\n",
    "with open(\"output.txt\", \"r\") as file:\n",
    "    for line in file:\n",
    "        count += line.lower().count(word.lower())\n",
    "\n",
    "print(f\"The word '{word}' occurred {count} times.\")"
   ]
  },
  {
   "cell_type": "code",
   "execution_count": 25,
   "id": "ee3388b4",
   "metadata": {},
   "outputs": [
    {
     "name": "stdout",
     "output_type": "stream",
     "text": [
      "Hello, this is a test string.\n",
      "This line is appended.\n"
     ]
    }
   ],
   "source": [
    "# Q22: How can you check if a file is empty before attempting to read its contents?\n",
    "\n",
    "import os\n",
    "\n",
    "if os.path.getsize(\"output.txt\") == 0:\n",
    "    print(\"File is empty.\")\n",
    "else:\n",
    "    with open(\"output.txt\", \"r\") as file:\n",
    "        print(file.read())"
   ]
  },
  {
   "cell_type": "code",
   "execution_count": 26,
   "id": "35fc029b",
   "metadata": {},
   "outputs": [],
   "source": [
    "# Q23: Write a Python program that writes to a log file when an error occurs during file handling.\n",
    "\n",
    "import logging\n",
    "\n",
    "logging.basicConfig(filename=\"file_error.log\", level=logging.ERROR)\n",
    "\n",
    "try:\n",
    "    with open(\"non_existent.txt\", \"r\") as file:\n",
    "        data = file.read()\n",
    "except Exception as e:\n",
    "    logging.error(\"An error occurred while handling the file: %s\", e)"
   ]
  }
 ],
 "metadata": {
  "kernelspec": {
   "display_name": "Python 3",
   "language": "python",
   "name": "python3"
  },
  "language_info": {
   "codemirror_mode": {
    "name": "ipython",
    "version": 3
   },
   "file_extension": ".py",
   "mimetype": "text/x-python",
   "name": "python",
   "nbconvert_exporter": "python",
   "pygments_lexer": "ipython3",
   "version": "3.13.3"
  }
 },
 "nbformat": 4,
 "nbformat_minor": 5
}
