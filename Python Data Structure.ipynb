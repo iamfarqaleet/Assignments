{
 "cells": [
  {
   "cell_type": "markdown",
   "id": "5b552acd",
   "metadata": {},
   "source": [
    "### Data Types and Structures Theoretical Questions"
   ]
  },
  {
   "cell_type": "markdown",
   "id": "89f37fe9",
   "metadata": {},
   "source": [
    "Q1. What are data structures, and why are they important?\n",
    "- Data structures are ways of organizing and storing data. They are crucial for efficient data access, processing and modification, which improves perfomance and resources use in programs"
   ]
  },
  {
   "cell_type": "markdown",
   "id": "12395d9a",
   "metadata": {},
   "source": [
    "Q2. Explain the difference between mutable and immutable data types with examples.\n",
    "- Mutable: Can be changed after creation (eg., list, dict, set)\n",
    "- Immutable: Cannot be changed after creation (eg., int, float, str, tuple)"
   ]
  },
  {
   "cell_type": "markdown",
   "id": "fe235b69",
   "metadata": {},
   "source": [
    "Q3. What are the main differences between lists and tuples in Python?\n",
    "|Features|List|Tuple|\n",
    "|-|-|-|\n",
    "|Mutability|Mutable|Immutable|\n",
    "|Syntax|[]|()|\n",
    "|Perfomance|Slower|Faster\n",
    "|Use Case|Dynamic Data|Fixed Data"
   ]
  },
  {
   "cell_type": "markdown",
   "id": "97f57ac7",
   "metadata": {},
   "source": [
    "Q4. Describe how dictionaries store data.\n",
    "- Dictionaries store data as key-value pairs using a hash table, allowing fast access by key."
   ]
  },
  {
   "cell_type": "markdown",
   "id": "13cf7c07",
   "metadata": {},
   "source": [
    "Q5. Why might you use a set instead of a list in Python?\n",
    "- To eliminate duplicates\n",
    "- Unique elements in a set"
   ]
  },
  {
   "cell_type": "markdown",
   "id": "0663366e",
   "metadata": {},
   "source": [
    "Q6. What is a string in Python, and how is it different from a list?\n",
    "- A string is an immutable sequence of characters.\n",
    "- A list is mutable and can store any type."
   ]
  },
  {
   "cell_type": "markdown",
   "id": "63c40313",
   "metadata": {},
   "source": [
    "Q7. How do tuples ensure data integrity in Python?\n",
    "- Because tuples are immutable, they prevent accidental changes, making them safe for fixed data and dictionary keys."
   ]
  },
  {
   "cell_type": "markdown",
   "id": "3ad251c4",
   "metadata": {},
   "source": [
    "Q8. What is a hash table, and how does it relate to dictionaries in Python?\n",
    "- A hash table maps keys to values using a hash function. Python's dict uses a hash table internally for fast key lookups."
   ]
  },
  {
   "cell_type": "markdown",
   "id": "0bf8028e",
   "metadata": {},
   "source": [
    "Q9. Can lists contain different data types in Python?\n",
    "- Yes, Python lists can store elements of mixed types."
   ]
  },
  {
   "cell_type": "markdown",
   "id": "7c766a03",
   "metadata": {},
   "source": [
    "Q10. Explain why strings are immutable in Python.\n",
    "- Immutability:\n",
    "  - Saves memory (reusable string objects)\n",
    "  - Thread-Safe\n",
    "  - Enables string interning (Optimization)"
   ]
  },
  {
   "cell_type": "markdown",
   "id": "a963274b",
   "metadata": {},
   "source": [
    "Q11. What advantages do dictionaries offer over lists for certain tasks?\n",
    "- Better for structed data (e.g., user profile)\n",
    "- Supports key-value mapping"
   ]
  },
  {
   "cell_type": "markdown",
   "id": "8d5d87bf",
   "metadata": {},
   "source": [
    "Q12. Describe a scenario where using a tuple would be preferable over a list.\n",
    "- When storing fixed data that shouldn't change."
   ]
  },
  {
   "cell_type": "markdown",
   "id": "c03ef913",
   "metadata": {},
   "source": [
    "Q13. How do sets handle duplicate values in Python?\n",
    "- Sets automatically remove duplicates."
   ]
  },
  {
   "cell_type": "markdown",
   "id": "5748f8e4",
   "metadata": {},
   "source": [
    "Q14. How does the `in` keyword work differently for lists and dictionaries?\n",
    "- List: Checks if value exists\n",
    "- Dict: Checks if key exists"
   ]
  },
  {
   "cell_type": "markdown",
   "id": "42979e8c",
   "metadata": {},
   "source": [
    "Q15. Can you modify the elements of a tuple? Explain why or why not.\n",
    "- No, Tuples are immutable, so elements cannot be added, removed and changed."
   ]
  },
  {
   "cell_type": "markdown",
   "id": "9840c6b1",
   "metadata": {},
   "source": [
    "Q16. What is a nested dictionary, and give an example of its use case.\n",
    "- A dictionary inside another dictionary. Used for complex data (e.g., JSON-like sturctures)."
   ]
  },
  {
   "cell_type": "markdown",
   "id": "c9b59a25",
   "metadata": {},
   "source": [
    "Q17. Describe the time complexity of accessing elements in a dictionary.\n",
    "- Average time complexity is O(1) due to hash-based access."
   ]
  },
  {
   "cell_type": "markdown",
   "id": "140332af",
   "metadata": {},
   "source": [
    "Q18. In what situations are lists preferred over dictionaries?\n",
    "- When order matter (before Python 3.7)\n",
    "- When using sequential data\n",
    "- When keys are unnecessary"
   ]
  },
  {
   "cell_type": "markdown",
   "id": "1d61851a",
   "metadata": {},
   "source": [
    "Q19. Why are dictionaries considered unordered, and how does that affect data retrieval?\n",
    "- Pre-python 3.7, dictionaries didn't preserve order. Now they do, but logically, key-value pairs are still accessed by key, not by position.\n"
   ]
  },
  {
   "cell_type": "markdown",
   "id": "a221f126",
   "metadata": {},
   "source": [
    "Q20. Explain the difference between a list and a dictionary in terms of data retrieval.\n",
    "- List: Retrieve by index\n",
    "- Dict: Retrieve by key, which is faster and more descriptive"
   ]
  },
  {
   "cell_type": "markdown",
   "id": "b7223659",
   "metadata": {},
   "source": [
    "### Data Types and Structures Practical Questions"
   ]
  },
  {
   "cell_type": "code",
   "execution_count": 58,
   "id": "f8fe9f26",
   "metadata": {},
   "outputs": [
    {
     "name": "stdout",
     "output_type": "stream",
     "text": [
      "Farqaleet Shadani\n"
     ]
    }
   ],
   "source": [
    "# Q1. Write a code to create a string with your name and print it.\n",
    "\n",
    "string1 = \"Farqaleet Shadani\"\n",
    "print(string1)"
   ]
  },
  {
   "cell_type": "code",
   "execution_count": 59,
   "id": "c79a6020",
   "metadata": {},
   "outputs": [
    {
     "name": "stdout",
     "output_type": "stream",
     "text": [
      "11\n"
     ]
    }
   ],
   "source": [
    "# Q2. Write a code to find the length of the string \"Hello World\".\n",
    "\n",
    "string2 = \"Hello World\"\n",
    "count = 0\n",
    "for i in string2:\n",
    "    count += 1\n",
    "print(count)\n",
    "\n",
    "# we can also use len() function"
   ]
  },
  {
   "cell_type": "code",
   "execution_count": 60,
   "id": "1dd89721",
   "metadata": {},
   "outputs": [
    {
     "name": "stdout",
     "output_type": "stream",
     "text": [
      "Pyt\n"
     ]
    }
   ],
   "source": [
    "# Q3. Write a code to slice the first 3 characters from the string \"Python Programming\".\n",
    "\n",
    "string3 = \"Python Programming\"\n",
    "print(string3[0:3])"
   ]
  },
  {
   "cell_type": "code",
   "execution_count": 62,
   "id": "66d6e031",
   "metadata": {},
   "outputs": [
    {
     "name": "stdout",
     "output_type": "stream",
     "text": [
      "HELLO\n"
     ]
    }
   ],
   "source": [
    "# Q4. Write a code to convert the string \"hello\" to uppercase.\n",
    "\n",
    "string4 = \"hello\"\n",
    "print(string4.upper())"
   ]
  },
  {
   "cell_type": "code",
   "execution_count": 29,
   "id": "eb613102",
   "metadata": {},
   "outputs": [
    {
     "name": "stdout",
     "output_type": "stream",
     "text": [
      "I like orange\n"
     ]
    }
   ],
   "source": [
    "# Q5. Write a code to replace the word \"apple\" with \"orange\" in the string \"I like apple\".\n",
    "\n",
    "string5 = \"I like apple\"\n",
    "string6 = string5.replace(\"apple\", \"orange\")\n",
    "print(string6)"
   ]
  },
  {
   "cell_type": "code",
   "execution_count": 30,
   "id": "8e801215",
   "metadata": {},
   "outputs": [
    {
     "name": "stdout",
     "output_type": "stream",
     "text": [
      "[1, 2, 3, 4, 5]\n"
     ]
    }
   ],
   "source": [
    "# Q6. Write a code to create a list with numbers 1 to 5 and print it.\n",
    "\n",
    "list1 = []\n",
    "for i in range(1, 6):\n",
    "    list1.append(i)\n",
    "print(list1)"
   ]
  },
  {
   "cell_type": "code",
   "execution_count": 31,
   "id": "5362c5ac",
   "metadata": {},
   "outputs": [
    {
     "name": "stdout",
     "output_type": "stream",
     "text": [
      "[1, 2, 3, 4, 10]\n"
     ]
    }
   ],
   "source": [
    "# Q7. Write a code to append the number 10 to the list [1, 2, 3, 4].\n",
    "\n",
    "list2 = [1, 2, 3, 4]\n",
    "list2.append(10)\n",
    "print(list2)"
   ]
  },
  {
   "cell_type": "code",
   "execution_count": 32,
   "id": "d9f3dacd",
   "metadata": {},
   "outputs": [
    {
     "name": "stdout",
     "output_type": "stream",
     "text": [
      "[1, 2, 4, 5]\n"
     ]
    }
   ],
   "source": [
    "# Q8. Write a code to remove the number 3 from the list [1, 2, 3, 4, 5].\n",
    "\n",
    "list3 = [1, 2, 3, 4, 5]\n",
    "list3.remove(3)\n",
    "print(list3)"
   ]
  },
  {
   "cell_type": "code",
   "execution_count": 33,
   "id": "d89ec2c1",
   "metadata": {},
   "outputs": [
    {
     "name": "stdout",
     "output_type": "stream",
     "text": [
      "b\n"
     ]
    }
   ],
   "source": [
    "# Q9. Write a code to access the second element in the list ['a', 'b', 'c', 'd'].``\n",
    "\n",
    "list4 = [\"a\", \"b\", \"c\", \"d\"]\n",
    "print(list4[1])"
   ]
  },
  {
   "cell_type": "code",
   "execution_count": 34,
   "id": "b7b75e3d",
   "metadata": {},
   "outputs": [
    {
     "name": "stdout",
     "output_type": "stream",
     "text": [
      "[50, 40, 30, 20, 10]\n"
     ]
    }
   ],
   "source": [
    "# Q10. Write a code to reverse the list [10, 20, 30, 40, 50].\n",
    "\n",
    "list5 = [10, 20, 30, 40, 50]\n",
    "list6 = []\n",
    "i = len(list5) - 1\n",
    "while i >= 0:\n",
    "    list6.append(list5[i])\n",
    "    i -= 1\n",
    "print(list6)"
   ]
  },
  {
   "cell_type": "code",
   "execution_count": 35,
   "id": "4b66a93e",
   "metadata": {},
   "outputs": [
    {
     "name": "stdout",
     "output_type": "stream",
     "text": [
      "(100, 200, 300)\n"
     ]
    }
   ],
   "source": [
    "# Q11. Write a code to create a tuple with the elements 100, 200, 300 and print it.\n",
    "tuple1 = (100, 200, 300)\n",
    "print(tuple1)"
   ]
  },
  {
   "cell_type": "code",
   "execution_count": 36,
   "id": "fd0e994c",
   "metadata": {},
   "outputs": [
    {
     "name": "stdout",
     "output_type": "stream",
     "text": [
      "blue\n"
     ]
    }
   ],
   "source": [
    "# Q12. Write a code to access the second-to-last element of the tuple ('red', 'green', 'blue', 'yellow').\n",
    "\n",
    "tuple2 = (\"red\", \"green\", \"blue\", \"yellow\")\n",
    "print(tuple2[-2])"
   ]
  },
  {
   "cell_type": "code",
   "execution_count": 37,
   "id": "7e51ae88",
   "metadata": {},
   "outputs": [
    {
     "name": "stdout",
     "output_type": "stream",
     "text": [
      "5\n"
     ]
    }
   ],
   "source": [
    "# Q13. Write a code to find the minimum number in the tuple (10, 20, 5, 15).\n",
    "\n",
    "tuple3 = (10, 20, 5, 15)\n",
    "print(min(tuple3))"
   ]
  },
  {
   "cell_type": "code",
   "execution_count": 38,
   "id": "b3d8d85d",
   "metadata": {},
   "outputs": [
    {
     "name": "stdout",
     "output_type": "stream",
     "text": [
      "1\n"
     ]
    }
   ],
   "source": [
    "# Q14. Write a code to find the index of the element \"cat\" in the tuple ('dog', 'cat', 'rabbit').\n",
    "\n",
    "tuple4 = (\"dog\", \"cat\", \"rabbit\")\n",
    "print(tuple4.index(\"cat\"))"
   ]
  },
  {
   "cell_type": "code",
   "execution_count": 39,
   "id": "7270c732",
   "metadata": {},
   "outputs": [
    {
     "name": "stdout",
     "output_type": "stream",
     "text": [
      "True\n"
     ]
    }
   ],
   "source": [
    "# Q15. Write a code to create a tuple containing three different fruits and check if \"kiwi\" is in it.\n",
    "\n",
    "tuple5 = (\"apple\", \"banna\", \"kiwi\")\n",
    "print(\"kiwi\" in tuple5)"
   ]
  },
  {
   "cell_type": "code",
   "execution_count": 40,
   "id": "b0dbea31",
   "metadata": {},
   "outputs": [
    {
     "name": "stdout",
     "output_type": "stream",
     "text": [
      "{'c', 'a', 'b'}\n"
     ]
    }
   ],
   "source": [
    "# Q16. Write a code to create a set with the elements 'a', 'b', 'c' and print it.\n",
    "\n",
    "set1 = {\"a\", \"b\", \"c\"}\n",
    "print(set1)"
   ]
  },
  {
   "cell_type": "code",
   "execution_count": 41,
   "id": "a4deb88c",
   "metadata": {},
   "outputs": [
    {
     "name": "stdout",
     "output_type": "stream",
     "text": [
      "set()\n"
     ]
    }
   ],
   "source": [
    "# Q17. Write a code to clear all elements from the set {1, 2, 3, 4, 5}.\n",
    "\n",
    "set2 = {1, 2, 3, 4, 5}\n",
    "set2.clear()\n",
    "print(set2)"
   ]
  },
  {
   "cell_type": "code",
   "execution_count": 42,
   "id": "804fb0b6",
   "metadata": {},
   "outputs": [
    {
     "name": "stdout",
     "output_type": "stream",
     "text": [
      "{1, 2, 3}\n"
     ]
    }
   ],
   "source": [
    "# Q18. Write a code to remove the element 4 from the set {1, 2, 3, 4}.\n",
    "\n",
    "set3 = {1, 2, 3, 4}\n",
    "set3.remove(4)\n",
    "print(set3)"
   ]
  },
  {
   "cell_type": "code",
   "execution_count": 43,
   "id": "b87b3a26",
   "metadata": {},
   "outputs": [
    {
     "name": "stdout",
     "output_type": "stream",
     "text": [
      "{1, 2, 3, 4, 5}\n"
     ]
    }
   ],
   "source": [
    "# Q19. Write a code to find the union of two sets {1, 2, 3} and {3, 4, 5}.\n",
    "\n",
    "set4 = {1, 2, 3}\n",
    "set5 = {3, 4, 5}\n",
    "print(set4 | set5)"
   ]
  },
  {
   "cell_type": "code",
   "execution_count": 44,
   "id": "3ec7944b",
   "metadata": {},
   "outputs": [
    {
     "name": "stdout",
     "output_type": "stream",
     "text": [
      "{2, 3}\n"
     ]
    }
   ],
   "source": [
    "# Q20. Write a code to find the intersection of two sets {1, 2, 3} and {2, 3, 4}.\n",
    "\n",
    "set6 = {1, 2, 3}\n",
    "set7 = {2, 3, 4}\n",
    "print(set6 & set7)"
   ]
  },
  {
   "cell_type": "code",
   "execution_count": 63,
   "id": "29fe381b",
   "metadata": {},
   "outputs": [
    {
     "name": "stdout",
     "output_type": "stream",
     "text": [
      "{'name': 'Farqaleet', 'age': '20', 'city': 'Noida'}\n"
     ]
    }
   ],
   "source": [
    "# Q21. Write a code to create a dictionary with the keys \"name\", \"age\", and \"city\", and print it.\n",
    "\n",
    "dict1 = {\"name\": \"Farqaleet\", \"age\": \"20\", \"city\": \"Noida\"}\n",
    "print(dict1)"
   ]
  },
  {
   "cell_type": "code",
   "execution_count": 64,
   "id": "2db6e0b7",
   "metadata": {},
   "outputs": [
    {
     "name": "stdout",
     "output_type": "stream",
     "text": [
      "{'name': 'John', 'age': 25, 'country': 'USA'}\n"
     ]
    }
   ],
   "source": [
    "# Q22. Write a code to add a new key-value pair \"country\": \"USA\" to the dictionary {'name': 'John', 'age': 25}.\n",
    "\n",
    "dict2 = {\"name\": \"John\", \"age\": 25}\n",
    "dict2[\"country\"] = \"USA\"\n",
    "print(dict2)"
   ]
  },
  {
   "cell_type": "code",
   "execution_count": 65,
   "id": "0bbc1861",
   "metadata": {},
   "outputs": [
    {
     "name": "stdout",
     "output_type": "stream",
     "text": [
      "Alice\n"
     ]
    }
   ],
   "source": [
    "# Q23. Write a code to access the value associated with the key \"name\" in the dictionary {'name': 'Alice', 'age': 30}.\n",
    "\n",
    "dict3 = {\"name\": \"Alice\", \"age\": 30}\n",
    "print(dict3.get(\"name\"))"
   ]
  },
  {
   "cell_type": "code",
   "execution_count": 66,
   "id": "3f2e6c9b",
   "metadata": {},
   "outputs": [
    {
     "name": "stdout",
     "output_type": "stream",
     "text": [
      "{'name': 'Bob', 'city': 'New York'}\n"
     ]
    }
   ],
   "source": [
    "# Q24. Write a code to remove the key \"age\" from the dictionary {'name': 'Bob', 'age': 22, 'city': 'New York'}.\n",
    "\n",
    "dict4 = {\"name\": \"Bob\", \"age\": 22, \"city\": \"New York\"}\n",
    "dict4.pop(\"age\")\n",
    "print(dict4)"
   ]
  },
  {
   "cell_type": "code",
   "execution_count": 49,
   "id": "3c66051f",
   "metadata": {},
   "outputs": [
    {
     "data": {
      "text/plain": [
       "True"
      ]
     },
     "execution_count": 49,
     "metadata": {},
     "output_type": "execute_result"
    }
   ],
   "source": [
    "# Q25. Write a code to check if the key \"city\" exists in the dictionary {'name': 'Alice', 'city': 'Paris'}.\n",
    "\n",
    "dict5 = {\"name\": \"Alice\", \"city\": \"Paris\"}\n",
    "\"city\" in dict5"
   ]
  },
  {
   "cell_type": "code",
   "execution_count": 50,
   "id": "b68c0ba4",
   "metadata": {},
   "outputs": [
    {
     "name": "stdout",
     "output_type": "stream",
     "text": [
      "[1, 2.3, 1, 1, (4+5j), True, 'False']\n",
      "(1, 2.3, 1, 1, (4+5j), True, 'False')\n",
      "{'name': 'farqaleet', 'course': 'da', 'city': 'noida'}\n"
     ]
    }
   ],
   "source": [
    "# Q26. Write a code to create a list, a tuple, and a dictionary, and print them all.\n",
    "\n",
    "list7 = [1, 2.3, 1, 1, 4 + 5j, True, \"False\"]\n",
    "tuple6 = (1, 2.3, 1, 1, 4 + 5j, True, \"False\")\n",
    "dict6 = {\"name\": \"farqaleet\", \"course\": \"da\", \"city\": \"noida\"}\n",
    "print(list7)\n",
    "print(tuple6)\n",
    "print(dict6)"
   ]
  },
  {
   "cell_type": "code",
   "execution_count": 51,
   "id": "ec04464f",
   "metadata": {},
   "outputs": [
    {
     "name": "stdout",
     "output_type": "stream",
     "text": [
      "[4, 11, 39, 96, 96]\n"
     ]
    }
   ],
   "source": [
    "# Q27. Write a code to create a list of 5 random numbers between 1 and 100, sort it in ascending order, and print the result.(replaced)\n",
    "\n",
    "import random\n",
    "\n",
    "list9 = []\n",
    "for _ in range(5):\n",
    "    list9.append(random.randint(1, 100))\n",
    "list9.sort()\n",
    "print(list9)"
   ]
  },
  {
   "cell_type": "code",
   "execution_count": 67,
   "id": "4366ad6d",
   "metadata": {},
   "outputs": [
    {
     "name": "stdout",
     "output_type": "stream",
     "text": [
      "['P', 'W', 'S', 'k', 'i', 'l', 'l', 's']\n",
      "k\n"
     ]
    }
   ],
   "source": [
    "# Q28. Write a code to create a list with strings and print the element at the third index.\n",
    "\n",
    "string7 = \"PWSkills\"\n",
    "list9 = list(string7)\n",
    "print(list9)\n",
    "print(list9[3])"
   ]
  },
  {
   "cell_type": "code",
   "execution_count": 68,
   "id": "3f0fd329",
   "metadata": {},
   "outputs": [
    {
     "name": "stdout",
     "output_type": "stream",
     "text": [
      "{'name': 'farqaleet', 'course': 'da'}\n"
     ]
    }
   ],
   "source": [
    "# Q29. Write a code to combine two dictionaries into one and print the result.\n",
    "\n",
    "dict7 = {\"name\": \"farqaleet\"}\n",
    "dict8 = {\"course\": \"da\"}\n",
    "dict7.update(dict8)\n",
    "print(dict7)"
   ]
  },
  {
   "cell_type": "code",
   "execution_count": 71,
   "id": "3b532fd7",
   "metadata": {},
   "outputs": [
    {
     "name": "stdout",
     "output_type": "stream",
     "text": [
      "{'farqaleet', 'data', 'list', 'string'}\n"
     ]
    }
   ],
   "source": [
    "# Q30. Write a code to convert a list of strings into a set.\n",
    "\n",
    "list10 = [\"farqaleet\", \"data\", \"string\", \"list\", \"data\", \"farqaleet\", \"farqaleet\"]\n",
    "set8 = set(list10)\n",
    "print(set8)"
   ]
  },
  {
   "cell_type": "code",
   "execution_count": null,
   "id": "8c3af7e7",
   "metadata": {},
   "outputs": [],
   "source": []
  }
 ],
 "metadata": {
  "kernelspec": {
   "display_name": "Python 3",
   "language": "python",
   "name": "python3"
  },
  "language_info": {
   "codemirror_mode": {
    "name": "ipython",
    "version": 3
   },
   "file_extension": ".py",
   "mimetype": "text/x-python",
   "name": "python",
   "nbconvert_exporter": "python",
   "pygments_lexer": "ipython3",
   "version": "3.13.3"
  }
 },
 "nbformat": 4,
 "nbformat_minor": 5
}
