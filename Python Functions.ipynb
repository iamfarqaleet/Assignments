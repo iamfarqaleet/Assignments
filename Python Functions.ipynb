{
 "cells": [
  {
   "cell_type": "markdown",
   "id": "37015371",
   "metadata": {},
   "source": [
    "### Functions Theoratical Questions"
   ]
  },
  {
   "cell_type": "markdown",
   "id": "ba5d5d43",
   "metadata": {},
   "source": [
    "Q1. What is the difference between a function and a method in Python?\n",
    "- Function: A block of code that performs a specific task and is defined using the `def` keyword.\n",
    "- Method: A function that is associated with an object and is called using dot(`.`) notation."
   ]
  },
  {
   "cell_type": "markdown",
   "id": "2aaf0110",
   "metadata": {},
   "source": [
    "Q2. Explain the concept of function arguments and parameters in Python.\n",
    "- Parameters are the variables listed in a function's definition.\n",
    "- Arguments are the actual values passed to the function when it is called."
   ]
  },
  {
   "cell_type": "markdown",
   "id": "89e8b23f",
   "metadata": {},
   "source": [
    "Q3. What are the different ways to define and call a function in Python?\n",
    "- Define using `def`: Traditional function.\n",
    "- Define using `lambda`: Anonymous function.\n",
    "- Call: By using function name with parentheses and required arguments."
   ]
  },
  {
   "cell_type": "markdown",
   "id": "b6eb2959",
   "metadata": {},
   "source": [
    "Q4. What is the purpose of the `return` statement in a Python function?\n",
    "- It is used to send a result back to the caller and terminate the function."
   ]
  },
  {
   "cell_type": "markdown",
   "id": "58d11086",
   "metadata": {},
   "source": [
    "Q5. What are iterators in Python and how do they differ from iterables?\n",
    "- Iterable: An object capable of returning its members one by one (like list,tuple etc).\n",
    "- Iterator: An object with `__next__()` method and `__iter__()`."
   ]
  },
  {
   "cell_type": "markdown",
   "id": "74d23110",
   "metadata": {},
   "source": [
    "Q6. Explain the concept of generators in Python and how they are defined.\n",
    "- Generators are functions that yield values one at a time using `yield` instead of `return`."
   ]
  },
  {
   "cell_type": "markdown",
   "id": "fff576b9",
   "metadata": {},
   "source": [
    "Q7. What are the advantages of using generators over regular functions?\n",
    "- Memory efficient (don't store all values at once).\n",
    "- Lazy evaluation (computer values on demand)."
   ]
  },
  {
   "cell_type": "markdown",
   "id": "61ec00fe",
   "metadata": {},
   "source": [
    "Q8. What is a `lambda` function in Python and when is it typically used?\n",
    "- A small anonymous function defined with `lambda`.\n",
    "- Used when a short function is needed without defining it using `def`."
   ]
  },
  {
   "cell_type": "markdown",
   "id": "b7d6cb9f",
   "metadata": {},
   "source": [
    "Q9. Explain the purpose and usage of the `map()` function in Python.\n",
    "- Applies a function to all items in an iterable."
   ]
  },
  {
   "cell_type": "markdown",
   "id": "5d9ab2af",
   "metadata": {},
   "source": [
    "Q10. What is the difference between `map()`, `reduce()`, and `filter()` functions in Python?\n",
    "- `map()`: Applies a function to every item.\n",
    "- `filter()`: Filters items based on a condition.\n",
    "-  `reduce()`: Applies a function cumulatively to items (from `functools` module)"
   ]
  },
  {
   "cell_type": "markdown",
   "id": "874599e2",
   "metadata": {},
   "source": [
    "Q11. Using pen & Paper write the internal mechanism for sum operation using reduce function on this given list:[47,11,42,13];\n",
    "- ![Reduce Function](image.png)"
   ]
  },
  {
   "cell_type": "markdown",
   "id": "34f2e9d6",
   "metadata": {},
   "source": [
    "### Functions Practical Questions"
   ]
  },
  {
   "cell_type": "code",
   "execution_count": 53,
   "id": "c2ed8189",
   "metadata": {},
   "outputs": [
    {
     "data": {
      "text/plain": [
       "25"
      ]
     },
     "execution_count": 53,
     "metadata": {},
     "output_type": "execute_result"
    }
   ],
   "source": [
    "# Q1. Write a Python function that takes a list of numbers as input and returns the sum of all even numbers in the list.\n",
    "def sum_even(l):\n",
    "    s = 0\n",
    "    for i in l:\n",
    "        if i % 2 != 0:\n",
    "            s += i\n",
    "    return s\n",
    "\n",
    "\n",
    "l = [1, 2, 3, 4, 5, 6, 7, 8, 9, 10]\n",
    "sum_even(l)"
   ]
  },
  {
   "cell_type": "code",
   "execution_count": 9,
   "id": "99b48342",
   "metadata": {},
   "outputs": [
    {
     "data": {
      "text/plain": [
       "'!dlroW ,olleH'"
      ]
     },
     "execution_count": 9,
     "metadata": {},
     "output_type": "execute_result"
    }
   ],
   "source": [
    "# Q2. Create a Python function that accepts a string and returns the reverse of that string.\n",
    "def rev_str(s):\n",
    "    return s[::-1]\n",
    "\n",
    "\n",
    "str1 = \"Hello, World!\"\n",
    "rev_str(str1)"
   ]
  },
  {
   "cell_type": "code",
   "execution_count": 14,
   "id": "294f0c0b",
   "metadata": {},
   "outputs": [
    {
     "data": {
      "text/plain": [
       "[1, 4, 9, 16, 25]"
      ]
     },
     "execution_count": 14,
     "metadata": {},
     "output_type": "execute_result"
    }
   ],
   "source": [
    "# Q3. Implement a Python function that takes a list of integers and returns a new list containing the squares of each number.\n",
    "def sq_num(lst):\n",
    "    lst1 = []\n",
    "    for i in lst:\n",
    "        lst1.append(i**2)\n",
    "    return lst1\n",
    "\n",
    "\n",
    "l = [1, 2, 3, 4, 5]\n",
    "sq_num(l)"
   ]
  },
  {
   "cell_type": "code",
   "execution_count": 18,
   "id": "77177cce",
   "metadata": {},
   "outputs": [
    {
     "name": "stdout",
     "output_type": "stream",
     "text": [
      "2\n",
      "3\n",
      "5\n",
      "7\n",
      "11\n",
      "13\n",
      "17\n",
      "19\n",
      "23\n",
      "29\n",
      "31\n",
      "37\n",
      "41\n",
      "43\n",
      "47\n",
      "53\n",
      "59\n",
      "61\n",
      "67\n",
      "71\n",
      "73\n",
      "79\n",
      "83\n",
      "89\n",
      "97\n",
      "101\n",
      "103\n",
      "107\n",
      "109\n",
      "113\n",
      "127\n",
      "131\n",
      "137\n",
      "139\n",
      "149\n",
      "151\n",
      "157\n",
      "163\n",
      "167\n",
      "173\n",
      "179\n",
      "181\n",
      "191\n",
      "193\n",
      "197\n",
      "199\n"
     ]
    }
   ],
   "source": [
    "# Q4. Write a Python function that checks if a given number is prime or not from 1 to 200.\n",
    "def is_prime(n):\n",
    "    if n <= 1:\n",
    "        return False\n",
    "    if n == 2:\n",
    "        return True\n",
    "    if n % 2 == 0:\n",
    "        return False\n",
    "    for i in range(3, int(n**0.5) + 1, 2):\n",
    "        if n % i == 0:\n",
    "            return False\n",
    "    return True\n",
    "\n",
    "\n",
    "for number in range(1, 201):\n",
    "    if is_prime(number):\n",
    "        print(number)"
   ]
  },
  {
   "cell_type": "code",
   "execution_count": 41,
   "id": "bcc483d5",
   "metadata": {},
   "outputs": [
    {
     "data": {
      "text/plain": [
       "0"
      ]
     },
     "execution_count": 41,
     "metadata": {},
     "output_type": "execute_result"
    }
   ],
   "source": [
    "# Q5. Create an iterator class in Python that generates the Fibonacci sequence up to a specified number of terms.\n",
    "def fib(n):\n",
    "    a = 0\n",
    "    b = 1\n",
    "    for i in range(n):\n",
    "        yield a\n",
    "        a, b = b, a + b\n",
    "\n",
    "\n",
    "fibbo = fib(5)\n",
    "next(fibbo)"
   ]
  },
  {
   "cell_type": "code",
   "execution_count": 44,
   "id": "3a77898f",
   "metadata": {},
   "outputs": [
    {
     "name": "stdout",
     "output_type": "stream",
     "text": [
      "1 2 4 8 16 32 "
     ]
    }
   ],
   "source": [
    "# Q6. Write a generator function in Python that yields the powers of 2 up to a given exponent.\n",
    "def powers_of_two(exponent):\n",
    "    for i in range(exponent + 1):\n",
    "        yield 2**i\n",
    "\n",
    "\n",
    "for power in powers_of_two(5):\n",
    "    print(power, end=\" \")"
   ]
  },
  {
   "cell_type": "code",
   "execution_count": 47,
   "id": "7c4dd782",
   "metadata": {},
   "outputs": [
    {
     "name": "stdout",
     "output_type": "stream",
     "text": [
      "This\n",
      "is my\n",
      "python Code\n"
     ]
    }
   ],
   "source": [
    "# Q7. Implement a generator function that reads a file line by line and yields each line as a string.\n",
    "def read_file_line_by_line(filepath):\n",
    "    with open(filepath, \"r\") as file:\n",
    "        for line in file:\n",
    "            yield line.strip()\n",
    "\n",
    "\n",
    "for line in read_file_line_by_line(\"sample.txt\"):\n",
    "    print(line)"
   ]
  },
  {
   "cell_type": "code",
   "execution_count": null,
   "id": "66517bea",
   "metadata": {},
   "outputs": [
    {
     "name": "stdout",
     "output_type": "stream",
     "text": [
      "[(4, 1), (2, 3), (1, 5), (3, 7)]\n"
     ]
    }
   ],
   "source": [
    "# Q8. Use a lambda function in Python to sort a list of tuples based on the second element of each tuple.\n",
    "data = [(1, 5), (2, 3), (4, 1), (3, 7)]\n",
    "sorted_data = sorted(data, key=lambda x: x[1])\n",
    "print(sorted_data)"
   ]
  },
  {
   "cell_type": "code",
   "execution_count": 50,
   "id": "c8f30dea",
   "metadata": {},
   "outputs": [
    {
     "name": "stdout",
     "output_type": "stream",
     "text": [
      "[32.0, 68.0, 98.6, 212.0]\n"
     ]
    }
   ],
   "source": [
    "# Q9. Write a Python program that uses map() to convert a list of temperatures from Celsius to Fahrenheit.\n",
    "\n",
    "celsius = [0, 20, 37, 100]\n",
    "faherenhit = list(map(lambda c: (c * 9 / 5) + 32, celsius))\n",
    "print(faherenhit)"
   ]
  },
  {
   "cell_type": "code",
   "execution_count": 51,
   "id": "cbe6d523",
   "metadata": {},
   "outputs": [
    {
     "name": "stdout",
     "output_type": "stream",
     "text": [
      "Hll, Wrld!\n"
     ]
    }
   ],
   "source": [
    "# Q10. Create a Python program that uses filter() to remove all the vowels from a given string.\n",
    "input_string = \"Hello, World!\"\n",
    "no_vowels = \"\".join(filter(lambda ch: ch.lower() not in \"aeiou\", input_string))\n",
    "print(no_vowels)"
   ]
  },
  {
   "cell_type": "code",
   "execution_count": 52,
   "id": "5c51ecd1",
   "metadata": {},
   "outputs": [
    {
     "name": "stdout",
     "output_type": "stream",
     "text": [
      "[(34587, 163.8), (98762, 284.0), (77226, 108.85), (88112, 84.97)]\n"
     ]
    }
   ],
   "source": [
    "# Q11. Imagine an accounting routine used in a book shop. It works on a list with sublists, which look like this:\n",
    "orders = [\n",
    "    [34587, \"Learning Python, Mark Lutz\", 4, 40.95],\n",
    "    [98762, \"Programming Python, Mark Lutz\", 5, 56.80],\n",
    "    [77226, \"Head First Python, Paul Barry\", 3, 32.95],\n",
    "    [88112, \"Einführung in Python3, Bernd Klein\", 3, 24.99],\n",
    "]\n",
    "\n",
    "result = list(\n",
    "    map(\n",
    "        lambda order: (\n",
    "            order[0],\n",
    "            round(order[2] * order[3] + (10 if order[2] * order[3] < 100 else 0), 2),\n",
    "        ),\n",
    "        orders,\n",
    "    )\n",
    ")\n",
    "\n",
    "print(result)"
   ]
  }
 ],
 "metadata": {
  "kernelspec": {
   "display_name": "Python 3",
   "language": "python",
   "name": "python3"
  },
  "language_info": {
   "codemirror_mode": {
    "name": "ipython",
    "version": 3
   },
   "file_extension": ".py",
   "mimetype": "text/x-python",
   "name": "python",
   "nbconvert_exporter": "python",
   "pygments_lexer": "ipython3",
   "version": "3.13.3"
  }
 },
 "nbformat": 4,
 "nbformat_minor": 5
}
