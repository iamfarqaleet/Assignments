{
 "cells": [
  {
   "cell_type": "markdown",
   "id": "74427aa5",
   "metadata": {},
   "source": [
    "### Object-Oriented Programming System Theoratical Questions"
   ]
  },
  {
   "cell_type": "markdown",
   "id": "a17215ec",
   "metadata": {},
   "source": [
    "Q1. What is Object-Oriented Programming (OOPS)?\n",
    "- OOP is a programming paradigm based on the concept of objects, which contain data (attributes) and behaviour (methods). It helps organize code around real-world entities and supports reuse and modularity."
   ]
  },
  {
   "cell_type": "markdown",
   "id": "b532a62f",
   "metadata": {},
   "source": [
    "Q2. What is class in OOP?\n",
    "- A class is a blueprint or template for creating objects, defining their attribute and methods."
   ]
  },
  {
   "cell_type": "markdown",
   "id": "16309f35",
   "metadata": {},
   "source": [
    "Q3. What is an object in OOP?\n",
    "- An object is an instance of a class with actual values assigned to its attributes."
   ]
  },
  {
   "cell_type": "markdown",
   "id": "ce786dd6",
   "metadata": {},
   "source": [
    "Q4. What is the difference between abstraction and encapsulation?\n",
    "- **Abstraction:** Hides complex details and shows only essential features.\n",
    "- **Encapsulation:** Bundles data and methods, restricting direct acccess to some parts."
   ]
  },
  {
   "cell_type": "markdown",
   "id": "ecc62adb",
   "metadata": {},
   "source": [
    "Q5. What are dunder methods in Python?\n",
    "- Special methods with double underscroes like `__init__ `,`__str__`, that customize class behavior."
   ]
  },
  {
   "cell_type": "markdown",
   "id": "8620ad12",
   "metadata": {},
   "source": [
    "Q6. Explain the concept of inheritance in OOP.\n",
    "- Inheritance allows a subclass to acquire properties and methods from a parent class."
   ]
  },
  {
   "cell_type": "markdown",
   "id": "aa924061",
   "metadata": {},
   "source": [
    "Q7. What is polymorphism in OOP?\n",
    "- The ability to treat objects of different classes through a common interface, often via method overriding."
   ]
  },
  {
   "cell_type": "markdown",
   "id": "6a4e4d0f",
   "metadata": {},
   "source": [
    "Q8. How is encapsulation achieved in Python?\n",
    "- Using private/protected attributes (prefix `_` or `__`) and providing access via getter/setter methods or properties."
   ]
  },
  {
   "cell_type": "markdown",
   "id": "8bd4c4a5",
   "metadata": {},
   "source": [
    "Q9. What is a constructor in Python?\n",
    "- The `__init__` method used to initialize new objects."
   ]
  },
  {
   "cell_type": "markdown",
   "id": "15ef1874",
   "metadata": {},
   "source": [
    "Q10. What are class and static methods in Python?\n",
    "- **Class method:** Uses `@classmethod` decorator and takes `cls` as first parameter.\n",
    "- **Static method:** Uses `@staticmethod` decorator and takes no special first parameter."
   ]
  },
  {
   "cell_type": "markdown",
   "id": "f77b6567",
   "metadata": {},
   "source": [
    "Q11. What is method overloading in Python?\n",
    "- Python does not support traditional method overloading but simulate it using defaul parameters or `*args` and `**kwargs`."
   ]
  },
  {
   "cell_type": "markdown",
   "id": "f840ac13",
   "metadata": {},
   "source": [
    "Q12. What is method overriding in OOP?\n",
    "- A subclass provides a new implementation for a method inherited from its parent class."
   ]
  },
  {
   "cell_type": "markdown",
   "id": "68af7934",
   "metadata": {},
   "source": [
    "Q13. What is a property decorator in Python?\n",
    "- `@property` allows method access like an attribute, controlling access to variables."
   ]
  },
  {
   "cell_type": "markdown",
   "id": "74c06ef0",
   "metadata": {},
   "source": [
    "Q14. Why is polymorphism important in OOP?\n",
    "- It promotes flexibility by allowing the same interface for different underlying data types."
   ]
  },
  {
   "cell_type": "markdown",
   "id": "9cc68e7c",
   "metadata": {},
   "source": [
    "Q15. What is an abstract class in Python?\n",
    "- A class that cannot be instantiated and required subclasses to implement its abstract methods, defined using `abc` module."
   ]
  },
  {
   "cell_type": "markdown",
   "id": "00b64d93",
   "metadata": {},
   "source": [
    "Q16. What are the advantages of OOP?\n",
    "- Code reuse, modularity, easier maintenance, data hiding and flexible code through polymorphism."
   ]
  },
  {
   "cell_type": "markdown",
   "id": "f793c963",
   "metadata": {},
   "source": [
    "Q17. What is the difference between a class variable and an instance variable?\n",
    "- **Class variable:** Shared among all instances.\n",
    "- **Instance variable:** Unique to each object."
   ]
  },
  {
   "cell_type": "markdown",
   "id": "1825333d",
   "metadata": {},
   "source": [
    "Q18. What is multiple inheritance in Python?\n",
    "- A class can inherit from more than one parent class."
   ]
  },
  {
   "cell_type": "markdown",
   "id": "b4d233a8",
   "metadata": {},
   "source": [
    "Q19. Explain the purpose of `__str__` and `__repr__` methods in Python.\n",
    "- `__str__`: Returns a readable string representation for users.\n",
    "- `__repr__`: Return an official representation for developers."
   ]
  },
  {
   "cell_type": "markdown",
   "id": "20da33fb",
   "metadata": {},
   "source": [
    "Q20. What is the significance of the super() function in Python?\n",
    "- It calls a method from the parent class to extend or reuse functionality."
   ]
  },
  {
   "cell_type": "markdown",
   "id": "b3a43e36",
   "metadata": {},
   "source": [
    "Q21. What is the significance of the `__del__` method in Python?\n",
    "- A destructor called when an object is destroyed; used for cleanup."
   ]
  },
  {
   "cell_type": "markdown",
   "id": "94b5ff94",
   "metadata": {},
   "source": [
    "Q22. What is the difference between @staticmethod and @classmethod in Python?\n",
    "- `@staticmethod`: No access to class or instance\n",
    "- `@classmethod`: Has access to the class via `cls`."
   ]
  },
  {
   "cell_type": "markdown",
   "id": "c8dc5496",
   "metadata": {},
   "source": [
    "Q23. How does polymorphism work in Python with inheritance?\n",
    "- Overridden methods in subclasses are called based on the actual object type, allowing dynamic behavior."
   ]
  },
  {
   "cell_type": "markdown",
   "id": "70a072d0",
   "metadata": {},
   "source": [
    "Q24. What is method chaining in Python OOP?\n",
    "- Calling multiple methods in a single expression by returning `self` from methods."
   ]
  },
  {
   "cell_type": "markdown",
   "id": "7da0b597",
   "metadata": {},
   "source": [
    "Q25. What is the purpose of the `__call__` method in Python?\n",
    "- Allows an instance to be called like a function using `obj()` syntax."
   ]
  },
  {
   "cell_type": "markdown",
   "id": "40220cb3",
   "metadata": {},
   "source": [
    "### Object-Oriented Programming System Practical Questions"
   ]
  },
  {
   "cell_type": "code",
   "execution_count": 11,
   "id": "dd0c57bd",
   "metadata": {},
   "outputs": [
    {
     "name": "stdout",
     "output_type": "stream",
     "text": [
      "Animal speaks...\n",
      "Bark!\n"
     ]
    }
   ],
   "source": [
    "# Q1. Create a parent class Animal with a method speak() that prints a generic message. Create a child class Dog that overrides the speak() method to print \"Bark!\".\n",
    "\n",
    "\n",
    "class Animal:\n",
    "    def speak(self):\n",
    "        print(\"Animal speaks...\")\n",
    "\n",
    "\n",
    "class Dog(Animal):\n",
    "    def speak(self):\n",
    "        print(\"Bark!\")\n",
    "\n",
    "\n",
    "a = Animal()\n",
    "a.speak()\n",
    "\n",
    "d = Dog()\n",
    "d.speak()"
   ]
  },
  {
   "cell_type": "code",
   "execution_count": 12,
   "id": "ab8111ff",
   "metadata": {},
   "outputs": [
    {
     "name": "stdout",
     "output_type": "stream",
     "text": [
      "78.5\n",
      "24\n"
     ]
    }
   ],
   "source": [
    "# Q2. Create an abstract class Shape with a method area(). Derive classes Circle and Rectangle from it and implement the area() method in both.\n",
    "\n",
    "from abc import ABC, abstractmethod\n",
    "\n",
    "\n",
    "class Shape(ABC):\n",
    "    @abstractmethod\n",
    "    def area(self):\n",
    "        pass\n",
    "\n",
    "\n",
    "class Circle(Shape):\n",
    "    def __init__(self, radius):\n",
    "        self.radius = radius\n",
    "\n",
    "    def area(self):\n",
    "        return 3.14 * self.radius * self.radius\n",
    "\n",
    "\n",
    "class Rectangle(Shape):\n",
    "    def __init__(self, width, height):\n",
    "        self.width = width\n",
    "        self.height = height\n",
    "\n",
    "    def area(self):\n",
    "        return self.width * self.height\n",
    "\n",
    "\n",
    "c = Circle(5)\n",
    "print(c.area())\n",
    "\n",
    "r = Rectangle(4, 6)\n",
    "print(r.area())"
   ]
  },
  {
   "cell_type": "code",
   "execution_count": 13,
   "id": "5c173bf2",
   "metadata": {},
   "outputs": [
    {
     "name": "stdout",
     "output_type": "stream",
     "text": [
      "Four Wheeler Tesla 100kWh\n"
     ]
    }
   ],
   "source": [
    "# Q3. Implement a multi-level inheritance scenario where a class Vehicle has an attribute type. Derive a class Car and further derive a class ElectricCar that adds a battery attribute.\n",
    "class Vehicle:\n",
    "    def __init__(self, type):\n",
    "        self.type = type\n",
    "\n",
    "\n",
    "class Car(Vehicle):\n",
    "    def __init__(self, type, brand):\n",
    "        super().__init__(type)\n",
    "        self.brand = brand\n",
    "\n",
    "\n",
    "class ElectricCar(Car):\n",
    "    def __init__(self, type, brand, battery):\n",
    "        super().__init__(type, brand)\n",
    "        self.battery = battery\n",
    "\n",
    "\n",
    "ecar = ElectricCar(\"Four Wheeler\", \"Tesla\", \"100kWh\")\n",
    "print(ecar.type, ecar.brand, ecar.battery)"
   ]
  },
  {
   "cell_type": "code",
   "execution_count": 14,
   "id": "334220b7",
   "metadata": {},
   "outputs": [
    {
     "name": "stdout",
     "output_type": "stream",
     "text": [
      "Sparrow flies high\n",
      "Penguin can't fly\n"
     ]
    }
   ],
   "source": [
    "# Q4. Demonstrate polymorphism by creating a base class Bird with a method fly(). Create two derived classes Sparrow and Penguin that override the fly() method.\n",
    "class Bird:\n",
    "    def fly(self):\n",
    "        print(\"Bird can fly\")\n",
    "\n",
    "\n",
    "class Sparrow(Bird):\n",
    "    def fly(self):\n",
    "        print(\"Sparrow flies high\")\n",
    "\n",
    "\n",
    "class Penguin(Bird):\n",
    "    def fly(self):\n",
    "        print(\"Penguin can't fly\")\n",
    "\n",
    "\n",
    "birds = [Sparrow(), Penguin()]\n",
    "for bird in birds:\n",
    "    bird.fly()"
   ]
  },
  {
   "cell_type": "code",
   "execution_count": 15,
   "id": "d00c1588",
   "metadata": {},
   "outputs": [
    {
     "name": "stdout",
     "output_type": "stream",
     "text": [
      "700\n"
     ]
    }
   ],
   "source": [
    "# Q5. Write a program to demonstrate encapsulation by creating a class BankAccount with private attributes balance and methods to deposit, withdraw, and check balance.\n",
    "class BankAccount:\n",
    "    def __init__(self, balance=0):\n",
    "        self.__balance = balance\n",
    "\n",
    "    def deposit(self, amount):\n",
    "        self.__balance += amount\n",
    "\n",
    "    def withdraw(self, amount):\n",
    "        if amount <= self.__balance:\n",
    "            self.__balance -= amount\n",
    "        else:\n",
    "            print(\"Insufficient funds\")\n",
    "\n",
    "    def get_balance(self):\n",
    "        return self.__balance\n",
    "\n",
    "\n",
    "acc = BankAccount()\n",
    "acc.deposit(1000)\n",
    "acc.withdraw(300)\n",
    "print(acc.get_balance())"
   ]
  },
  {
   "cell_type": "code",
   "execution_count": 16,
   "id": "fb8ee350",
   "metadata": {},
   "outputs": [
    {
     "name": "stdout",
     "output_type": "stream",
     "text": [
      "Guitar is strumming\n",
      "Piano is playing melody\n"
     ]
    }
   ],
   "source": [
    "# Q6. Demonstrate runtime polymorphism using a method play() in a base class Instrument. Derive classes Guitar and Piano that implement their own version of play().\n",
    "class Instrument:\n",
    "    def play(self):\n",
    "        print(\"Instrument is playing\")\n",
    "\n",
    "\n",
    "class Guitar(Instrument):\n",
    "    def play(self):\n",
    "        print(\"Guitar is strumming\")\n",
    "\n",
    "\n",
    "class Piano(Instrument):\n",
    "    def play(self):\n",
    "        print(\"Piano is playing melody\")\n",
    "\n",
    "\n",
    "for instr in [Guitar(), Piano()]:\n",
    "    instr.play()"
   ]
  },
  {
   "cell_type": "code",
   "execution_count": 17,
   "id": "0875e01d",
   "metadata": {},
   "outputs": [
    {
     "name": "stdout",
     "output_type": "stream",
     "text": [
      "8\n",
      "6\n"
     ]
    }
   ],
   "source": [
    "# Q7. Create a class MathOperations with a class method add_numbers() to add two numbers and a static method subtract_numbers() to subtract two numbers.\n",
    "class MathOperations:\n",
    "    @classmethod\n",
    "    def add_numbers(cls, a, b):\n",
    "        return a + b\n",
    "\n",
    "    @staticmethod\n",
    "    def subtract_numbers(a, b):\n",
    "        return a - b\n",
    "\n",
    "\n",
    "print(MathOperations.add_numbers(5, 3))\n",
    "print(MathOperations.subtract_numbers(10, 4))"
   ]
  },
  {
   "cell_type": "code",
   "execution_count": 18,
   "id": "c1882a73",
   "metadata": {},
   "outputs": [
    {
     "name": "stdout",
     "output_type": "stream",
     "text": [
      "2\n"
     ]
    }
   ],
   "source": [
    "# Q8. Implement a class Person with a class method to count the total number of persons created.\n",
    "class Person:\n",
    "    count = 0\n",
    "\n",
    "    def __init__(self, name):\n",
    "        self.name = name\n",
    "        Person.count += 1\n",
    "\n",
    "    @classmethod\n",
    "    def total_persons(cls):\n",
    "        return cls.count\n",
    "\n",
    "\n",
    "p1 = Person(\"Alice\")\n",
    "p2 = Person(\"Bob\")\n",
    "print(Person.total_persons())"
   ]
  },
  {
   "cell_type": "code",
   "execution_count": null,
   "id": "6298cf01",
   "metadata": {},
   "outputs": [
    {
     "name": "stdout",
     "output_type": "stream",
     "text": [
      "3/4\n"
     ]
    }
   ],
   "source": [
    "# Q9. Write a class Fraction with attributes numerator and denominator. Override the str method to display the fraction as \"numerator/denominator\".\n",
    "class Fraction:\n",
    "    def __init__(self, numerator, denominator):\n",
    "        self.numerator = numerator\n",
    "        self.denominator = denominator\n",
    "\n",
    "    def __str__(self):\n",
    "        return f\"{self.numerator}/{self.denominator}\"\n",
    "\n",
    "\n",
    "f = Fraction(3, 4)\n",
    "print(f)"
   ]
  },
  {
   "cell_type": "code",
   "execution_count": 20,
   "id": "0b338214",
   "metadata": {},
   "outputs": [
    {
     "name": "stdout",
     "output_type": "stream",
     "text": [
      "(3, 7)\n"
     ]
    }
   ],
   "source": [
    "# Q10. Demonstrate operator overloading by creating a class Vector and overriding the add method to add two vectors.\n",
    "class Vector:\n",
    "    def __init__(self, x, y):\n",
    "        self.x = x\n",
    "        self.y = y\n",
    "\n",
    "    def __add__(self, other):\n",
    "        return Vector(self.x + other.x, self.y + other.y)\n",
    "\n",
    "    def __str__(self):\n",
    "        return f\"({self.x}, {self.y})\"\n",
    "\n",
    "\n",
    "v1 = Vector(2, 3)\n",
    "v2 = Vector(1, 4)\n",
    "v3 = v1 + v2\n",
    "print(v3)"
   ]
  },
  {
   "cell_type": "code",
   "execution_count": 21,
   "id": "0fc5ddb7",
   "metadata": {},
   "outputs": [
    {
     "name": "stdout",
     "output_type": "stream",
     "text": [
      "Hello, my name is John and I am 25 years old.\n"
     ]
    }
   ],
   "source": [
    "# Q11. Create a class Person with attributes name and age. Add a method greet() that prints \"Hello, my name is {name} and I am {age} years old.\"\n",
    "class Person:\n",
    "    def __init__(self, name, age):\n",
    "        self.name = name\n",
    "        self.age = age\n",
    "\n",
    "    def greet(self):\n",
    "        print(f\"Hello, my name is {self.name} and I am {self.age} years old.\")\n",
    "\n",
    "\n",
    "p = Person(\"John\", 25)\n",
    "p.greet()"
   ]
  },
  {
   "cell_type": "code",
   "execution_count": 22,
   "id": "93bf10e1",
   "metadata": {},
   "outputs": [
    {
     "name": "stdout",
     "output_type": "stream",
     "text": [
      "84.33333333333333\n"
     ]
    }
   ],
   "source": [
    "# Q12. Implement a class Student with attributes name and grades. Create a method average_grade() to compute the average of the grades.\n",
    "class Student:\n",
    "    def __init__(self, name, grades):\n",
    "        self.name = name\n",
    "        self.grades = grades\n",
    "\n",
    "    def average_grade(self):\n",
    "        return sum(self.grades) / len(self.grades)\n",
    "\n",
    "\n",
    "s = Student(\"Emma\", [85, 90, 78])\n",
    "print(s.average_grade())"
   ]
  },
  {
   "cell_type": "code",
   "execution_count": 23,
   "id": "cffce02c",
   "metadata": {},
   "outputs": [
    {
     "name": "stdout",
     "output_type": "stream",
     "text": [
      "20\n"
     ]
    }
   ],
   "source": [
    "# Q13. Create a class Rectangle with methods set_dimensions() to set the dimensions and area() to calculate the area.\n",
    "class Rectangle:\n",
    "    def set_dimensions(self, width, height):\n",
    "        self.width = width\n",
    "        self.height = height\n",
    "\n",
    "    def area(self):\n",
    "        return self.width * self.height\n",
    "\n",
    "\n",
    "r = Rectangle()\n",
    "r.set_dimensions(5, 4)\n",
    "print(r.area())"
   ]
  },
  {
   "cell_type": "code",
   "execution_count": 24,
   "id": "d73c0b7f",
   "metadata": {},
   "outputs": [
    {
     "name": "stdout",
     "output_type": "stream",
     "text": [
      "2000\n",
      "2500\n"
     ]
    }
   ],
   "source": [
    "# Q14. Create a class Employee with a method calculate_salary() that computes the salary based on hours worked and hourly rate. Create a derived class Manager that adds a bonus.\n",
    "class Employee:\n",
    "    def __init__(self, hours_worked, hourly_rate):\n",
    "        self.hours_worked = hours_worked\n",
    "        self.hourly_rate = hourly_rate\n",
    "\n",
    "    def calculate_salary(self):\n",
    "        return self.hours_worked * self.hourly_rate\n",
    "\n",
    "\n",
    "class Manager(Employee):\n",
    "    def __init__(self, hours_worked, hourly_rate, bonus):\n",
    "        super().__init__(hours_worked, hourly_rate)\n",
    "        self.bonus = bonus\n",
    "\n",
    "    def calculate_salary(self):\n",
    "        return super().calculate_salary() + self.bonus\n",
    "\n",
    "\n",
    "e = Employee(40, 50)\n",
    "print(e.calculate_salary())\n",
    "\n",
    "m = Manager(40, 50, 500)\n",
    "print(m.calculate_salary())"
   ]
  },
  {
   "cell_type": "code",
   "execution_count": 25,
   "id": "c4afb857",
   "metadata": {},
   "outputs": [
    {
     "name": "stdout",
     "output_type": "stream",
     "text": [
      "50\n"
     ]
    }
   ],
   "source": [
    "# Q15. Create a class Product with attributes name, price, and quantity. Implement a method total_price() that calculates the total price of the product.\n",
    "class Product:\n",
    "    def __init__(self, name, price, quantity):\n",
    "        self.name = name\n",
    "        self.price = price\n",
    "        self.quantity = quantity\n",
    "\n",
    "    def total_price(self):\n",
    "        return self.price * self.quantity\n",
    "\n",
    "\n",
    "p = Product(\"Pen\", 10, 5)\n",
    "print(p.total_price())"
   ]
  },
  {
   "cell_type": "code",
   "execution_count": 26,
   "id": "860f2577",
   "metadata": {},
   "outputs": [
    {
     "name": "stdout",
     "output_type": "stream",
     "text": [
      "Moo\n",
      "Baa\n"
     ]
    }
   ],
   "source": [
    "# Q16. Create a class Animal with an abstract method sound(). Create two derived classes Cow and Sheep that implement the sound() method.\n",
    "from abc import ABC, abstractmethod\n",
    "\n",
    "\n",
    "class Animal(ABC):\n",
    "    @abstractmethod\n",
    "    def sound(self):\n",
    "        pass\n",
    "\n",
    "\n",
    "class Cow(Animal):\n",
    "    def sound(self):\n",
    "        print(\"Moo\")\n",
    "\n",
    "\n",
    "class Sheep(Animal):\n",
    "    def sound(self):\n",
    "        print(\"Baa\")\n",
    "\n",
    "\n",
    "c = Cow()\n",
    "c.sound()\n",
    "s = Sheep()\n",
    "s.sound()"
   ]
  },
  {
   "cell_type": "code",
   "execution_count": 27,
   "id": "31cbae76",
   "metadata": {},
   "outputs": [
    {
     "name": "stdout",
     "output_type": "stream",
     "text": [
      "'1984' by George Orwell, published in 1949\n"
     ]
    }
   ],
   "source": [
    "# Q17. Create a class Book with attributes title, author, and year_published. Add a method get_book_info() that returns a formatted string with the book's details.\n",
    "class Book:\n",
    "    def __init__(self, title, author, year_published):\n",
    "        self.title = title\n",
    "        self.author = author\n",
    "        self.year_published = year_published\n",
    "\n",
    "    def get_book_info(self):\n",
    "        return f\"'{self.title}' by {self.author}, published in {self.year_published}\"\n",
    "\n",
    "\n",
    "b = Book(\"1984\", \"George Orwell\", 1949)\n",
    "print(b.get_book_info())"
   ]
  },
  {
   "cell_type": "code",
   "execution_count": 29,
   "id": "5fb42904",
   "metadata": {},
   "outputs": [
    {
     "name": "stdout",
     "output_type": "stream",
     "text": [
      "123 Elite St 5000000 12\n"
     ]
    }
   ],
   "source": [
    "# Q18. Create a class House with attributes address and price.Create a derived class Mansion that adds an attribute number_of_rooms.\n",
    "class House:\n",
    "    def __init__(self, address, price):\n",
    "        self.address = address\n",
    "        self.price = price\n",
    "\n",
    "\n",
    "class Mansion(House):\n",
    "    def __init__(self, address, price, number_of_rooms):\n",
    "        super().__init__(address, price)\n",
    "        self.number_of_rooms = number_of_rooms\n",
    "\n",
    "\n",
    "m = Mansion(\"123 Elite St\", 5000000, 12)\n",
    "print(m.address, m.price, m.number_of_rooms)"
   ]
  }
 ],
 "metadata": {
  "kernelspec": {
   "display_name": "Python 3",
   "language": "python",
   "name": "python3"
  },
  "language_info": {
   "codemirror_mode": {
    "name": "ipython",
    "version": 3
   },
   "file_extension": ".py",
   "mimetype": "text/x-python",
   "name": "python",
   "nbconvert_exporter": "python",
   "pygments_lexer": "ipython3",
   "version": "3.13.3"
  }
 },
 "nbformat": 4,
 "nbformat_minor": 5
}
