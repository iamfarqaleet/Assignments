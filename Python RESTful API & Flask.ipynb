{
 "cells": [
  {
   "cell_type": "markdown",
   "id": "fa35c36d",
   "metadata": {},
   "source": [
    "### RESTful API and Flask Theoratical Questions"
   ]
  },
  {
   "cell_type": "markdown",
   "id": "d49e6d30",
   "metadata": {},
   "source": [
    "Q1. What is a RESTful API?\n",
    "- A RESTful API follows the principles of REST (Representational State Transfer) to allow communication between a client and a server using standard HTTP methods. It is stateless and uses URLs to access resources."
   ]
  },
  {
   "cell_type": "markdown",
   "id": "a5d9669c",
   "metadata": {},
   "source": [
    "Q2. Explain the concept of API specification.\n",
    "- An API specification defines the structure, endpoints, request/response formats, and protocols of an API. It serves as a blueprint for developers to build or integrate with the API. Examples include OpenAPI/Swagger specifications."
   ]
  },
  {
   "cell_type": "markdown",
   "id": "f8652675",
   "metadata": {},
   "source": [
    "Q3. What is Flask, and why is it popular for building APIs?\n",
    "- Flask is a lightweight and flexible Python web framework. It's popular for building APIs because it is simple to use, requires minimal setup, and allows easy integration with extensions for database handling, security, and API development."
   ]
  },
  {
   "cell_type": "markdown",
   "id": "5edc539e",
   "metadata": {},
   "source": [
    "Q4. What is routing in Flask?\n",
    "- Routing in Flask is the process of defining URL patterns that are linked to Python functions. These functions are called when their associated URL is requested."
   ]
  },
  {
   "cell_type": "markdown",
   "id": "461c7ccb",
   "metadata": {},
   "source": [
    "Q5. How do you create a simple Flask application?\n",
    "``` \n",
    "    from flask import Flask\n",
    "    app = Flask(__name__)\n",
    "\n",
    "    @app.route('/')\n",
    "    def home():\n",
    "        return 'Hello, World!'\n",
    "\n",
    "    if __name__ == '__main__':\n",
    "        app.run()\n"
   ]
  },
  {
   "cell_type": "markdown",
   "id": "0b2b6f53",
   "metadata": {},
   "source": [
    "Q6. What are HTTP methods used in RESTful APIs?\n",
    "1. GET – Retrieve data\n",
    "2. POST – Create data\n",
    "3. PUT – Update data\n",
    "4. DELETE – Delete data\n",
    "5. PATCH – Partially update data"
   ]
  },
  {
   "cell_type": "markdown",
   "id": "cb448ccd",
   "metadata": {},
   "source": [
    "Q7. What is the purpose of the @app.route() decorator in Flask?\n",
    "- It maps a URL route to a specific function in the Flask app, determining what code runs when that URL is accessed."
   ]
  },
  {
   "cell_type": "markdown",
   "id": "e58f5bff",
   "metadata": {},
   "source": [
    "Q8. What is the difference between GET and POST HTTP methods?\n",
    "- GET: Used to retrieve data. Parameters are passed in the URL.\n",
    "- POST: Used to submit data to the server. Parameters are sent in the request body."
   ]
  },
  {
   "cell_type": "markdown",
   "id": "34d5d9f6",
   "metadata": {},
   "source": [
    "Q9. How do you handle errors in Flask APIs?\n",
    "- Use error handlers:\n",
    "```\n",
    "    @app.errorhandler(404)\n",
    "    def not_found(e):\n",
    "        return {'error': 'Not Found'}, 404\n"
   ]
  },
  {
   "cell_type": "markdown",
   "id": "77edd507",
   "metadata": {},
   "source": [
    "Q10. How do you connect Flask to a SQL database?\n",
    "```\n",
    "    from flask_sqlalchemy import SQLAlchemy\n",
    "    app.config['SQLALCHEMY_DATABASE_URI'] = 'sqlite:///data.db'\n",
    "    db = SQLAlchemy(app)"
   ]
  },
  {
   "cell_type": "markdown",
   "id": "5ab12426",
   "metadata": {},
   "source": [
    "Q11. What is the role of Flask-SQLAlchemy?\n",
    "- Flask-SQLAlchemy simplifies database operations by providing an Object Relational Mapper (ORM) to interact with SQL databases using Python classes and objects."
   ]
  },
  {
   "cell_type": "markdown",
   "id": "a4d37a05",
   "metadata": {},
   "source": [
    "Q12. What are Flask blueprints, and how are they useful?\n",
    "- Blueprints allow you to organize Flask applications into modular components, making large applications easier to maintain and reuse."
   ]
  },
  {
   "cell_type": "markdown",
   "id": "78db6c7d",
   "metadata": {},
   "source": [
    "Q13. What is the purpose of Flask's request object?\n",
    "- The `request` object provides access to incoming request data such as form fields, JSON data, headers, and query parameters."
   ]
  },
  {
   "cell_type": "markdown",
   "id": "c91e0d82",
   "metadata": {},
   "source": [
    "Q14. How do you create a RESTful API endpoint using Flask?\n",
    "```\n",
    "    from flask import Flask, jsonify\n",
    "    \n",
    "    @app.route('/api/data', methods=['GET'])\n",
    "    def get_data():\n",
    "        return jsonify({'message': 'Hello API'})\n"
   ]
  },
  {
   "cell_type": "markdown",
   "id": "52731bd6",
   "metadata": {},
   "source": [
    "Q15. What is the purpose of Flask's jsonify() function?\n",
    "- `jsonify()` serializes Python dictionaries into JSON format and sets the correct Content-Type (`application/json`) for the response."
   ]
  },
  {
   "cell_type": "markdown",
   "id": "cdb55981",
   "metadata": {},
   "source": [
    "Q16. Explain Flask’s url_for() function.\n",
    "- `url_for()` dynamically generates URLs for routes using the function name, avoiding hardcoding URLs in the application."
   ]
  },
  {
   "cell_type": "markdown",
   "id": "b5b9d939",
   "metadata": {},
   "source": [
    "Q17. How does Flask handle static files (CSS, JavaScript, etc.)?\n",
    "- Flask serves static files from the static/ directory. Example usage:\n",
    "```\n",
    "    <link rel=\"stylesheet\" href=\"{{ url_for('static', filename='style.css') }}\">"
   ]
  },
  {
   "cell_type": "markdown",
   "id": "d3155ca4",
   "metadata": {},
   "source": [
    "Q18. What is an API specification, and how does it help in building a Flask API?\n",
    "- An API specification defines API structure and behavior, helping developers understand the available endpoints, required inputs, and expected outputs, ensuring consistency in API development."
   ]
  },
  {
   "cell_type": "markdown",
   "id": "8f913fd4",
   "metadata": {},
   "source": [
    "Q19. What are HTTP status codes, and why are they important in a Flask API?\n",
    "- HTTP status codes indicate the result of a client's request (e.g., 200 OK, 404 Not Found). They are crucial for communicating success or failure between server and client."
   ]
  },
  {
   "cell_type": "markdown",
   "id": "3e4f8f39",
   "metadata": {},
   "source": [
    "Q20. How do you handle POST requests in Flask?\n",
    "```\n",
    "    from flask import request\n",
    "    \n",
    "    @app.route('/submit', methods=['POST'])\n",
    "    def submit():\n",
    "        data = request.get_json()\n",
    "        return jsonify(data), 201\n"
   ]
  },
  {
   "cell_type": "markdown",
   "id": "4144cfd5",
   "metadata": {},
   "source": [
    "Q21. How would you secure a Flask API?\n",
    "- Use HTTPS\n",
    "- Validate and sanitize inputs\n",
    "- Implement authentication (e.g., JWT, OAuth)\n",
    "- Handle errors securely\n",
    "- Apply rate limiting and CSRF protection"
   ]
  },
  {
   "cell_type": "markdown",
   "id": "a13d3c20",
   "metadata": {},
   "source": [
    "Q22. What is the significance of the Flask-RESTful extension?\n",
    "- Flask-RESTful simplifies API development by providing tools for resource routing, request parsing, and automated response formatting in JSON."
   ]
  },
  {
   "cell_type": "markdown",
   "id": "b24908b5",
   "metadata": {},
   "source": [
    "Q23. What is the role of Flask’s session object?\n",
    "- The session object allows you to store data (like user information) across requests for a client, typically using cookies."
   ]
  },
  {
   "cell_type": "markdown",
   "id": "414801ef",
   "metadata": {},
   "source": [
    "### RESTful API and Flask Practical Questions"
   ]
  },
  {
   "cell_type": "code",
   "execution_count": 2,
   "id": "0b8772c3",
   "metadata": {},
   "outputs": [
    {
     "name": "stdout",
     "output_type": "stream",
     "text": [
      " * Serving Flask app '__main__'\n",
      " * Debug mode: off\n"
     ]
    },
    {
     "name": "stderr",
     "output_type": "stream",
     "text": [
      "WARNING: This is a development server. Do not use it in a production deployment. Use a production WSGI server instead.\n",
      " * Running on http://127.0.0.1:5000\n",
      "Press CTRL+C to quit\n"
     ]
    }
   ],
   "source": [
    "# Q1. How do you create a basic Flask application?\n",
    "\n",
    "from flask import Flask\n",
    "\n",
    "app = Flask(__name__)\n",
    "\n",
    "\n",
    "@app.route(\"/\")\n",
    "def home():\n",
    "    return \"Hello, Flask!\"\n",
    "\n",
    "\n",
    "if __name__ == \"__main__\":\n",
    "    app.run()"
   ]
  },
  {
   "cell_type": "code",
   "execution_count": null,
   "id": "cfcf8185",
   "metadata": {},
   "outputs": [],
   "source": [
    "# Q2. How do you serve static files like images or CSS in Flask?\n",
    "# Place files in the static/ folder. Access them like:\n",
    "<link rel=\"stylesheet\" href=\"{{ url_for('static', filename='style.css') }}\">\n",
    "<img src=\"{{ url_for('static', filename='image.png') }}\">"
   ]
  },
  {
   "cell_type": "code",
   "execution_count": 3,
   "id": "5bfdd8d1",
   "metadata": {},
   "outputs": [],
   "source": [
    "# Q3. How do you define different routes with different HTTP methods in Flask?\n",
    "\n",
    "\n",
    "@app.route(\"/data\", methods=[\"GET\", \"POST\"])\n",
    "def data():\n",
    "    if request.method == \"POST\":\n",
    "        return \"POST Request\"\n",
    "    return \"GET Request\""
   ]
  },
  {
   "cell_type": "code",
   "execution_count": null,
   "id": "3b7c2e21",
   "metadata": {},
   "outputs": [],
   "source": [
    "# Q4. How do you render HTML templates in Flask?\n",
    "\n",
    "from flask import render_template\n",
    "\n",
    "\n",
    "@app.route(\"/home\")\n",
    "def home():\n",
    "    return render_template(\"index.html\")\n",
    "\n",
    "\n",
    "# Templates are stored in the templates/ folder."
   ]
  },
  {
   "cell_type": "code",
   "execution_count": null,
   "id": "6cf0fa2a",
   "metadata": {},
   "outputs": [],
   "source": [
    "# Q5. How can you generate URLs for routes in Flask using url_for()?\n",
    "\n",
    "url_for(\"home\")  # Generates URL for the 'home' view function"
   ]
  },
  {
   "cell_type": "code",
   "execution_count": null,
   "id": "c3719170",
   "metadata": {},
   "outputs": [],
   "source": [
    "# Q6. How do you handle forms in Flask?\n",
    "\n",
    "from flask import request\n",
    "\n",
    "\n",
    "@app.route(\"/submit\", methods=[\"POST\"])\n",
    "def submit():\n",
    "    name = request.form[\"name\"]\n",
    "    return f\"Hello {name}\""
   ]
  },
  {
   "cell_type": "code",
   "execution_count": null,
   "id": "65f8dc74",
   "metadata": {},
   "outputs": [],
   "source": [
    "# Q7. How can you validate form data in Flask?\n",
    "# Using WTForms:\n",
    "\n",
    "from flask_wtf import FlaskForm\n",
    "from wtforms import StringField, validators\n",
    "\n",
    "\n",
    "class MyForm(FlaskForm):\n",
    "    name = StringField(\"Name\", [validators.DataRequired()])"
   ]
  },
  {
   "cell_type": "code",
   "execution_count": null,
   "id": "366f78b9",
   "metadata": {},
   "outputs": [],
   "source": [
    "# Q8. How do you manage sessions in Flask?\n",
    "\n",
    "from flask import session\n",
    "\n",
    "app.secret_key = \"secret_key\"\n",
    "session[\"username\"] = \"admin\""
   ]
  },
  {
   "cell_type": "code",
   "execution_count": null,
   "id": "0be92c71",
   "metadata": {},
   "outputs": [],
   "source": [
    "# Q9. How do you redirect to a different route in Flask?\n",
    "\n",
    "from flask import redirect, url_for\n",
    "\n",
    "return redirect(url_for(\"home\"))"
   ]
  },
  {
   "cell_type": "code",
   "execution_count": null,
   "id": "2abd0328",
   "metadata": {},
   "outputs": [],
   "source": [
    "# Q10. How do you handle errors in Flask (e.g., 404)?\n",
    "\n",
    "\n",
    "@app.errorhandler(404)\n",
    "def not_found(e):\n",
    "    return \"Page not found\", 404"
   ]
  },
  {
   "cell_type": "code",
   "execution_count": null,
   "id": "f694877c",
   "metadata": {},
   "outputs": [],
   "source": [
    "# Q11. How do you structure a Flask app using Blueprints?\n",
    "# Blueprint creation:\n",
    "\n",
    "from flask import Blueprint\n",
    "\n",
    "bp = Blueprint(\"bp\", __name__)\n",
    "\n",
    "\n",
    "@bp.route(\"/hello\")\n",
    "def hello():\n",
    "    return \"Hello from Blueprint\"\n",
    "\n",
    "\n",
    "# Register in main app:\n",
    "\n",
    "app.register_blueprint(bp)"
   ]
  },
  {
   "cell_type": "code",
   "execution_count": null,
   "id": "ff4c0b1d",
   "metadata": {},
   "outputs": [],
   "source": [
    "# Q12. How do you define a custom Jinja filter in Flask?\n",
    "\n",
    "\n",
    "@app.template_filter(\"reverse\")\n",
    "def reverse_filter(s):\n",
    "    return s[::-1]"
   ]
  },
  {
   "cell_type": "code",
   "execution_count": null,
   "id": "99413f71",
   "metadata": {},
   "outputs": [],
   "source": [
    "# Q13. How can you redirect with query parameters in Flask?\n",
    "\n",
    "return redirect(url_for(\"search\", q=\"flask\"))"
   ]
  },
  {
   "cell_type": "code",
   "execution_count": null,
   "id": "684dfc94",
   "metadata": {},
   "outputs": [],
   "source": [
    "# Q14. How do you return JSON responses in Flask?\n",
    "\n",
    "from flask import jsonify\n",
    "\n",
    "return jsonify({\"key\": \"value\"})"
   ]
  },
  {
   "cell_type": "code",
   "execution_count": null,
   "id": "99dc2f68",
   "metadata": {},
   "outputs": [],
   "source": [
    "# Q15. How do you capture URL parameters in Flask?\n",
    "\n",
    "\n",
    "@app.route(\"/user/<username>\")\n",
    "def show_user(username):\n",
    "    return f\"User {username}\""
   ]
  }
 ],
 "metadata": {
  "kernelspec": {
   "display_name": "Python 3",
   "language": "python",
   "name": "python3"
  },
  "language_info": {
   "codemirror_mode": {
    "name": "ipython",
    "version": 3
   },
   "file_extension": ".py",
   "mimetype": "text/x-python",
   "name": "python",
   "nbconvert_exporter": "python",
   "pygments_lexer": "ipython3",
   "version": "3.13.3"
  }
 },
 "nbformat": 4,
 "nbformat_minor": 5
}
